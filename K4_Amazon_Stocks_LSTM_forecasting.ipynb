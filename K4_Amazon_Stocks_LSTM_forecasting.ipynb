{
  "cells": [
    {
      "cell_type": "markdown",
      "metadata": {
        "id": "view-in-github",
        "colab_type": "text"
      },
      "source": [
        "<a href=\"https://colab.research.google.com/github/Darshan0902/2024-MACHINE-LEARNING-.-/blob/K4%7CLSTM-model-for-Amazon-stocks(1997-2011)/K4_Amazon_Stocks_LSTM_forecasting.ipynb\" target=\"_parent\"><img src=\"https://colab.research.google.com/assets/colab-badge.svg\" alt=\"Open In Colab\"/></a>"
      ]
    },
    {
      "cell_type": "markdown",
      "source": [
        " ## **Hello! I'm Darshan D. Prabhu,**\n",
        "\n",
        "---\n",
        "\n",
        " A  Data Scientist passionate about leveraging data-driven insights to solve real-world problems. With a background in Artificial Intelligence and Machine Learning, I specialize in Data Science and Data driven projects.\n",
        "\n",
        "\n",
        "*Let's connect and explore opportunities together:*\n",
        "\n",
        "---\n",
        "\n",
        "## Professional Contacts 🦅\n",
        "\n",
        "[![Follow on GitHub](https://img.shields.io/badge/Follow%20on%20GitHub-%23FF4500?style=flat&logo=github&logoColor=black)](https://github.com/Darshan0902)  Connect with me on GitHub\n",
        "\n",
        "[![Follow on Medium](https://img.shields.io/badge/Follow%20on%20Medium-%23FF4500?style=flat&logo=medium&logoColor=white)](https://prabhudarshan09.medium.com/) Follow my Medium articles\n",
        "\n",
        "[![LinkedIn](https://img.shields.io/badge/Connect%20on%20LinkedIn-%23FF4500?style=flat&logo=linkedin&logoColor=white)](https://linkedin.com/in/darshanprabhu009/) Connect with me on LinkedIn\n",
        "\n",
        "---\n",
        "\n",
        "Feel free to reach out for collaborations, discussions, or suggestions ✔\n",
        " ## **Hello! I'm Darshan D. Prabhu,**\n",
        "\n",
        "---\n",
        "\n",
        " A  Data Scientist passionate about leveraging data-driven insights to solve real-world problems. With a background in Artificial Intelligence and Machine Learning, I specialize in Data Science and Data driven projects.\n",
        "\n",
        "\n",
        "*Let's connect and explore opportunities together:*\n",
        "\n",
        "---\n",
        "\n",
        "## Professional Contacts 🦅\n",
        "\n",
        "[![Follow on GitHub](https://img.shields.io/badge/Follow%20on%20GitHub-%23FF4500?style=flat&logo=github&logoColor=black)](https://github.com/Darshan0902)  Connect with me on GitHub\n",
        "\n",
        "[![Follow on Medium](https://img.shields.io/badge/Follow%20on%20Medium-%23FF4500?style=flat&logo=medium&logoColor=white)](https://prabhudarshan09.medium.com/) Follow my Medium articles\n",
        "\n",
        "[![LinkedIn](https://img.shields.io/badge/Connect%20on%20LinkedIn-%23FF4500?style=flat&logo=linkedin&logoColor=white)](https://linkedin.com/in/darshanprabhu009/) Connect with me on LinkedIn\n",
        "\n",
        "---\n",
        "\n",
        "Feel free to reach out for collaborations, discussions, or suggestions ✔\n"
      ],
      "metadata": {
        "id": "5vle-4wbI2D4"
      },
      "id": "5vle-4wbI2D4"
    },
    {
      "cell_type": "markdown",
      "id": "f0e7234e",
      "metadata": {
        "papermill": {
          "duration": 0.017962,
          "end_time": "2023-07-24T12:23:44.26187",
          "exception": false,
          "start_time": "2023-07-24T12:23:44.243908",
          "status": "completed"
        },
        "tags": [],
        "id": "f0e7234e"
      },
      "source": [
        "# **TABLE OF CONTENTS.**\n",
        "    \n",
        "* THEORY.\n",
        "     * 1 - TENSORS\n",
        "     * 2 - PyTorch.\n",
        "     * 3 - LSTM model.\n",
        "    \n",
        "    \n",
        "* 1 - IMPORTING THE LIBRARIES.\n",
        "    \n",
        "* 2 -DATA COLLECTION & DEVICE SETUP.\n",
        "    \n",
        "* 3 -DATA PREPARATION.\n",
        "    \n",
        "* 4 - EXPLORATORY DATA ANALYSIS.\n",
        "    \n",
        "     * 4.1 - Closing Prices over time.\n",
        "     * 4.2 -  Converting the data into a numpy array.\n",
        "     * 4.3 - SCALING THE VALUES.\n",
        "     * 4.4 - DEFINING DEPENDENT AND INDEPENDENT VARIABLES.\n",
        "     * 4.5 - SPLITTING THE ARRAY.\n",
        "     * 4.6 - SPLITTING \"X\" & \"Y\".\n",
        "     * 4.7 - ARRAY RESHAPING.\n",
        "     * 4.8 - NUMPY TO TENSOR CONVERSION.\n",
        "     * 4.9 - CREATING A CUSTOM CLASSES.\n",
        "     * 4.10 - ITERATING THE DATA.\n",
        "     * 4.11 - PREPROCESSING THE DATA.\n",
        "    \n",
        "    \n",
        "* 5 - MODEL BUILDING.\n",
        "    \n",
        "     * 5.1 - LSTM model.\n",
        "     * 5.2 - MODEL TRAINING.\n",
        "     * 5.3 - MODEL EVALUATION.\n",
        "     * 5.4 - FEEDING THE MODEL.\n",
        "     * 5.5 - VISUALIZING THE PREDICTIONS.\n",
        "     * 5.6 - CONVERTING SCALED VALUES INTO DOLLARS.\n",
        "     \n",
        "\n",
        "* 6 - VISUALIZING THE OUTPUT\n",
        "\n",
        "     * 6.1 - REMOVING THE APPLIED SCALER.\n",
        "     * 6.2 - PLOTTING AFTER REMOVING THE APPLIED SCALER FOR TRAINING DATA.\n",
        "     * 6.3 - REMOVING SCALED VALUES FROM TEST PREDICTIONS.\n",
        "     * 6.4 - REMOVING THE APPLIED SCALER AND PLOTTING TESTING DATA.\n",
        "\n",
        "     \n",
        "     \n",
        "     \n",
        "* 7 - CONCLUSION.\n",
        "\n",
        "* 8 - NOTE."
      ]
    },
    {
      "cell_type": "markdown",
      "id": "a2f0f29a",
      "metadata": {
        "papermill": {
          "duration": 0.017247,
          "end_time": "2023-07-24T12:23:44.2968",
          "exception": false,
          "start_time": "2023-07-24T12:23:44.279553",
          "status": "completed"
        },
        "tags": [],
        "id": "a2f0f29a"
      },
      "source": [
        "#THEORY."
      ]
    },
    {
      "cell_type": "markdown",
      "id": "a06f932a",
      "metadata": {
        "papermill": {
          "duration": 0.017384,
          "end_time": "2023-07-24T12:23:44.331836",
          "exception": false,
          "start_time": "2023-07-24T12:23:44.314452",
          "status": "completed"
        },
        "tags": [],
        "id": "a06f932a"
      },
      "source": [
        "### TENSOR :\n",
        "In general, a tensor is a mathematical object that represents a multi-dimensional array of elements. It can be considered as a generalization of scalars, vectors, and matrices to higher dimensions. Tensors are widely used in various fields, including mathematics, physics, and computer science, to describe and manipulate multi-dimensional data.\n",
        "    "
      ]
    },
    {
      "cell_type": "markdown",
      "id": "1d2d7d82",
      "metadata": {
        "papermill": {
          "duration": 0.017107,
          "end_time": "2023-07-24T12:23:44.366826",
          "exception": false,
          "start_time": "2023-07-24T12:23:44.349719",
          "status": "completed"
        },
        "tags": [],
        "id": "1d2d7d82"
      },
      "source": [
        "### PYTORCH :\n",
        "IPyTorch is a popular open-source machine learning framework that is primarily based on tensors. It provides a wide range of tools and functionalities for building and training deep learning models. PyTorch is designed to be efficient, flexible, and user-friendly, making it a preferred choice for many researchers and practitioners.\n",
        "\n",
        "In PyTorch, tensors are the fundamental data structures used to store and operate on data. Tensors in PyTorch are similar to multi-dimensional arrays and can be manipulated using various operations such as element-wise operations, matrix operations, and more. PyTorch provides extensive support for tensor operations, automatic differentiation, and GPU acceleration, making it a powerful framework for deep learning tasks."
      ]
    },
    {
      "cell_type": "markdown",
      "id": "da5cd7a2",
      "metadata": {
        "papermill": {
          "duration": 0.017206,
          "end_time": "2023-07-24T12:23:44.40158",
          "exception": false,
          "start_time": "2023-07-24T12:23:44.384374",
          "status": "completed"
        },
        "tags": [],
        "id": "da5cd7a2"
      },
      "source": [
        "###  LSTM model :\n",
        "LSTM stands for Long Short-Term Memory, which is a type of recurrent neural network (RNN) architecture. It is designed to effectively process and analyze sequential data by incorporating a memory mechanism. LSTM networks are particularly useful for handling long-term dependencies and capturing patterns over extended sequences. They are commonly used in various tasks such as natural language processing, time series analysis, and speech recognition."
      ]
    },
    {
      "cell_type": "markdown",
      "id": "ce26e5a0",
      "metadata": {
        "papermill": {
          "duration": 0.017319,
          "end_time": "2023-07-24T12:23:44.436425",
          "exception": false,
          "start_time": "2023-07-24T12:23:44.419106",
          "status": "completed"
        },
        "tags": [],
        "id": "ce26e5a0"
      },
      "source": [
        "## 1 - Importing essential Libraries."
      ]
    },
    {
      "cell_type": "code",
      "execution_count": 1,
      "id": "91316b37",
      "metadata": {
        "execution": {
          "iopub.execute_input": "2023-07-24T12:23:44.474214Z",
          "iopub.status.busy": "2023-07-24T12:23:44.473486Z",
          "iopub.status.idle": "2023-07-24T12:23:48.439969Z",
          "shell.execute_reply": "2023-07-24T12:23:48.438646Z"
        },
        "papermill": {
          "duration": 3.988557,
          "end_time": "2023-07-24T12:23:48.442836",
          "exception": false,
          "start_time": "2023-07-24T12:23:44.454279",
          "status": "completed"
        },
        "tags": [],
        "id": "91316b37"
      },
      "outputs": [],
      "source": [
        "import numpy as np\n",
        "import pandas as pd\n",
        "import matplotlib.pyplot as plt\n",
        "\n",
        "import torch\n",
        "import torch.nn as nn"
      ]
    },
    {
      "cell_type": "markdown",
      "id": "b27d9da2",
      "metadata": {
        "papermill": {
          "duration": 0.017226,
          "end_time": "2023-07-24T12:23:48.4788",
          "exception": false,
          "start_time": "2023-07-24T12:23:48.461574",
          "status": "completed"
        },
        "tags": [],
        "id": "b27d9da2"
      },
      "source": [
        "## 2 - Data collection & Device Setup."
      ]
    },
    {
      "cell_type": "code",
      "execution_count": 2,
      "id": "b6ab091c",
      "metadata": {
        "execution": {
          "iopub.execute_input": "2023-07-24T12:23:48.516202Z",
          "iopub.status.busy": "2023-07-24T12:23:48.515512Z",
          "iopub.status.idle": "2023-07-24T12:23:48.595086Z",
          "shell.execute_reply": "2023-07-24T12:23:48.593891Z"
        },
        "papermill": {
          "duration": 0.10139,
          "end_time": "2023-07-24T12:23:48.597821",
          "exception": false,
          "start_time": "2023-07-24T12:23:48.496431",
          "status": "completed"
        },
        "tags": [],
        "colab": {
          "base_uri": "https://localhost:8080/",
          "height": 423
        },
        "id": "b6ab091c",
        "outputId": "3789c5fc-5bb7-47f1-de40-e1039f6c62cb"
      },
      "outputs": [
        {
          "output_type": "execute_result",
          "data": {
            "text/plain": [
              "            Date        Open        High         Low       Close   Adj Close  \\\n",
              "0     1997-05-15    0.121875    0.125000    0.096354    0.097917    0.097917   \n",
              "1     1997-05-16    0.098438    0.098958    0.085417    0.086458    0.086458   \n",
              "2     1997-05-19    0.088021    0.088542    0.081250    0.085417    0.085417   \n",
              "3     1997-05-20    0.086458    0.087500    0.081771    0.081771    0.081771   \n",
              "4     1997-05-21    0.081771    0.082292    0.068750    0.071354    0.071354   \n",
              "...          ...         ...         ...         ...         ...         ...   \n",
              "6511  2023-03-30  101.550003  103.040001  101.010002  102.000000  102.000000   \n",
              "6512  2023-03-31  102.160004  103.489998  101.949997  103.290001  103.290001   \n",
              "6513  2023-04-03  102.300003  103.290001  101.430000  102.410004  102.410004   \n",
              "6514  2023-04-04  102.750000  104.199997  102.110001  103.949997  103.949997   \n",
              "6515  2023-04-05  103.910004  103.910004  100.750000  101.099998  101.099998   \n",
              "\n",
              "          Volume  \n",
              "0     1443120000  \n",
              "1      294000000  \n",
              "2      122136000  \n",
              "3      109344000  \n",
              "4      377064000  \n",
              "...          ...  \n",
              "6511    53633400  \n",
              "6512    56704300  \n",
              "6513    41135700  \n",
              "6514    48662500  \n",
              "6515    45103000  \n",
              "\n",
              "[6516 rows x 7 columns]"
            ],
            "text/html": [
              "\n",
              "  <div id=\"df-91424972-a9c7-4d84-a6c1-cbcd53d54c1a\" class=\"colab-df-container\">\n",
              "    <div>\n",
              "<style scoped>\n",
              "    .dataframe tbody tr th:only-of-type {\n",
              "        vertical-align: middle;\n",
              "    }\n",
              "\n",
              "    .dataframe tbody tr th {\n",
              "        vertical-align: top;\n",
              "    }\n",
              "\n",
              "    .dataframe thead th {\n",
              "        text-align: right;\n",
              "    }\n",
              "</style>\n",
              "<table border=\"1\" class=\"dataframe\">\n",
              "  <thead>\n",
              "    <tr style=\"text-align: right;\">\n",
              "      <th></th>\n",
              "      <th>Date</th>\n",
              "      <th>Open</th>\n",
              "      <th>High</th>\n",
              "      <th>Low</th>\n",
              "      <th>Close</th>\n",
              "      <th>Adj Close</th>\n",
              "      <th>Volume</th>\n",
              "    </tr>\n",
              "  </thead>\n",
              "  <tbody>\n",
              "    <tr>\n",
              "      <th>0</th>\n",
              "      <td>1997-05-15</td>\n",
              "      <td>0.121875</td>\n",
              "      <td>0.125000</td>\n",
              "      <td>0.096354</td>\n",
              "      <td>0.097917</td>\n",
              "      <td>0.097917</td>\n",
              "      <td>1443120000</td>\n",
              "    </tr>\n",
              "    <tr>\n",
              "      <th>1</th>\n",
              "      <td>1997-05-16</td>\n",
              "      <td>0.098438</td>\n",
              "      <td>0.098958</td>\n",
              "      <td>0.085417</td>\n",
              "      <td>0.086458</td>\n",
              "      <td>0.086458</td>\n",
              "      <td>294000000</td>\n",
              "    </tr>\n",
              "    <tr>\n",
              "      <th>2</th>\n",
              "      <td>1997-05-19</td>\n",
              "      <td>0.088021</td>\n",
              "      <td>0.088542</td>\n",
              "      <td>0.081250</td>\n",
              "      <td>0.085417</td>\n",
              "      <td>0.085417</td>\n",
              "      <td>122136000</td>\n",
              "    </tr>\n",
              "    <tr>\n",
              "      <th>3</th>\n",
              "      <td>1997-05-20</td>\n",
              "      <td>0.086458</td>\n",
              "      <td>0.087500</td>\n",
              "      <td>0.081771</td>\n",
              "      <td>0.081771</td>\n",
              "      <td>0.081771</td>\n",
              "      <td>109344000</td>\n",
              "    </tr>\n",
              "    <tr>\n",
              "      <th>4</th>\n",
              "      <td>1997-05-21</td>\n",
              "      <td>0.081771</td>\n",
              "      <td>0.082292</td>\n",
              "      <td>0.068750</td>\n",
              "      <td>0.071354</td>\n",
              "      <td>0.071354</td>\n",
              "      <td>377064000</td>\n",
              "    </tr>\n",
              "    <tr>\n",
              "      <th>...</th>\n",
              "      <td>...</td>\n",
              "      <td>...</td>\n",
              "      <td>...</td>\n",
              "      <td>...</td>\n",
              "      <td>...</td>\n",
              "      <td>...</td>\n",
              "      <td>...</td>\n",
              "    </tr>\n",
              "    <tr>\n",
              "      <th>6511</th>\n",
              "      <td>2023-03-30</td>\n",
              "      <td>101.550003</td>\n",
              "      <td>103.040001</td>\n",
              "      <td>101.010002</td>\n",
              "      <td>102.000000</td>\n",
              "      <td>102.000000</td>\n",
              "      <td>53633400</td>\n",
              "    </tr>\n",
              "    <tr>\n",
              "      <th>6512</th>\n",
              "      <td>2023-03-31</td>\n",
              "      <td>102.160004</td>\n",
              "      <td>103.489998</td>\n",
              "      <td>101.949997</td>\n",
              "      <td>103.290001</td>\n",
              "      <td>103.290001</td>\n",
              "      <td>56704300</td>\n",
              "    </tr>\n",
              "    <tr>\n",
              "      <th>6513</th>\n",
              "      <td>2023-04-03</td>\n",
              "      <td>102.300003</td>\n",
              "      <td>103.290001</td>\n",
              "      <td>101.430000</td>\n",
              "      <td>102.410004</td>\n",
              "      <td>102.410004</td>\n",
              "      <td>41135700</td>\n",
              "    </tr>\n",
              "    <tr>\n",
              "      <th>6514</th>\n",
              "      <td>2023-04-04</td>\n",
              "      <td>102.750000</td>\n",
              "      <td>104.199997</td>\n",
              "      <td>102.110001</td>\n",
              "      <td>103.949997</td>\n",
              "      <td>103.949997</td>\n",
              "      <td>48662500</td>\n",
              "    </tr>\n",
              "    <tr>\n",
              "      <th>6515</th>\n",
              "      <td>2023-04-05</td>\n",
              "      <td>103.910004</td>\n",
              "      <td>103.910004</td>\n",
              "      <td>100.750000</td>\n",
              "      <td>101.099998</td>\n",
              "      <td>101.099998</td>\n",
              "      <td>45103000</td>\n",
              "    </tr>\n",
              "  </tbody>\n",
              "</table>\n",
              "<p>6516 rows × 7 columns</p>\n",
              "</div>\n",
              "    <div class=\"colab-df-buttons\">\n",
              "\n",
              "  <div class=\"colab-df-container\">\n",
              "    <button class=\"colab-df-convert\" onclick=\"convertToInteractive('df-91424972-a9c7-4d84-a6c1-cbcd53d54c1a')\"\n",
              "            title=\"Convert this dataframe to an interactive table.\"\n",
              "            style=\"display:none;\">\n",
              "\n",
              "  <svg xmlns=\"http://www.w3.org/2000/svg\" height=\"24px\" viewBox=\"0 -960 960 960\">\n",
              "    <path d=\"M120-120v-720h720v720H120Zm60-500h600v-160H180v160Zm220 220h160v-160H400v160Zm0 220h160v-160H400v160ZM180-400h160v-160H180v160Zm440 0h160v-160H620v160ZM180-180h160v-160H180v160Zm440 0h160v-160H620v160Z\"/>\n",
              "  </svg>\n",
              "    </button>\n",
              "\n",
              "  <style>\n",
              "    .colab-df-container {\n",
              "      display:flex;\n",
              "      gap: 12px;\n",
              "    }\n",
              "\n",
              "    .colab-df-convert {\n",
              "      background-color: #E8F0FE;\n",
              "      border: none;\n",
              "      border-radius: 50%;\n",
              "      cursor: pointer;\n",
              "      display: none;\n",
              "      fill: #1967D2;\n",
              "      height: 32px;\n",
              "      padding: 0 0 0 0;\n",
              "      width: 32px;\n",
              "    }\n",
              "\n",
              "    .colab-df-convert:hover {\n",
              "      background-color: #E2EBFA;\n",
              "      box-shadow: 0px 1px 2px rgba(60, 64, 67, 0.3), 0px 1px 3px 1px rgba(60, 64, 67, 0.15);\n",
              "      fill: #174EA6;\n",
              "    }\n",
              "\n",
              "    .colab-df-buttons div {\n",
              "      margin-bottom: 4px;\n",
              "    }\n",
              "\n",
              "    [theme=dark] .colab-df-convert {\n",
              "      background-color: #3B4455;\n",
              "      fill: #D2E3FC;\n",
              "    }\n",
              "\n",
              "    [theme=dark] .colab-df-convert:hover {\n",
              "      background-color: #434B5C;\n",
              "      box-shadow: 0px 1px 3px 1px rgba(0, 0, 0, 0.15);\n",
              "      filter: drop-shadow(0px 1px 2px rgba(0, 0, 0, 0.3));\n",
              "      fill: #FFFFFF;\n",
              "    }\n",
              "  </style>\n",
              "\n",
              "    <script>\n",
              "      const buttonEl =\n",
              "        document.querySelector('#df-91424972-a9c7-4d84-a6c1-cbcd53d54c1a button.colab-df-convert');\n",
              "      buttonEl.style.display =\n",
              "        google.colab.kernel.accessAllowed ? 'block' : 'none';\n",
              "\n",
              "      async function convertToInteractive(key) {\n",
              "        const element = document.querySelector('#df-91424972-a9c7-4d84-a6c1-cbcd53d54c1a');\n",
              "        const dataTable =\n",
              "          await google.colab.kernel.invokeFunction('convertToInteractive',\n",
              "                                                    [key], {});\n",
              "        if (!dataTable) return;\n",
              "\n",
              "        const docLinkHtml = 'Like what you see? Visit the ' +\n",
              "          '<a target=\"_blank\" href=https://colab.research.google.com/notebooks/data_table.ipynb>data table notebook</a>'\n",
              "          + ' to learn more about interactive tables.';\n",
              "        element.innerHTML = '';\n",
              "        dataTable['output_type'] = 'display_data';\n",
              "        await google.colab.output.renderOutput(dataTable, element);\n",
              "        const docLink = document.createElement('div');\n",
              "        docLink.innerHTML = docLinkHtml;\n",
              "        element.appendChild(docLink);\n",
              "      }\n",
              "    </script>\n",
              "  </div>\n",
              "\n",
              "\n",
              "<div id=\"df-80e03cfb-996c-48c7-b55b-106e69772327\">\n",
              "  <button class=\"colab-df-quickchart\" onclick=\"quickchart('df-80e03cfb-996c-48c7-b55b-106e69772327')\"\n",
              "            title=\"Suggest charts\"\n",
              "            style=\"display:none;\">\n",
              "\n",
              "<svg xmlns=\"http://www.w3.org/2000/svg\" height=\"24px\"viewBox=\"0 0 24 24\"\n",
              "     width=\"24px\">\n",
              "    <g>\n",
              "        <path d=\"M19 3H5c-1.1 0-2 .9-2 2v14c0 1.1.9 2 2 2h14c1.1 0 2-.9 2-2V5c0-1.1-.9-2-2-2zM9 17H7v-7h2v7zm4 0h-2V7h2v10zm4 0h-2v-4h2v4z\"/>\n",
              "    </g>\n",
              "</svg>\n",
              "  </button>\n",
              "\n",
              "<style>\n",
              "  .colab-df-quickchart {\n",
              "      --bg-color: #E8F0FE;\n",
              "      --fill-color: #1967D2;\n",
              "      --hover-bg-color: #E2EBFA;\n",
              "      --hover-fill-color: #174EA6;\n",
              "      --disabled-fill-color: #AAA;\n",
              "      --disabled-bg-color: #DDD;\n",
              "  }\n",
              "\n",
              "  [theme=dark] .colab-df-quickchart {\n",
              "      --bg-color: #3B4455;\n",
              "      --fill-color: #D2E3FC;\n",
              "      --hover-bg-color: #434B5C;\n",
              "      --hover-fill-color: #FFFFFF;\n",
              "      --disabled-bg-color: #3B4455;\n",
              "      --disabled-fill-color: #666;\n",
              "  }\n",
              "\n",
              "  .colab-df-quickchart {\n",
              "    background-color: var(--bg-color);\n",
              "    border: none;\n",
              "    border-radius: 50%;\n",
              "    cursor: pointer;\n",
              "    display: none;\n",
              "    fill: var(--fill-color);\n",
              "    height: 32px;\n",
              "    padding: 0;\n",
              "    width: 32px;\n",
              "  }\n",
              "\n",
              "  .colab-df-quickchart:hover {\n",
              "    background-color: var(--hover-bg-color);\n",
              "    box-shadow: 0 1px 2px rgba(60, 64, 67, 0.3), 0 1px 3px 1px rgba(60, 64, 67, 0.15);\n",
              "    fill: var(--button-hover-fill-color);\n",
              "  }\n",
              "\n",
              "  .colab-df-quickchart-complete:disabled,\n",
              "  .colab-df-quickchart-complete:disabled:hover {\n",
              "    background-color: var(--disabled-bg-color);\n",
              "    fill: var(--disabled-fill-color);\n",
              "    box-shadow: none;\n",
              "  }\n",
              "\n",
              "  .colab-df-spinner {\n",
              "    border: 2px solid var(--fill-color);\n",
              "    border-color: transparent;\n",
              "    border-bottom-color: var(--fill-color);\n",
              "    animation:\n",
              "      spin 1s steps(1) infinite;\n",
              "  }\n",
              "\n",
              "  @keyframes spin {\n",
              "    0% {\n",
              "      border-color: transparent;\n",
              "      border-bottom-color: var(--fill-color);\n",
              "      border-left-color: var(--fill-color);\n",
              "    }\n",
              "    20% {\n",
              "      border-color: transparent;\n",
              "      border-left-color: var(--fill-color);\n",
              "      border-top-color: var(--fill-color);\n",
              "    }\n",
              "    30% {\n",
              "      border-color: transparent;\n",
              "      border-left-color: var(--fill-color);\n",
              "      border-top-color: var(--fill-color);\n",
              "      border-right-color: var(--fill-color);\n",
              "    }\n",
              "    40% {\n",
              "      border-color: transparent;\n",
              "      border-right-color: var(--fill-color);\n",
              "      border-top-color: var(--fill-color);\n",
              "    }\n",
              "    60% {\n",
              "      border-color: transparent;\n",
              "      border-right-color: var(--fill-color);\n",
              "    }\n",
              "    80% {\n",
              "      border-color: transparent;\n",
              "      border-right-color: var(--fill-color);\n",
              "      border-bottom-color: var(--fill-color);\n",
              "    }\n",
              "    90% {\n",
              "      border-color: transparent;\n",
              "      border-bottom-color: var(--fill-color);\n",
              "    }\n",
              "  }\n",
              "</style>\n",
              "\n",
              "  <script>\n",
              "    async function quickchart(key) {\n",
              "      const quickchartButtonEl =\n",
              "        document.querySelector('#' + key + ' button');\n",
              "      quickchartButtonEl.disabled = true;  // To prevent multiple clicks.\n",
              "      quickchartButtonEl.classList.add('colab-df-spinner');\n",
              "      try {\n",
              "        const charts = await google.colab.kernel.invokeFunction(\n",
              "            'suggestCharts', [key], {});\n",
              "      } catch (error) {\n",
              "        console.error('Error during call to suggestCharts:', error);\n",
              "      }\n",
              "      quickchartButtonEl.classList.remove('colab-df-spinner');\n",
              "      quickchartButtonEl.classList.add('colab-df-quickchart-complete');\n",
              "    }\n",
              "    (() => {\n",
              "      let quickchartButtonEl =\n",
              "        document.querySelector('#df-80e03cfb-996c-48c7-b55b-106e69772327 button');\n",
              "      quickchartButtonEl.style.display =\n",
              "        google.colab.kernel.accessAllowed ? 'block' : 'none';\n",
              "    })();\n",
              "  </script>\n",
              "</div>\n",
              "\n",
              "  <div id=\"id_8c6f483e-022b-4e74-b914-4f6c350cb2ff\">\n",
              "    <style>\n",
              "      .colab-df-generate {\n",
              "        background-color: #E8F0FE;\n",
              "        border: none;\n",
              "        border-radius: 50%;\n",
              "        cursor: pointer;\n",
              "        display: none;\n",
              "        fill: #1967D2;\n",
              "        height: 32px;\n",
              "        padding: 0 0 0 0;\n",
              "        width: 32px;\n",
              "      }\n",
              "\n",
              "      .colab-df-generate:hover {\n",
              "        background-color: #E2EBFA;\n",
              "        box-shadow: 0px 1px 2px rgba(60, 64, 67, 0.3), 0px 1px 3px 1px rgba(60, 64, 67, 0.15);\n",
              "        fill: #174EA6;\n",
              "      }\n",
              "\n",
              "      [theme=dark] .colab-df-generate {\n",
              "        background-color: #3B4455;\n",
              "        fill: #D2E3FC;\n",
              "      }\n",
              "\n",
              "      [theme=dark] .colab-df-generate:hover {\n",
              "        background-color: #434B5C;\n",
              "        box-shadow: 0px 1px 3px 1px rgba(0, 0, 0, 0.15);\n",
              "        filter: drop-shadow(0px 1px 2px rgba(0, 0, 0, 0.3));\n",
              "        fill: #FFFFFF;\n",
              "      }\n",
              "    </style>\n",
              "    <button class=\"colab-df-generate\" onclick=\"generateWithVariable('data')\"\n",
              "            title=\"Generate code using this dataframe.\"\n",
              "            style=\"display:none;\">\n",
              "\n",
              "  <svg xmlns=\"http://www.w3.org/2000/svg\" height=\"24px\"viewBox=\"0 0 24 24\"\n",
              "       width=\"24px\">\n",
              "    <path d=\"M7,19H8.4L18.45,9,17,7.55,7,17.6ZM5,21V16.75L18.45,3.32a2,2,0,0,1,2.83,0l1.4,1.43a1.91,1.91,0,0,1,.58,1.4,1.91,1.91,0,0,1-.58,1.4L9.25,21ZM18.45,9,17,7.55Zm-12,3A5.31,5.31,0,0,0,4.9,8.1,5.31,5.31,0,0,0,1,6.5,5.31,5.31,0,0,0,4.9,4.9,5.31,5.31,0,0,0,6.5,1,5.31,5.31,0,0,0,8.1,4.9,5.31,5.31,0,0,0,12,6.5,5.46,5.46,0,0,0,6.5,12Z\"/>\n",
              "  </svg>\n",
              "    </button>\n",
              "    <script>\n",
              "      (() => {\n",
              "      const buttonEl =\n",
              "        document.querySelector('#id_8c6f483e-022b-4e74-b914-4f6c350cb2ff button.colab-df-generate');\n",
              "      buttonEl.style.display =\n",
              "        google.colab.kernel.accessAllowed ? 'block' : 'none';\n",
              "\n",
              "      buttonEl.onclick = () => {\n",
              "        google.colab.notebook.generateWithVariable('data');\n",
              "      }\n",
              "      })();\n",
              "    </script>\n",
              "  </div>\n",
              "\n",
              "    </div>\n",
              "  </div>\n"
            ]
          },
          "metadata": {},
          "execution_count": 2
        }
      ],
      "source": [
        "data = pd.read_csv(\"/content/AMZN.csv\")\n",
        "data"
      ]
    },
    {
      "cell_type": "markdown",
      "id": "ef8f7bc3",
      "metadata": {
        "papermill": {
          "duration": 0.018472,
          "end_time": "2023-07-24T12:23:48.634704",
          "exception": false,
          "start_time": "2023-07-24T12:23:48.616232",
          "status": "completed"
        },
        "tags": [],
        "id": "ef8f7bc3"
      },
      "source": [
        "##  PyTorch generally requires , GPU so to check what we currently have on our device. Lets check the device."
      ]
    },
    {
      "cell_type": "code",
      "execution_count": 3,
      "id": "b79279be",
      "metadata": {
        "execution": {
          "iopub.execute_input": "2023-07-24T12:23:48.672173Z",
          "iopub.status.busy": "2023-07-24T12:23:48.671755Z",
          "iopub.status.idle": "2023-07-24T12:23:48.678064Z",
          "shell.execute_reply": "2023-07-24T12:23:48.677258Z"
        },
        "papermill": {
          "duration": 0.027625,
          "end_time": "2023-07-24T12:23:48.680133",
          "exception": false,
          "start_time": "2023-07-24T12:23:48.652508",
          "status": "completed"
        },
        "tags": [],
        "id": "b79279be",
        "outputId": "c3dfb3bf-dfa8-4d41-a261-cd203565c1ab",
        "colab": {
          "base_uri": "https://localhost:8080/",
          "height": 36
        }
      },
      "outputs": [
        {
          "output_type": "execute_result",
          "data": {
            "text/plain": [
              "'cpu'"
            ],
            "application/vnd.google.colaboratory.intrinsic+json": {
              "type": "string"
            }
          },
          "metadata": {},
          "execution_count": 3
        }
      ],
      "source": [
        "device = 'cuda:0' if torch.cuda.is_available() else 'cpu'\n",
        "device"
      ]
    },
    {
      "cell_type": "markdown",
      "id": "83560c42",
      "metadata": {
        "papermill": {
          "duration": 0.017827,
          "end_time": "2023-07-24T12:23:48.715992",
          "exception": false,
          "start_time": "2023-07-24T12:23:48.698165",
          "status": "completed"
        },
        "tags": [],
        "id": "83560c42"
      },
      "source": [
        "## The above cell indicates that we are currently using CPU. We will be shifting to GPU on later stages of training ."
      ]
    },
    {
      "cell_type": "markdown",
      "id": "c1338d7a",
      "metadata": {
        "papermill": {
          "duration": 0.017761,
          "end_time": "2023-07-24T12:23:48.751632",
          "exception": false,
          "start_time": "2023-07-24T12:23:48.733871",
          "status": "completed"
        },
        "tags": [],
        "id": "c1338d7a"
      },
      "source": [
        "## 3 - Data  Preparation."
      ]
    },
    {
      "cell_type": "code",
      "execution_count": 4,
      "id": "1800796b",
      "metadata": {
        "execution": {
          "iopub.execute_input": "2023-07-24T12:23:48.790335Z",
          "iopub.status.busy": "2023-07-24T12:23:48.789455Z",
          "iopub.status.idle": "2023-07-24T12:23:48.808891Z",
          "shell.execute_reply": "2023-07-24T12:23:48.80777Z"
        },
        "papermill": {
          "duration": 0.041509,
          "end_time": "2023-07-24T12:23:48.811223",
          "exception": false,
          "start_time": "2023-07-24T12:23:48.769714",
          "status": "completed"
        },
        "tags": [],
        "id": "1800796b",
        "outputId": "c5396041-16b6-43fe-e998-3fe35b9a6279",
        "colab": {
          "base_uri": "https://localhost:8080/",
          "height": 423
        }
      },
      "outputs": [
        {
          "output_type": "execute_result",
          "data": {
            "text/plain": [
              "            Date       Close\n",
              "0     1997-05-15    0.097917\n",
              "1     1997-05-16    0.086458\n",
              "2     1997-05-19    0.085417\n",
              "3     1997-05-20    0.081771\n",
              "4     1997-05-21    0.071354\n",
              "...          ...         ...\n",
              "6511  2023-03-30  102.000000\n",
              "6512  2023-03-31  103.290001\n",
              "6513  2023-04-03  102.410004\n",
              "6514  2023-04-04  103.949997\n",
              "6515  2023-04-05  101.099998\n",
              "\n",
              "[6516 rows x 2 columns]"
            ],
            "text/html": [
              "\n",
              "  <div id=\"df-33c987ef-5804-4870-82b6-b8941fe0f8ad\" class=\"colab-df-container\">\n",
              "    <div>\n",
              "<style scoped>\n",
              "    .dataframe tbody tr th:only-of-type {\n",
              "        vertical-align: middle;\n",
              "    }\n",
              "\n",
              "    .dataframe tbody tr th {\n",
              "        vertical-align: top;\n",
              "    }\n",
              "\n",
              "    .dataframe thead th {\n",
              "        text-align: right;\n",
              "    }\n",
              "</style>\n",
              "<table border=\"1\" class=\"dataframe\">\n",
              "  <thead>\n",
              "    <tr style=\"text-align: right;\">\n",
              "      <th></th>\n",
              "      <th>Date</th>\n",
              "      <th>Close</th>\n",
              "    </tr>\n",
              "  </thead>\n",
              "  <tbody>\n",
              "    <tr>\n",
              "      <th>0</th>\n",
              "      <td>1997-05-15</td>\n",
              "      <td>0.097917</td>\n",
              "    </tr>\n",
              "    <tr>\n",
              "      <th>1</th>\n",
              "      <td>1997-05-16</td>\n",
              "      <td>0.086458</td>\n",
              "    </tr>\n",
              "    <tr>\n",
              "      <th>2</th>\n",
              "      <td>1997-05-19</td>\n",
              "      <td>0.085417</td>\n",
              "    </tr>\n",
              "    <tr>\n",
              "      <th>3</th>\n",
              "      <td>1997-05-20</td>\n",
              "      <td>0.081771</td>\n",
              "    </tr>\n",
              "    <tr>\n",
              "      <th>4</th>\n",
              "      <td>1997-05-21</td>\n",
              "      <td>0.071354</td>\n",
              "    </tr>\n",
              "    <tr>\n",
              "      <th>...</th>\n",
              "      <td>...</td>\n",
              "      <td>...</td>\n",
              "    </tr>\n",
              "    <tr>\n",
              "      <th>6511</th>\n",
              "      <td>2023-03-30</td>\n",
              "      <td>102.000000</td>\n",
              "    </tr>\n",
              "    <tr>\n",
              "      <th>6512</th>\n",
              "      <td>2023-03-31</td>\n",
              "      <td>103.290001</td>\n",
              "    </tr>\n",
              "    <tr>\n",
              "      <th>6513</th>\n",
              "      <td>2023-04-03</td>\n",
              "      <td>102.410004</td>\n",
              "    </tr>\n",
              "    <tr>\n",
              "      <th>6514</th>\n",
              "      <td>2023-04-04</td>\n",
              "      <td>103.949997</td>\n",
              "    </tr>\n",
              "    <tr>\n",
              "      <th>6515</th>\n",
              "      <td>2023-04-05</td>\n",
              "      <td>101.099998</td>\n",
              "    </tr>\n",
              "  </tbody>\n",
              "</table>\n",
              "<p>6516 rows × 2 columns</p>\n",
              "</div>\n",
              "    <div class=\"colab-df-buttons\">\n",
              "\n",
              "  <div class=\"colab-df-container\">\n",
              "    <button class=\"colab-df-convert\" onclick=\"convertToInteractive('df-33c987ef-5804-4870-82b6-b8941fe0f8ad')\"\n",
              "            title=\"Convert this dataframe to an interactive table.\"\n",
              "            style=\"display:none;\">\n",
              "\n",
              "  <svg xmlns=\"http://www.w3.org/2000/svg\" height=\"24px\" viewBox=\"0 -960 960 960\">\n",
              "    <path d=\"M120-120v-720h720v720H120Zm60-500h600v-160H180v160Zm220 220h160v-160H400v160Zm0 220h160v-160H400v160ZM180-400h160v-160H180v160Zm440 0h160v-160H620v160ZM180-180h160v-160H180v160Zm440 0h160v-160H620v160Z\"/>\n",
              "  </svg>\n",
              "    </button>\n",
              "\n",
              "  <style>\n",
              "    .colab-df-container {\n",
              "      display:flex;\n",
              "      gap: 12px;\n",
              "    }\n",
              "\n",
              "    .colab-df-convert {\n",
              "      background-color: #E8F0FE;\n",
              "      border: none;\n",
              "      border-radius: 50%;\n",
              "      cursor: pointer;\n",
              "      display: none;\n",
              "      fill: #1967D2;\n",
              "      height: 32px;\n",
              "      padding: 0 0 0 0;\n",
              "      width: 32px;\n",
              "    }\n",
              "\n",
              "    .colab-df-convert:hover {\n",
              "      background-color: #E2EBFA;\n",
              "      box-shadow: 0px 1px 2px rgba(60, 64, 67, 0.3), 0px 1px 3px 1px rgba(60, 64, 67, 0.15);\n",
              "      fill: #174EA6;\n",
              "    }\n",
              "\n",
              "    .colab-df-buttons div {\n",
              "      margin-bottom: 4px;\n",
              "    }\n",
              "\n",
              "    [theme=dark] .colab-df-convert {\n",
              "      background-color: #3B4455;\n",
              "      fill: #D2E3FC;\n",
              "    }\n",
              "\n",
              "    [theme=dark] .colab-df-convert:hover {\n",
              "      background-color: #434B5C;\n",
              "      box-shadow: 0px 1px 3px 1px rgba(0, 0, 0, 0.15);\n",
              "      filter: drop-shadow(0px 1px 2px rgba(0, 0, 0, 0.3));\n",
              "      fill: #FFFFFF;\n",
              "    }\n",
              "  </style>\n",
              "\n",
              "    <script>\n",
              "      const buttonEl =\n",
              "        document.querySelector('#df-33c987ef-5804-4870-82b6-b8941fe0f8ad button.colab-df-convert');\n",
              "      buttonEl.style.display =\n",
              "        google.colab.kernel.accessAllowed ? 'block' : 'none';\n",
              "\n",
              "      async function convertToInteractive(key) {\n",
              "        const element = document.querySelector('#df-33c987ef-5804-4870-82b6-b8941fe0f8ad');\n",
              "        const dataTable =\n",
              "          await google.colab.kernel.invokeFunction('convertToInteractive',\n",
              "                                                    [key], {});\n",
              "        if (!dataTable) return;\n",
              "\n",
              "        const docLinkHtml = 'Like what you see? Visit the ' +\n",
              "          '<a target=\"_blank\" href=https://colab.research.google.com/notebooks/data_table.ipynb>data table notebook</a>'\n",
              "          + ' to learn more about interactive tables.';\n",
              "        element.innerHTML = '';\n",
              "        dataTable['output_type'] = 'display_data';\n",
              "        await google.colab.output.renderOutput(dataTable, element);\n",
              "        const docLink = document.createElement('div');\n",
              "        docLink.innerHTML = docLinkHtml;\n",
              "        element.appendChild(docLink);\n",
              "      }\n",
              "    </script>\n",
              "  </div>\n",
              "\n",
              "\n",
              "<div id=\"df-86e6ecd0-9e72-4212-9018-f415e572aa6c\">\n",
              "  <button class=\"colab-df-quickchart\" onclick=\"quickchart('df-86e6ecd0-9e72-4212-9018-f415e572aa6c')\"\n",
              "            title=\"Suggest charts\"\n",
              "            style=\"display:none;\">\n",
              "\n",
              "<svg xmlns=\"http://www.w3.org/2000/svg\" height=\"24px\"viewBox=\"0 0 24 24\"\n",
              "     width=\"24px\">\n",
              "    <g>\n",
              "        <path d=\"M19 3H5c-1.1 0-2 .9-2 2v14c0 1.1.9 2 2 2h14c1.1 0 2-.9 2-2V5c0-1.1-.9-2-2-2zM9 17H7v-7h2v7zm4 0h-2V7h2v10zm4 0h-2v-4h2v4z\"/>\n",
              "    </g>\n",
              "</svg>\n",
              "  </button>\n",
              "\n",
              "<style>\n",
              "  .colab-df-quickchart {\n",
              "      --bg-color: #E8F0FE;\n",
              "      --fill-color: #1967D2;\n",
              "      --hover-bg-color: #E2EBFA;\n",
              "      --hover-fill-color: #174EA6;\n",
              "      --disabled-fill-color: #AAA;\n",
              "      --disabled-bg-color: #DDD;\n",
              "  }\n",
              "\n",
              "  [theme=dark] .colab-df-quickchart {\n",
              "      --bg-color: #3B4455;\n",
              "      --fill-color: #D2E3FC;\n",
              "      --hover-bg-color: #434B5C;\n",
              "      --hover-fill-color: #FFFFFF;\n",
              "      --disabled-bg-color: #3B4455;\n",
              "      --disabled-fill-color: #666;\n",
              "  }\n",
              "\n",
              "  .colab-df-quickchart {\n",
              "    background-color: var(--bg-color);\n",
              "    border: none;\n",
              "    border-radius: 50%;\n",
              "    cursor: pointer;\n",
              "    display: none;\n",
              "    fill: var(--fill-color);\n",
              "    height: 32px;\n",
              "    padding: 0;\n",
              "    width: 32px;\n",
              "  }\n",
              "\n",
              "  .colab-df-quickchart:hover {\n",
              "    background-color: var(--hover-bg-color);\n",
              "    box-shadow: 0 1px 2px rgba(60, 64, 67, 0.3), 0 1px 3px 1px rgba(60, 64, 67, 0.15);\n",
              "    fill: var(--button-hover-fill-color);\n",
              "  }\n",
              "\n",
              "  .colab-df-quickchart-complete:disabled,\n",
              "  .colab-df-quickchart-complete:disabled:hover {\n",
              "    background-color: var(--disabled-bg-color);\n",
              "    fill: var(--disabled-fill-color);\n",
              "    box-shadow: none;\n",
              "  }\n",
              "\n",
              "  .colab-df-spinner {\n",
              "    border: 2px solid var(--fill-color);\n",
              "    border-color: transparent;\n",
              "    border-bottom-color: var(--fill-color);\n",
              "    animation:\n",
              "      spin 1s steps(1) infinite;\n",
              "  }\n",
              "\n",
              "  @keyframes spin {\n",
              "    0% {\n",
              "      border-color: transparent;\n",
              "      border-bottom-color: var(--fill-color);\n",
              "      border-left-color: var(--fill-color);\n",
              "    }\n",
              "    20% {\n",
              "      border-color: transparent;\n",
              "      border-left-color: var(--fill-color);\n",
              "      border-top-color: var(--fill-color);\n",
              "    }\n",
              "    30% {\n",
              "      border-color: transparent;\n",
              "      border-left-color: var(--fill-color);\n",
              "      border-top-color: var(--fill-color);\n",
              "      border-right-color: var(--fill-color);\n",
              "    }\n",
              "    40% {\n",
              "      border-color: transparent;\n",
              "      border-right-color: var(--fill-color);\n",
              "      border-top-color: var(--fill-color);\n",
              "    }\n",
              "    60% {\n",
              "      border-color: transparent;\n",
              "      border-right-color: var(--fill-color);\n",
              "    }\n",
              "    80% {\n",
              "      border-color: transparent;\n",
              "      border-right-color: var(--fill-color);\n",
              "      border-bottom-color: var(--fill-color);\n",
              "    }\n",
              "    90% {\n",
              "      border-color: transparent;\n",
              "      border-bottom-color: var(--fill-color);\n",
              "    }\n",
              "  }\n",
              "</style>\n",
              "\n",
              "  <script>\n",
              "    async function quickchart(key) {\n",
              "      const quickchartButtonEl =\n",
              "        document.querySelector('#' + key + ' button');\n",
              "      quickchartButtonEl.disabled = true;  // To prevent multiple clicks.\n",
              "      quickchartButtonEl.classList.add('colab-df-spinner');\n",
              "      try {\n",
              "        const charts = await google.colab.kernel.invokeFunction(\n",
              "            'suggestCharts', [key], {});\n",
              "      } catch (error) {\n",
              "        console.error('Error during call to suggestCharts:', error);\n",
              "      }\n",
              "      quickchartButtonEl.classList.remove('colab-df-spinner');\n",
              "      quickchartButtonEl.classList.add('colab-df-quickchart-complete');\n",
              "    }\n",
              "    (() => {\n",
              "      let quickchartButtonEl =\n",
              "        document.querySelector('#df-86e6ecd0-9e72-4212-9018-f415e572aa6c button');\n",
              "      quickchartButtonEl.style.display =\n",
              "        google.colab.kernel.accessAllowed ? 'block' : 'none';\n",
              "    })();\n",
              "  </script>\n",
              "</div>\n",
              "\n",
              "  <div id=\"id_461e73ef-fced-4d27-9be6-263674a506c4\">\n",
              "    <style>\n",
              "      .colab-df-generate {\n",
              "        background-color: #E8F0FE;\n",
              "        border: none;\n",
              "        border-radius: 50%;\n",
              "        cursor: pointer;\n",
              "        display: none;\n",
              "        fill: #1967D2;\n",
              "        height: 32px;\n",
              "        padding: 0 0 0 0;\n",
              "        width: 32px;\n",
              "      }\n",
              "\n",
              "      .colab-df-generate:hover {\n",
              "        background-color: #E2EBFA;\n",
              "        box-shadow: 0px 1px 2px rgba(60, 64, 67, 0.3), 0px 1px 3px 1px rgba(60, 64, 67, 0.15);\n",
              "        fill: #174EA6;\n",
              "      }\n",
              "\n",
              "      [theme=dark] .colab-df-generate {\n",
              "        background-color: #3B4455;\n",
              "        fill: #D2E3FC;\n",
              "      }\n",
              "\n",
              "      [theme=dark] .colab-df-generate:hover {\n",
              "        background-color: #434B5C;\n",
              "        box-shadow: 0px 1px 3px 1px rgba(0, 0, 0, 0.15);\n",
              "        filter: drop-shadow(0px 1px 2px rgba(0, 0, 0, 0.3));\n",
              "        fill: #FFFFFF;\n",
              "      }\n",
              "    </style>\n",
              "    <button class=\"colab-df-generate\" onclick=\"generateWithVariable('data')\"\n",
              "            title=\"Generate code using this dataframe.\"\n",
              "            style=\"display:none;\">\n",
              "\n",
              "  <svg xmlns=\"http://www.w3.org/2000/svg\" height=\"24px\"viewBox=\"0 0 24 24\"\n",
              "       width=\"24px\">\n",
              "    <path d=\"M7,19H8.4L18.45,9,17,7.55,7,17.6ZM5,21V16.75L18.45,3.32a2,2,0,0,1,2.83,0l1.4,1.43a1.91,1.91,0,0,1,.58,1.4,1.91,1.91,0,0,1-.58,1.4L9.25,21ZM18.45,9,17,7.55Zm-12,3A5.31,5.31,0,0,0,4.9,8.1,5.31,5.31,0,0,0,1,6.5,5.31,5.31,0,0,0,4.9,4.9,5.31,5.31,0,0,0,6.5,1,5.31,5.31,0,0,0,8.1,4.9,5.31,5.31,0,0,0,12,6.5,5.46,5.46,0,0,0,6.5,12Z\"/>\n",
              "  </svg>\n",
              "    </button>\n",
              "    <script>\n",
              "      (() => {\n",
              "      const buttonEl =\n",
              "        document.querySelector('#id_461e73ef-fced-4d27-9be6-263674a506c4 button.colab-df-generate');\n",
              "      buttonEl.style.display =\n",
              "        google.colab.kernel.accessAllowed ? 'block' : 'none';\n",
              "\n",
              "      buttonEl.onclick = () => {\n",
              "        google.colab.notebook.generateWithVariable('data');\n",
              "      }\n",
              "      })();\n",
              "    </script>\n",
              "  </div>\n",
              "\n",
              "    </div>\n",
              "  </div>\n"
            ]
          },
          "metadata": {},
          "execution_count": 4
        }
      ],
      "source": [
        "# We will be needing \"Date\" and \"Close\" as of now.\n",
        "data = data[[\"Date\" , \"Close\"]]\n",
        "data"
      ]
    },
    {
      "cell_type": "markdown",
      "id": "af3df59f",
      "metadata": {
        "papermill": {
          "duration": 0.018048,
          "end_time": "2023-07-24T12:23:48.847655",
          "exception": false,
          "start_time": "2023-07-24T12:23:48.829607",
          "status": "completed"
        },
        "tags": [],
        "id": "af3df59f"
      },
      "source": [
        "## Converting the date column into real date and time using function."
      ]
    },
    {
      "cell_type": "code",
      "execution_count": 6,
      "id": "400ed43e",
      "metadata": {
        "execution": {
          "iopub.execute_input": "2023-07-24T12:23:48.887708Z",
          "iopub.status.busy": "2023-07-24T12:23:48.886965Z",
          "iopub.status.idle": "2023-07-24T12:23:49.328125Z",
          "shell.execute_reply": "2023-07-24T12:23:49.326787Z"
        },
        "papermill": {
          "duration": 0.465008,
          "end_time": "2023-07-24T12:23:49.330989",
          "exception": false,
          "start_time": "2023-07-24T12:23:48.865981",
          "status": "completed"
        },
        "tags": [],
        "id": "400ed43e",
        "outputId": "c85f9a17-bdf8-4cb6-9842-a81a24f4f103",
        "colab": {
          "base_uri": "https://localhost:8080/",
          "height": 551
        }
      },
      "outputs": [
        {
          "output_type": "stream",
          "name": "stderr",
          "text": [
            "<ipython-input-6-1c11c01eda1d>:1: SettingWithCopyWarning: \n",
            "A value is trying to be set on a copy of a slice from a DataFrame.\n",
            "Try using .loc[row_indexer,col_indexer] = value instead\n",
            "\n",
            "See the caveats in the documentation: https://pandas.pydata.org/pandas-docs/stable/user_guide/indexing.html#returning-a-view-versus-a-copy\n",
            "  data['Date'] = pd.to_datetime(data['Date'])\n"
          ]
        },
        {
          "output_type": "execute_result",
          "data": {
            "text/plain": [
              "[<matplotlib.lines.Line2D at 0x784a4488aa10>]"
            ]
          },
          "metadata": {},
          "execution_count": 6
        },
        {
          "output_type": "display_data",
          "data": {
            "text/plain": [
              "<Figure size 640x480 with 1 Axes>"
            ],
            "image/png": "[encoded data removed]"
          },
          "metadata": {}
        }
      ],
      "source": [
        "data['Date'] = pd.to_datetime(data['Date'])\n",
        "\n",
        "# Lets plot the date against the close .\n",
        "plt.plot(data['Date'] , data['Close'])"
      ]
    },
    {
      "cell_type": "markdown",
      "id": "f656d971",
      "metadata": {
        "papermill": {
          "duration": 0.018699,
          "end_time": "2023-07-24T12:23:49.369294",
          "exception": false,
          "start_time": "2023-07-24T12:23:49.350595",
          "status": "completed"
        },
        "tags": [],
        "id": "f656d971"
      },
      "source": [
        "## 4 - Exploratory Data Analysis."
      ]
    },
    {
      "cell_type": "markdown",
      "id": "95b1bfd3",
      "metadata": {
        "papermill": {
          "duration": 0.018776,
          "end_time": "2023-07-24T12:23:49.407774",
          "exception": false,
          "start_time": "2023-07-24T12:23:49.388998",
          "status": "completed"
        },
        "tags": [],
        "id": "95b1bfd3"
      },
      "source": [
        "## 4.1 - Closing Prices over time.\n",
        "    "
      ]
    },
    {
      "cell_type": "code",
      "execution_count": 7,
      "id": "1e67a3d4",
      "metadata": {
        "execution": {
          "iopub.execute_input": "2023-07-24T12:23:49.448693Z",
          "iopub.status.busy": "2023-07-24T12:23:49.447936Z",
          "iopub.status.idle": "2023-07-24T12:23:49.481713Z",
          "shell.execute_reply": "2023-07-24T12:23:49.480617Z"
        },
        "papermill": {
          "duration": 0.057631,
          "end_time": "2023-07-24T12:23:49.484569",
          "exception": false,
          "start_time": "2023-07-24T12:23:49.426938",
          "status": "completed"
        },
        "tags": [],
        "id": "1e67a3d4",
        "outputId": "c7025b53-87c2-4694-8182-eeb2f318d837",
        "colab": {
          "base_uri": "https://localhost:8080/",
          "height": 455
        }
      },
      "outputs": [
        {
          "output_type": "execute_result",
          "data": {
            "text/plain": [
              "                 Close  Close(t-1)  Close(t-2)  Close(t-3)  Close(t-4)  \\\n",
              "Date                                                                     \n",
              "1997-05-27    0.079167    0.075000    0.069792    0.071354    0.081771   \n",
              "1997-05-28    0.076563    0.079167    0.075000    0.069792    0.071354   \n",
              "1997-05-29    0.075260    0.076563    0.079167    0.075000    0.069792   \n",
              "1997-05-30    0.075000    0.075260    0.076563    0.079167    0.075000   \n",
              "1997-06-02    0.075521    0.075000    0.075260    0.076563    0.079167   \n",
              "...                ...         ...         ...         ...         ...   \n",
              "2023-03-30  102.000000  100.250000   97.239998   98.040001   98.129997   \n",
              "2023-03-31  103.290001  102.000000  100.250000   97.239998   98.040001   \n",
              "2023-04-03  102.410004  103.290001  102.000000  100.250000   97.239998   \n",
              "2023-04-04  103.949997  102.410004  103.290001  102.000000  100.250000   \n",
              "2023-04-05  101.099998  103.949997  102.410004  103.290001  102.000000   \n",
              "\n",
              "            Close(t-5)  Close(t-6)  Close(t-7)  \n",
              "Date                                            \n",
              "1997-05-27    0.085417    0.086458    0.097917  \n",
              "1997-05-28    0.081771    0.085417    0.086458  \n",
              "1997-05-29    0.071354    0.081771    0.085417  \n",
              "1997-05-30    0.069792    0.071354    0.081771  \n",
              "1997-06-02    0.075000    0.069792    0.071354  \n",
              "...                ...         ...         ...  \n",
              "2023-03-30   98.709999   98.699997  100.610001  \n",
              "2023-03-31   98.129997   98.709999   98.699997  \n",
              "2023-04-03   98.040001   98.129997   98.709999  \n",
              "2023-04-04   97.239998   98.040001   98.129997  \n",
              "2023-04-05  100.250000   97.239998   98.040001  \n",
              "\n",
              "[6509 rows x 8 columns]"
            ],
            "text/html": [
              "\n",
              "  <div id=\"df-7a951f75-a685-458b-bef9-7cf27c0c2b73\" class=\"colab-df-container\">\n",
              "    <div>\n",
              "<style scoped>\n",
              "    .dataframe tbody tr th:only-of-type {\n",
              "        vertical-align: middle;\n",
              "    }\n",
              "\n",
              "    .dataframe tbody tr th {\n",
              "        vertical-align: top;\n",
              "    }\n",
              "\n",
              "    .dataframe thead th {\n",
              "        text-align: right;\n",
              "    }\n",
              "</style>\n",
              "<table border=\"1\" class=\"dataframe\">\n",
              "  <thead>\n",
              "    <tr style=\"text-align: right;\">\n",
              "      <th></th>\n",
              "      <th>Close</th>\n",
              "      <th>Close(t-1)</th>\n",
              "      <th>Close(t-2)</th>\n",
              "      <th>Close(t-3)</th>\n",
              "      <th>Close(t-4)</th>\n",
              "      <th>Close(t-5)</th>\n",
              "      <th>Close(t-6)</th>\n",
              "      <th>Close(t-7)</th>\n",
              "    </tr>\n",
              "    <tr>\n",
              "      <th>Date</th>\n",
              "      <th></th>\n",
              "      <th></th>\n",
              "      <th></th>\n",
              "      <th></th>\n",
              "      <th></th>\n",
              "      <th></th>\n",
              "      <th></th>\n",
              "      <th></th>\n",
              "    </tr>\n",
              "  </thead>\n",
              "  <tbody>\n",
              "    <tr>\n",
              "      <th>1997-05-27</th>\n",
              "      <td>0.079167</td>\n",
              "      <td>0.075000</td>\n",
              "      <td>0.069792</td>\n",
              "      <td>0.071354</td>\n",
              "      <td>0.081771</td>\n",
              "      <td>0.085417</td>\n",
              "      <td>0.086458</td>\n",
              "      <td>0.097917</td>\n",
              "    </tr>\n",
              "    <tr>\n",
              "      <th>1997-05-28</th>\n",
              "      <td>0.076563</td>\n",
              "      <td>0.079167</td>\n",
              "      <td>0.075000</td>\n",
              "      <td>0.069792</td>\n",
              "      <td>0.071354</td>\n",
              "      <td>0.081771</td>\n",
              "      <td>0.085417</td>\n",
              "      <td>0.086458</td>\n",
              "    </tr>\n",
              "    <tr>\n",
              "      <th>1997-05-29</th>\n",
              "      <td>0.075260</td>\n",
              "      <td>0.076563</td>\n",
              "      <td>0.079167</td>\n",
              "      <td>0.075000</td>\n",
              "      <td>0.069792</td>\n",
              "      <td>0.071354</td>\n",
              "      <td>0.081771</td>\n",
              "      <td>0.085417</td>\n",
              "    </tr>\n",
              "    <tr>\n",
              "      <th>1997-05-30</th>\n",
              "      <td>0.075000</td>\n",
              "      <td>0.075260</td>\n",
              "      <td>0.076563</td>\n",
              "      <td>0.079167</td>\n",
              "      <td>0.075000</td>\n",
              "      <td>0.069792</td>\n",
              "      <td>0.071354</td>\n",
              "      <td>0.081771</td>\n",
              "    </tr>\n",
              "    <tr>\n",
              "      <th>1997-06-02</th>\n",
              "      <td>0.075521</td>\n",
              "      <td>0.075000</td>\n",
              "      <td>0.075260</td>\n",
              "      <td>0.076563</td>\n",
              "      <td>0.079167</td>\n",
              "      <td>0.075000</td>\n",
              "      <td>0.069792</td>\n",
              "      <td>0.071354</td>\n",
              "    </tr>\n",
              "    <tr>\n",
              "      <th>...</th>\n",
              "      <td>...</td>\n",
              "      <td>...</td>\n",
              "      <td>...</td>\n",
              "      <td>...</td>\n",
              "      <td>...</td>\n",
              "      <td>...</td>\n",
              "      <td>...</td>\n",
              "      <td>...</td>\n",
              "    </tr>\n",
              "    <tr>\n",
              "      <th>2023-03-30</th>\n",
              "      <td>102.000000</td>\n",
              "      <td>100.250000</td>\n",
              "      <td>97.239998</td>\n",
              "      <td>98.040001</td>\n",
              "      <td>98.129997</td>\n",
              "      <td>98.709999</td>\n",
              "      <td>98.699997</td>\n",
              "      <td>100.610001</td>\n",
              "    </tr>\n",
              "    <tr>\n",
              "      <th>2023-03-31</th>\n",
              "      <td>103.290001</td>\n",
              "      <td>102.000000</td>\n",
              "      <td>100.250000</td>\n",
              "      <td>97.239998</td>\n",
              "      <td>98.040001</td>\n",
              "      <td>98.129997</td>\n",
              "      <td>98.709999</td>\n",
              "      <td>98.699997</td>\n",
              "    </tr>\n",
              "    <tr>\n",
              "      <th>2023-04-03</th>\n",
              "      <td>102.410004</td>\n",
              "      <td>103.290001</td>\n",
              "      <td>102.000000</td>\n",
              "      <td>100.250000</td>\n",
              "      <td>97.239998</td>\n",
              "      <td>98.040001</td>\n",
              "      <td>98.129997</td>\n",
              "      <td>98.709999</td>\n",
              "    </tr>\n",
              "    <tr>\n",
              "      <th>2023-04-04</th>\n",
              "      <td>103.949997</td>\n",
              "      <td>102.410004</td>\n",
              "      <td>103.290001</td>\n",
              "      <td>102.000000</td>\n",
              "      <td>100.250000</td>\n",
              "      <td>97.239998</td>\n",
              "      <td>98.040001</td>\n",
              "      <td>98.129997</td>\n",
              "    </tr>\n",
              "    <tr>\n",
              "      <th>2023-04-05</th>\n",
              "      <td>101.099998</td>\n",
              "      <td>103.949997</td>\n",
              "      <td>102.410004</td>\n",
              "      <td>103.290001</td>\n",
              "      <td>102.000000</td>\n",
              "      <td>100.250000</td>\n",
              "      <td>97.239998</td>\n",
              "      <td>98.040001</td>\n",
              "    </tr>\n",
              "  </tbody>\n",
              "</table>\n",
              "<p>6509 rows × 8 columns</p>\n",
              "</div>\n",
              "    <div class=\"colab-df-buttons\">\n",
              "\n",
              "  <div class=\"colab-df-container\">\n",
              "    <button class=\"colab-df-convert\" onclick=\"convertToInteractive('df-7a951f75-a685-458b-bef9-7cf27c0c2b73')\"\n",
              "            title=\"Convert this dataframe to an interactive table.\"\n",
              "            style=\"display:none;\">\n",
              "\n",
              "  <svg xmlns=\"http://www.w3.org/2000/svg\" height=\"24px\" viewBox=\"0 -960 960 960\">\n",
              "    <path d=\"M120-120v-720h720v720H120Zm60-500h600v-160H180v160Zm220 220h160v-160H400v160Zm0 220h160v-160H400v160ZM180-400h160v-160H180v160Zm440 0h160v-160H620v160ZM180-180h160v-160H180v160Zm440 0h160v-160H620v160Z\"/>\n",
              "  </svg>\n",
              "    </button>\n",
              "\n",
              "  <style>\n",
              "    .colab-df-container {\n",
              "      display:flex;\n",
              "      gap: 12px;\n",
              "    }\n",
              "\n",
              "    .colab-df-convert {\n",
              "      background-color: #E8F0FE;\n",
              "      border: none;\n",
              "      border-radius: 50%;\n",
              "      cursor: pointer;\n",
              "      display: none;\n",
              "      fill: #1967D2;\n",
              "      height: 32px;\n",
              "      padding: 0 0 0 0;\n",
              "      width: 32px;\n",
              "    }\n",
              "\n",
              "    .colab-df-convert:hover {\n",
              "      background-color: #E2EBFA;\n",
              "      box-shadow: 0px 1px 2px rgba(60, 64, 67, 0.3), 0px 1px 3px 1px rgba(60, 64, 67, 0.15);\n",
              "      fill: #174EA6;\n",
              "    }\n",
              "\n",
              "    .colab-df-buttons div {\n",
              "      margin-bottom: 4px;\n",
              "    }\n",
              "\n",
              "    [theme=dark] .colab-df-convert {\n",
              "      background-color: #3B4455;\n",
              "      fill: #D2E3FC;\n",
              "    }\n",
              "\n",
              "    [theme=dark] .colab-df-convert:hover {\n",
              "      background-color: #434B5C;\n",
              "      box-shadow: 0px 1px 3px 1px rgba(0, 0, 0, 0.15);\n",
              "      filter: drop-shadow(0px 1px 2px rgba(0, 0, 0, 0.3));\n",
              "      fill: #FFFFFF;\n",
              "    }\n",
              "  </style>\n",
              "\n",
              "    <script>\n",
              "      const buttonEl =\n",
              "        document.querySelector('#df-7a951f75-a685-458b-bef9-7cf27c0c2b73 button.colab-df-convert');\n",
              "      buttonEl.style.display =\n",
              "        google.colab.kernel.accessAllowed ? 'block' : 'none';\n",
              "\n",
              "      async function convertToInteractive(key) {\n",
              "        const element = document.querySelector('#df-7a951f75-a685-458b-bef9-7cf27c0c2b73');\n",
              "        const dataTable =\n",
              "          await google.colab.kernel.invokeFunction('convertToInteractive',\n",
              "                                                    [key], {});\n",
              "        if (!dataTable) return;\n",
              "\n",
              "        const docLinkHtml = 'Like what you see? Visit the ' +\n",
              "          '<a target=\"_blank\" href=https://colab.research.google.com/notebooks/data_table.ipynb>data table notebook</a>'\n",
              "          + ' to learn more about interactive tables.';\n",
              "        element.innerHTML = '';\n",
              "        dataTable['output_type'] = 'display_data';\n",
              "        await google.colab.output.renderOutput(dataTable, element);\n",
              "        const docLink = document.createElement('div');\n",
              "        docLink.innerHTML = docLinkHtml;\n",
              "        element.appendChild(docLink);\n",
              "      }\n",
              "    </script>\n",
              "  </div>\n",
              "\n",
              "\n",
              "<div id=\"df-5745c834-b789-4bc8-b160-3d0666a92554\">\n",
              "  <button class=\"colab-df-quickchart\" onclick=\"quickchart('df-5745c834-b789-4bc8-b160-3d0666a92554')\"\n",
              "            title=\"Suggest charts\"\n",
              "            style=\"display:none;\">\n",
              "\n",
              "<svg xmlns=\"http://www.w3.org/2000/svg\" height=\"24px\"viewBox=\"0 0 24 24\"\n",
              "     width=\"24px\">\n",
              "    <g>\n",
              "        <path d=\"M19 3H5c-1.1 0-2 .9-2 2v14c0 1.1.9 2 2 2h14c1.1 0 2-.9 2-2V5c0-1.1-.9-2-2-2zM9 17H7v-7h2v7zm4 0h-2V7h2v10zm4 0h-2v-4h2v4z\"/>\n",
              "    </g>\n",
              "</svg>\n",
              "  </button>\n",
              "\n",
              "<style>\n",
              "  .colab-df-quickchart {\n",
              "      --bg-color: #E8F0FE;\n",
              "      --fill-color: #1967D2;\n",
              "      --hover-bg-color: #E2EBFA;\n",
              "      --hover-fill-color: #174EA6;\n",
              "      --disabled-fill-color: #AAA;\n",
              "      --disabled-bg-color: #DDD;\n",
              "  }\n",
              "\n",
              "  [theme=dark] .colab-df-quickchart {\n",
              "      --bg-color: #3B4455;\n",
              "      --fill-color: #D2E3FC;\n",
              "      --hover-bg-color: #434B5C;\n",
              "      --hover-fill-color: #FFFFFF;\n",
              "      --disabled-bg-color: #3B4455;\n",
              "      --disabled-fill-color: #666;\n",
              "  }\n",
              "\n",
              "  .colab-df-quickchart {\n",
              "    background-color: var(--bg-color);\n",
              "    border: none;\n",
              "    border-radius: 50%;\n",
              "    cursor: pointer;\n",
              "    display: none;\n",
              "    fill: var(--fill-color);\n",
              "    height: 32px;\n",
              "    padding: 0;\n",
              "    width: 32px;\n",
              "  }\n",
              "\n",
              "  .colab-df-quickchart:hover {\n",
              "    background-color: var(--hover-bg-color);\n",
              "    box-shadow: 0 1px 2px rgba(60, 64, 67, 0.3), 0 1px 3px 1px rgba(60, 64, 67, 0.15);\n",
              "    fill: var(--button-hover-fill-color);\n",
              "  }\n",
              "\n",
              "  .colab-df-quickchart-complete:disabled,\n",
              "  .colab-df-quickchart-complete:disabled:hover {\n",
              "    background-color: var(--disabled-bg-color);\n",
              "    fill: var(--disabled-fill-color);\n",
              "    box-shadow: none;\n",
              "  }\n",
              "\n",
              "  .colab-df-spinner {\n",
              "    border: 2px solid var(--fill-color);\n",
              "    border-color: transparent;\n",
              "    border-bottom-color: var(--fill-color);\n",
              "    animation:\n",
              "      spin 1s steps(1) infinite;\n",
              "  }\n",
              "\n",
              "  @keyframes spin {\n",
              "    0% {\n",
              "      border-color: transparent;\n",
              "      border-bottom-color: var(--fill-color);\n",
              "      border-left-color: var(--fill-color);\n",
              "    }\n",
              "    20% {\n",
              "      border-color: transparent;\n",
              "      border-left-color: var(--fill-color);\n",
              "      border-top-color: var(--fill-color);\n",
              "    }\n",
              "    30% {\n",
              "      border-color: transparent;\n",
              "      border-left-color: var(--fill-color);\n",
              "      border-top-color: var(--fill-color);\n",
              "      border-right-color: var(--fill-color);\n",
              "    }\n",
              "    40% {\n",
              "      border-color: transparent;\n",
              "      border-right-color: var(--fill-color);\n",
              "      border-top-color: var(--fill-color);\n",
              "    }\n",
              "    60% {\n",
              "      border-color: transparent;\n",
              "      border-right-color: var(--fill-color);\n",
              "    }\n",
              "    80% {\n",
              "      border-color: transparent;\n",
              "      border-right-color: var(--fill-color);\n",
              "      border-bottom-color: var(--fill-color);\n",
              "    }\n",
              "    90% {\n",
              "      border-color: transparent;\n",
              "      border-bottom-color: var(--fill-color);\n",
              "    }\n",
              "  }\n",
              "</style>\n",
              "\n",
              "  <script>\n",
              "    async function quickchart(key) {\n",
              "      const quickchartButtonEl =\n",
              "        document.querySelector('#' + key + ' button');\n",
              "      quickchartButtonEl.disabled = true;  // To prevent multiple clicks.\n",
              "      quickchartButtonEl.classList.add('colab-df-spinner');\n",
              "      try {\n",
              "        const charts = await google.colab.kernel.invokeFunction(\n",
              "            'suggestCharts', [key], {});\n",
              "      } catch (error) {\n",
              "        console.error('Error during call to suggestCharts:', error);\n",
              "      }\n",
              "      quickchartButtonEl.classList.remove('colab-df-spinner');\n",
              "      quickchartButtonEl.classList.add('colab-df-quickchart-complete');\n",
              "    }\n",
              "    (() => {\n",
              "      let quickchartButtonEl =\n",
              "        document.querySelector('#df-5745c834-b789-4bc8-b160-3d0666a92554 button');\n",
              "      quickchartButtonEl.style.display =\n",
              "        google.colab.kernel.accessAllowed ? 'block' : 'none';\n",
              "    })();\n",
              "  </script>\n",
              "</div>\n",
              "\n",
              "  <div id=\"id_1e1d2257-29ba-45cf-85db-02e00f6347ba\">\n",
              "    <style>\n",
              "      .colab-df-generate {\n",
              "        background-color: #E8F0FE;\n",
              "        border: none;\n",
              "        border-radius: 50%;\n",
              "        cursor: pointer;\n",
              "        display: none;\n",
              "        fill: #1967D2;\n",
              "        height: 32px;\n",
              "        padding: 0 0 0 0;\n",
              "        width: 32px;\n",
              "      }\n",
              "\n",
              "      .colab-df-generate:hover {\n",
              "        background-color: #E2EBFA;\n",
              "        box-shadow: 0px 1px 2px rgba(60, 64, 67, 0.3), 0px 1px 3px 1px rgba(60, 64, 67, 0.15);\n",
              "        fill: #174EA6;\n",
              "      }\n",
              "\n",
              "      [theme=dark] .colab-df-generate {\n",
              "        background-color: #3B4455;\n",
              "        fill: #D2E3FC;\n",
              "      }\n",
              "\n",
              "      [theme=dark] .colab-df-generate:hover {\n",
              "        background-color: #434B5C;\n",
              "        box-shadow: 0px 1px 3px 1px rgba(0, 0, 0, 0.15);\n",
              "        filter: drop-shadow(0px 1px 2px rgba(0, 0, 0, 0.3));\n",
              "        fill: #FFFFFF;\n",
              "      }\n",
              "    </style>\n",
              "    <button class=\"colab-df-generate\" onclick=\"generateWithVariable('shifted_df')\"\n",
              "            title=\"Generate code using this dataframe.\"\n",
              "            style=\"display:none;\">\n",
              "\n",
              "  <svg xmlns=\"http://www.w3.org/2000/svg\" height=\"24px\"viewBox=\"0 0 24 24\"\n",
              "       width=\"24px\">\n",
              "    <path d=\"M7,19H8.4L18.45,9,17,7.55,7,17.6ZM5,21V16.75L18.45,3.32a2,2,0,0,1,2.83,0l1.4,1.43a1.91,1.91,0,0,1,.58,1.4,1.91,1.91,0,0,1-.58,1.4L9.25,21ZM18.45,9,17,7.55Zm-12,3A5.31,5.31,0,0,0,4.9,8.1,5.31,5.31,0,0,0,1,6.5,5.31,5.31,0,0,0,4.9,4.9,5.31,5.31,0,0,0,6.5,1,5.31,5.31,0,0,0,8.1,4.9,5.31,5.31,0,0,0,12,6.5,5.46,5.46,0,0,0,6.5,12Z\"/>\n",
              "  </svg>\n",
              "    </button>\n",
              "    <script>\n",
              "      (() => {\n",
              "      const buttonEl =\n",
              "        document.querySelector('#id_1e1d2257-29ba-45cf-85db-02e00f6347ba button.colab-df-generate');\n",
              "      buttonEl.style.display =\n",
              "        google.colab.kernel.accessAllowed ? 'block' : 'none';\n",
              "\n",
              "      buttonEl.onclick = () => {\n",
              "        google.colab.notebook.generateWithVariable('shifted_df');\n",
              "      }\n",
              "      })();\n",
              "    </script>\n",
              "  </div>\n",
              "\n",
              "    </div>\n",
              "  </div>\n"
            ]
          },
          "metadata": {},
          "execution_count": 7
        }
      ],
      "source": [
        "from copy import deepcopy as dc\n",
        "\n",
        "def prepare_dataframe_for_lstm(df, n_steps):\n",
        "    df = dc(df)\n",
        "\n",
        "    df.set_index('Date', inplace=True)\n",
        "\n",
        "    for i in range(1, n_steps+1):\n",
        "        df[f'Close(t-{i})'] = df['Close'].shift(i)\n",
        "\n",
        "    df.dropna(inplace=True)\n",
        "\n",
        "    return df\n",
        "\n",
        "lookback = 7\n",
        "shifted_df = prepare_dataframe_for_lstm(data, lookback)\n",
        "shifted_df"
      ]
    },
    {
      "cell_type": "markdown",
      "id": "b1342a17",
      "metadata": {
        "papermill": {
          "duration": 0.019278,
          "end_time": "2023-07-24T12:23:49.523612",
          "exception": false,
          "start_time": "2023-07-24T12:23:49.504334",
          "status": "completed"
        },
        "tags": [],
        "id": "b1342a17"
      },
      "source": [
        "## In the above output , close = Todays closing price , Close(t-1) = Yesterdays closing price , Close(t-2) = A day before close(t-1) and so on"
      ]
    },
    {
      "cell_type": "markdown",
      "id": "20f41a37",
      "metadata": {
        "papermill": {
          "duration": 0.019543,
          "end_time": "2023-07-24T12:23:49.563193",
          "exception": false,
          "start_time": "2023-07-24T12:23:49.54365",
          "status": "completed"
        },
        "tags": [],
        "id": "20f41a37"
      },
      "source": [
        "## 4.2 -  Converting the data into a numpy array."
      ]
    },
    {
      "cell_type": "code",
      "execution_count": 8,
      "id": "1843d09b",
      "metadata": {
        "execution": {
          "iopub.execute_input": "2023-07-24T12:23:49.606005Z",
          "iopub.status.busy": "2023-07-24T12:23:49.605207Z",
          "iopub.status.idle": "2023-07-24T12:23:49.613293Z",
          "shell.execute_reply": "2023-07-24T12:23:49.612278Z"
        },
        "papermill": {
          "duration": 0.032245,
          "end_time": "2023-07-24T12:23:49.615704",
          "exception": false,
          "start_time": "2023-07-24T12:23:49.583459",
          "status": "completed"
        },
        "tags": [],
        "id": "1843d09b",
        "outputId": "5099d0a0-477d-445b-be48-19ef8cede171",
        "colab": {
          "base_uri": "https://localhost:8080/"
        }
      },
      "outputs": [
        {
          "output_type": "execute_result",
          "data": {
            "text/plain": [
              "array([[7.91670000e-02, 7.50000000e-02, 6.97920000e-02, ...,\n",
              "        8.54170000e-02, 8.64580000e-02, 9.79170000e-02],\n",
              "       [7.65630000e-02, 7.91670000e-02, 7.50000000e-02, ...,\n",
              "        8.17710000e-02, 8.54170000e-02, 8.64580000e-02],\n",
              "       [7.52600000e-02, 7.65630000e-02, 7.91670000e-02, ...,\n",
              "        7.13540000e-02, 8.17710000e-02, 8.54170000e-02],\n",
              "       ...,\n",
              "       [1.02410004e+02, 1.03290001e+02, 1.02000000e+02, ...,\n",
              "        9.80400010e+01, 9.81299970e+01, 9.87099990e+01],\n",
              "       [1.03949997e+02, 1.02410004e+02, 1.03290001e+02, ...,\n",
              "        9.72399980e+01, 9.80400010e+01, 9.81299970e+01],\n",
              "       [1.01099998e+02, 1.03949997e+02, 1.02410004e+02, ...,\n",
              "        1.00250000e+02, 9.72399980e+01, 9.80400010e+01]])"
            ]
          },
          "metadata": {},
          "execution_count": 8
        }
      ],
      "source": [
        "shifted_df_to_np = shifted_df.to_numpy()\n",
        "shifted_df_to_np\n"
      ]
    },
    {
      "cell_type": "markdown",
      "id": "723b3cd9",
      "metadata": {
        "papermill": {
          "duration": 0.019588,
          "end_time": "2023-07-24T12:23:49.655487",
          "exception": false,
          "start_time": "2023-07-24T12:23:49.635899",
          "status": "completed"
        },
        "tags": [],
        "id": "723b3cd9"
      },
      "source": [
        "## 4.3 - Scaling the array."
      ]
    },
    {
      "cell_type": "code",
      "execution_count": 9,
      "id": "2a44e8e2",
      "metadata": {
        "execution": {
          "iopub.execute_input": "2023-07-24T12:23:49.697856Z",
          "iopub.status.busy": "2023-07-24T12:23:49.697249Z",
          "iopub.status.idle": "2023-07-24T12:23:51.006864Z",
          "shell.execute_reply": "2023-07-24T12:23:51.00562Z"
        },
        "papermill": {
          "duration": 1.334105,
          "end_time": "2023-07-24T12:23:51.0099",
          "exception": false,
          "start_time": "2023-07-24T12:23:49.675795",
          "status": "completed"
        },
        "tags": [],
        "id": "2a44e8e2",
        "outputId": "006e014a-5b63-4454-bc9d-06b6b15b1c65",
        "colab": {
          "base_uri": "https://localhost:8080/"
        }
      },
      "outputs": [
        {
          "output_type": "execute_result",
          "data": {
            "text/plain": [
              "array([[-0.99991063, -0.99995531, -1.        , ..., -0.99983244,\n",
              "        -0.99982128, -0.99969839],\n",
              "       [-0.99993855, -0.99991063, -0.99994415, ..., -0.99987154,\n",
              "        -0.99983244, -0.99982128],\n",
              "       [-0.99995253, -0.99993855, -0.99989946, ..., -0.99998325,\n",
              "        -0.99987154, -0.99983244],\n",
              "       ...,\n",
              "       [ 0.09747299,  0.10690997,  0.09308121, ...,  0.0506149 ,\n",
              "         0.05158   ,  0.05779984],\n",
              "       [ 0.11398769,  0.09747299,  0.10691495, ...,  0.04203581,\n",
              "         0.0506149 ,  0.05158   ],\n",
              "       [ 0.08342464,  0.11398769,  0.09747802, ...,  0.07431453,\n",
              "         0.04203581,  0.0506149 ]])"
            ]
          },
          "metadata": {},
          "execution_count": 9
        }
      ],
      "source": [
        "from sklearn.preprocessing import MinMaxScaler\n",
        "\n",
        "scaler = MinMaxScaler(feature_range = (-1,1))\n",
        "shifted_df_to_np = scaler.fit_transform(shifted_df_to_np)\n",
        "shifted_df_to_np"
      ]
    },
    {
      "cell_type": "markdown",
      "id": "186b4b51",
      "metadata": {
        "papermill": {
          "duration": 0.019599,
          "end_time": "2023-07-24T12:23:51.050703",
          "exception": false,
          "start_time": "2023-07-24T12:23:51.031104",
          "status": "completed"
        },
        "tags": [],
        "id": "186b4b51"
      },
      "source": [
        "## 4.4 - Defining Dependent and Independent variables"
      ]
    },
    {
      "cell_type": "code",
      "execution_count": 10,
      "id": "59444b89",
      "metadata": {
        "execution": {
          "iopub.execute_input": "2023-07-24T12:23:51.093123Z",
          "iopub.status.busy": "2023-07-24T12:23:51.092665Z",
          "iopub.status.idle": "2023-07-24T12:23:51.100651Z",
          "shell.execute_reply": "2023-07-24T12:23:51.099439Z"
        },
        "papermill": {
          "duration": 0.032332,
          "end_time": "2023-07-24T12:23:51.103034",
          "exception": false,
          "start_time": "2023-07-24T12:23:51.070702",
          "status": "completed"
        },
        "tags": [],
        "id": "59444b89",
        "outputId": "9106b3b4-2c02-4c34-ade3-8f3dffbb039a",
        "colab": {
          "base_uri": "https://localhost:8080/"
        }
      },
      "outputs": [
        {
          "output_type": "execute_result",
          "data": {
            "text/plain": [
              "((6509, 7), (6509,))"
            ]
          },
          "metadata": {},
          "execution_count": 10
        }
      ],
      "source": [
        "X = shifted_df_to_np[: , 1:]\n",
        "Y = shifted_df_to_np[: , 0]\n",
        "\n",
        "X.shape , Y.shape\n"
      ]
    },
    {
      "cell_type": "markdown",
      "id": "ef952bef",
      "metadata": {
        "papermill": {
          "duration": 0.019535,
          "end_time": "2023-07-24T12:23:51.142656",
          "exception": false,
          "start_time": "2023-07-24T12:23:51.123121",
          "status": "completed"
        },
        "tags": [],
        "id": "ef952bef"
      },
      "source": [
        "## Flipping the Array :"
      ]
    },
    {
      "cell_type": "code",
      "execution_count": 11,
      "id": "dbae2acc",
      "metadata": {
        "execution": {
          "iopub.execute_input": "2023-07-24T12:23:51.185605Z",
          "iopub.status.busy": "2023-07-24T12:23:51.185209Z",
          "iopub.status.idle": "2023-07-24T12:23:51.192854Z",
          "shell.execute_reply": "2023-07-24T12:23:51.191972Z"
        },
        "papermill": {
          "duration": 0.031246,
          "end_time": "2023-07-24T12:23:51.195075",
          "exception": false,
          "start_time": "2023-07-24T12:23:51.163829",
          "status": "completed"
        },
        "tags": [],
        "id": "dbae2acc",
        "outputId": "6b71c0fb-7b15-4bf1-f364-cc95d8d94640",
        "colab": {
          "base_uri": "https://localhost:8080/"
        }
      },
      "outputs": [
        {
          "output_type": "execute_result",
          "data": {
            "text/plain": [
              "array([[-0.99969839, -0.99982128, -0.99983244, ..., -0.99998325,\n",
              "        -1.        , -0.99995531],\n",
              "       [-0.99982128, -0.99983244, -0.99987154, ..., -1.        ,\n",
              "        -0.99994415, -0.99991063],\n",
              "       [-0.99983244, -0.99987154, -0.99998325, ..., -0.99994415,\n",
              "        -0.99989946, -0.99993855],\n",
              "       ...,\n",
              "       [ 0.05779984,  0.05158   ,  0.0506149 , ...,  0.07431453,\n",
              "         0.09308121,  0.10690997],\n",
              "       [ 0.05158   ,  0.0506149 ,  0.04203581, ...,  0.09308121,\n",
              "         0.10691495,  0.09747299],\n",
              "       [ 0.0506149 ,  0.04203581,  0.07431453, ...,  0.10691495,\n",
              "         0.09747802,  0.11398769]])"
            ]
          },
          "metadata": {},
          "execution_count": 11
        }
      ],
      "source": [
        "X = dc(np.flip(X, axis=1))\n",
        "X"
      ]
    },
    {
      "cell_type": "markdown",
      "id": "9bd59e32",
      "metadata": {
        "papermill": {
          "duration": 0.020041,
          "end_time": "2023-07-24T12:23:51.235914",
          "exception": false,
          "start_time": "2023-07-24T12:23:51.215873",
          "status": "completed"
        },
        "tags": [],
        "id": "9bd59e32"
      },
      "source": [
        "## 4.5 - Splitting the Array."
      ]
    },
    {
      "cell_type": "code",
      "execution_count": 13,
      "id": "36e85bef",
      "metadata": {
        "execution": {
          "iopub.execute_input": "2023-07-24T12:23:51.279181Z",
          "iopub.status.busy": "2023-07-24T12:23:51.278747Z",
          "iopub.status.idle": "2023-07-24T12:23:51.285548Z",
          "shell.execute_reply": "2023-07-24T12:23:51.284446Z"
        },
        "papermill": {
          "duration": 0.03185,
          "end_time": "2023-07-24T12:23:51.288141",
          "exception": false,
          "start_time": "2023-07-24T12:23:51.256291",
          "status": "completed"
        },
        "tags": [],
        "id": "36e85bef",
        "outputId": "54bf495e-cbca-4455-eab2-781887f04759",
        "colab": {
          "base_uri": "https://localhost:8080/"
        }
      },
      "outputs": [
        {
          "output_type": "execute_result",
          "data": {
            "text/plain": [
              "5858"
            ]
          },
          "metadata": {},
          "execution_count": 13
        }
      ],
      "source": [
        "# Splitting the dataset as 90% of training and 10% to Testing dataset.\n",
        "split_index = int(len(X) * 0.90)\n",
        "\n",
        "split_index"
      ]
    },
    {
      "cell_type": "markdown",
      "id": "b7bbed1f",
      "metadata": {
        "papermill": {
          "duration": 0.02051,
          "end_time": "2023-07-24T12:23:51.329191",
          "exception": false,
          "start_time": "2023-07-24T12:23:51.308681",
          "status": "completed"
        },
        "tags": [],
        "id": "b7bbed1f"
      },
      "source": [
        "##4 .6 - Splitting \"X\" & \"Y\"."
      ]
    },
    {
      "cell_type": "code",
      "execution_count": 14,
      "id": "5ef61d59",
      "metadata": {
        "execution": {
          "iopub.execute_input": "2023-07-24T12:23:51.372687Z",
          "iopub.status.busy": "2023-07-24T12:23:51.372284Z",
          "iopub.status.idle": "2023-07-24T12:23:51.381298Z",
          "shell.execute_reply": "2023-07-24T12:23:51.379897Z"
        },
        "papermill": {
          "duration": 0.033651,
          "end_time": "2023-07-24T12:23:51.383795",
          "exception": false,
          "start_time": "2023-07-24T12:23:51.350144",
          "status": "completed"
        },
        "tags": [],
        "id": "5ef61d59",
        "outputId": "453749fb-1340-4cac-f4c5-d5458fabe7bd",
        "colab": {
          "base_uri": "https://localhost:8080/"
        }
      },
      "outputs": [
        {
          "output_type": "execute_result",
          "data": {
            "text/plain": [
              "((5858, 7), (651, 7), (5858,), (651,))"
            ]
          },
          "metadata": {},
          "execution_count": 14
        }
      ],
      "source": [
        "X_train = X[:split_index]\n",
        "X_test = X[split_index:]\n",
        "\n",
        "y_train = Y[:split_index]\n",
        "y_test = Y[split_index:]\n",
        "\n",
        "X_train.shape, X_test.shape, y_train.shape, y_test.shape"
      ]
    },
    {
      "cell_type": "markdown",
      "id": "c12683d4",
      "metadata": {
        "papermill": {
          "duration": 0.020208,
          "end_time": "2023-07-24T12:23:51.424642",
          "exception": false,
          "start_time": "2023-07-24T12:23:51.404434",
          "status": "completed"
        },
        "tags": [],
        "id": "c12683d4"
      },
      "source": [
        "## 4.7 -  Adding a new dimension and reshaping the array .  "
      ]
    },
    {
      "cell_type": "code",
      "execution_count": 15,
      "id": "d00d704f",
      "metadata": {
        "execution": {
          "iopub.execute_input": "2023-07-24T12:23:51.467645Z",
          "iopub.status.busy": "2023-07-24T12:23:51.467242Z",
          "iopub.status.idle": "2023-07-24T12:23:51.475909Z",
          "shell.execute_reply": "2023-07-24T12:23:51.47492Z"
        },
        "papermill": {
          "duration": 0.033015,
          "end_time": "2023-07-24T12:23:51.478255",
          "exception": false,
          "start_time": "2023-07-24T12:23:51.44524",
          "status": "completed"
        },
        "tags": [],
        "id": "d00d704f",
        "outputId": "1d5b0005-a849-4dcd-fe6a-ca80648ebb7d",
        "colab": {
          "base_uri": "https://localhost:8080/"
        }
      },
      "outputs": [
        {
          "output_type": "execute_result",
          "data": {
            "text/plain": [
              "((5858, 7, 1), (651, 7, 1), (5858, 1), (651, 1))"
            ]
          },
          "metadata": {},
          "execution_count": 15
        }
      ],
      "source": [
        "X_train = X_train.reshape((-1, lookback, 1))\n",
        "X_test = X_test.reshape((-1, lookback, 1))\n",
        "\n",
        "y_train = y_train.reshape((-1, 1))\n",
        "y_test = y_test.reshape((-1, 1))\n",
        "\n",
        "X_train.shape, X_test.shape, y_train.shape, y_test.shape"
      ]
    },
    {
      "cell_type": "markdown",
      "id": "50362775",
      "metadata": {
        "papermill": {
          "duration": 0.021056,
          "end_time": "2023-07-24T12:23:51.519868",
          "exception": false,
          "start_time": "2023-07-24T12:23:51.498812",
          "status": "completed"
        },
        "tags": [],
        "id": "50362775"
      },
      "source": [
        "## 4.8 - Converting the data into Tensors float ."
      ]
    },
    {
      "cell_type": "code",
      "execution_count": 21,
      "id": "dc81c3f9",
      "metadata": {
        "execution": {
          "iopub.execute_input": "2023-07-24T12:23:51.563408Z",
          "iopub.status.busy": "2023-07-24T12:23:51.563013Z",
          "iopub.status.idle": "2023-07-24T12:23:51.619557Z",
          "shell.execute_reply": "2023-07-24T12:23:51.618338Z"
        },
        "papermill": {
          "duration": 0.081452,
          "end_time": "2023-07-24T12:23:51.622203",
          "exception": false,
          "start_time": "2023-07-24T12:23:51.540751",
          "status": "completed"
        },
        "tags": [],
        "id": "dc81c3f9",
        "outputId": "dba7fede-b6bf-40f2-aa67-725d4e22645b",
        "colab": {
          "base_uri": "https://localhost:8080/"
        }
      },
      "outputs": [
        {
          "output_type": "stream",
          "name": "stderr",
          "text": [
            "<ipython-input-21-c2452bde8414>:1: UserWarning: To copy construct from a tensor, it is recommended to use sourceTensor.clone().detach() or sourceTensor.clone().detach().requires_grad_(True), rather than torch.tensor(sourceTensor).\n",
            "  X_train = torch.tensor(X_train).float()\n",
            "<ipython-input-21-c2452bde8414>:2: UserWarning: To copy construct from a tensor, it is recommended to use sourceTensor.clone().detach() or sourceTensor.clone().detach().requires_grad_(True), rather than torch.tensor(sourceTensor).\n",
            "  y_train = torch.tensor(y_train).float()\n",
            "<ipython-input-21-c2452bde8414>:3: UserWarning: To copy construct from a tensor, it is recommended to use sourceTensor.clone().detach() or sourceTensor.clone().detach().requires_grad_(True), rather than torch.tensor(sourceTensor).\n",
            "  X_test = torch.tensor(X_test).float()\n",
            "<ipython-input-21-c2452bde8414>:4: UserWarning: To copy construct from a tensor, it is recommended to use sourceTensor.clone().detach() or sourceTensor.clone().detach().requires_grad_(True), rather than torch.tensor(sourceTensor).\n",
            "  y_test = torch.tensor(y_test).float()\n"
          ]
        },
        {
          "output_type": "execute_result",
          "data": {
            "text/plain": [
              "(torch.Size([5858, 7, 1]),\n",
              " torch.Size([651, 7, 1]),\n",
              " torch.Size([5858, 1]),\n",
              " torch.Size([651, 1]))"
            ]
          },
          "metadata": {},
          "execution_count": 21
        }
      ],
      "source": [
        "X_train = torch.tensor(X_train).float()\n",
        "y_train = torch.tensor(y_train).float()\n",
        "X_test = torch.tensor(X_test).float()\n",
        "y_test = torch.tensor(y_test).float()\n",
        "X_train.shape, X_test.shape, y_train.shape, y_test.shape"
      ]
    },
    {
      "cell_type": "markdown",
      "id": "0d75d229",
      "metadata": {
        "papermill": {
          "duration": 0.02084,
          "end_time": "2023-07-24T12:23:51.664938",
          "exception": false,
          "start_time": "2023-07-24T12:23:51.644098",
          "status": "completed"
        },
        "tags": [],
        "id": "0d75d229"
      },
      "source": [
        "## 4.9 - Creating  custom Classes."
      ]
    },
    {
      "cell_type": "code",
      "execution_count": 22,
      "id": "716a3d42",
      "metadata": {
        "execution": {
          "iopub.execute_input": "2023-07-24T12:23:51.708429Z",
          "iopub.status.busy": "2023-07-24T12:23:51.70802Z",
          "iopub.status.idle": "2023-07-24T12:23:51.715736Z",
          "shell.execute_reply": "2023-07-24T12:23:51.714541Z"
        },
        "papermill": {
          "duration": 0.032306,
          "end_time": "2023-07-24T12:23:51.718064",
          "exception": false,
          "start_time": "2023-07-24T12:23:51.685758",
          "status": "completed"
        },
        "tags": [],
        "id": "716a3d42"
      },
      "outputs": [],
      "source": [
        "from torch.utils.data import Dataset\n",
        "\n",
        "class TimeSeriesDataset(Dataset):\n",
        "    def __init__(self, X, y):\n",
        "        self.X = X\n",
        "        self.y = y\n",
        "\n",
        "    def __len__(self):\n",
        "        return len(self.X)\n",
        "\n",
        "    def __getitem__(self, i):\n",
        "        return self.X[i], self.y[i]\n",
        "\n",
        "train_dataset = TimeSeriesDataset(X_train, y_train)\n",
        "test_dataset = TimeSeriesDataset(X_test, y_test)"
      ]
    },
    {
      "cell_type": "code",
      "execution_count": 23,
      "id": "db6f860f",
      "metadata": {
        "execution": {
          "iopub.execute_input": "2023-07-24T12:23:51.763091Z",
          "iopub.status.busy": "2023-07-24T12:23:51.761688Z",
          "iopub.status.idle": "2023-07-24T12:23:51.769477Z",
          "shell.execute_reply": "2023-07-24T12:23:51.768384Z"
        },
        "papermill": {
          "duration": 0.03246,
          "end_time": "2023-07-24T12:23:51.771815",
          "exception": false,
          "start_time": "2023-07-24T12:23:51.739355",
          "status": "completed"
        },
        "tags": [],
        "id": "db6f860f",
        "outputId": "4655941d-f399-4f99-c4a0-82bf62c8332b",
        "colab": {
          "base_uri": "https://localhost:8080/"
        }
      },
      "outputs": [
        {
          "output_type": "execute_result",
          "data": {
            "text/plain": [
              "<__main__.TimeSeriesDataset at 0x784a3b2cace0>"
            ]
          },
          "metadata": {},
          "execution_count": 23
        }
      ],
      "source": [
        "train_dataset"
      ]
    },
    {
      "cell_type": "markdown",
      "id": "97b9632e",
      "metadata": {
        "papermill": {
          "duration": 0.020764,
          "end_time": "2023-07-24T12:23:51.813562",
          "exception": false,
          "start_time": "2023-07-24T12:23:51.792798",
          "status": "completed"
        },
        "tags": [],
        "id": "97b9632e"
      },
      "source": [
        "##4.10 -  Iterating Data in Batches."
      ]
    },
    {
      "cell_type": "code",
      "execution_count": 24,
      "id": "3122b833",
      "metadata": {
        "execution": {
          "iopub.execute_input": "2023-07-24T12:23:51.857849Z",
          "iopub.status.busy": "2023-07-24T12:23:51.857112Z",
          "iopub.status.idle": "2023-07-24T12:23:51.863509Z",
          "shell.execute_reply": "2023-07-24T12:23:51.862531Z"
        },
        "papermill": {
          "duration": 0.031605,
          "end_time": "2023-07-24T12:23:51.866086",
          "exception": false,
          "start_time": "2023-07-24T12:23:51.834481",
          "status": "completed"
        },
        "tags": [],
        "id": "3122b833"
      },
      "outputs": [],
      "source": [
        "from torch.utils.data import DataLoader\n",
        "\n",
        "batch_size = 16\n",
        "\n",
        "train_loader = DataLoader(train_dataset, batch_size=batch_size, shuffle=True)\n",
        "test_loader = DataLoader(test_dataset, batch_size=batch_size, shuffle=False)"
      ]
    },
    {
      "cell_type": "markdown",
      "id": "482561a1",
      "metadata": {
        "papermill": {
          "duration": 0.021503,
          "end_time": "2023-07-24T12:23:51.908939",
          "exception": false,
          "start_time": "2023-07-24T12:23:51.887436",
          "status": "completed"
        },
        "tags": [],
        "id": "482561a1"
      },
      "source": [
        "## 4.11 - Processing the training data."
      ]
    },
    {
      "cell_type": "code",
      "execution_count": 25,
      "id": "b6692915",
      "metadata": {
        "execution": {
          "iopub.execute_input": "2023-07-24T12:23:51.954328Z",
          "iopub.status.busy": "2023-07-24T12:23:51.953605Z",
          "iopub.status.idle": "2023-07-24T12:23:52.009572Z",
          "shell.execute_reply": "2023-07-24T12:23:52.007722Z"
        },
        "papermill": {
          "duration": 0.081789,
          "end_time": "2023-07-24T12:23:52.012656",
          "exception": false,
          "start_time": "2023-07-24T12:23:51.930867",
          "status": "completed"
        },
        "tags": [],
        "id": "b6692915",
        "outputId": "363df5b7-01da-4e87-c866-cc7b3dcbd9f3",
        "colab": {
          "base_uri": "https://localhost:8080/"
        }
      },
      "outputs": [
        {
          "output_type": "stream",
          "name": "stdout",
          "text": [
            "torch.Size([16, 7, 1]) torch.Size([16, 1])\n"
          ]
        }
      ],
      "source": [
        "for _, batch in enumerate(train_loader):\n",
        "    x_batch, y_batch = batch[0].to(device), batch[1].to(device)\n",
        "    print(x_batch.shape, y_batch.shape)\n",
        "    break"
      ]
    },
    {
      "cell_type": "markdown",
      "id": "c3d29b49",
      "metadata": {
        "papermill": {
          "duration": 0.021322,
          "end_time": "2023-07-24T12:23:52.055207",
          "exception": false,
          "start_time": "2023-07-24T12:23:52.033885",
          "status": "completed"
        },
        "tags": [],
        "id": "c3d29b49"
      },
      "source": [
        "##5 - Model Building."
      ]
    },
    {
      "cell_type": "markdown",
      "id": "30dca39c",
      "metadata": {
        "papermill": {
          "duration": 0.020743,
          "end_time": "2023-07-24T12:23:52.096934",
          "exception": false,
          "start_time": "2023-07-24T12:23:52.076191",
          "status": "completed"
        },
        "tags": [],
        "id": "30dca39c"
      },
      "source": [
        "## 5.1 - LSTM model."
      ]
    },
    {
      "cell_type": "code",
      "execution_count": 27,
      "id": "c7277b5a",
      "metadata": {
        "execution": {
          "iopub.execute_input": "2023-07-24T12:23:52.141311Z",
          "iopub.status.busy": "2023-07-24T12:23:52.140872Z",
          "iopub.status.idle": "2023-07-24T12:23:52.159602Z",
          "shell.execute_reply": "2023-07-24T12:23:52.158419Z"
        },
        "papermill": {
          "duration": 0.043639,
          "end_time": "2023-07-24T12:23:52.161854",
          "exception": false,
          "start_time": "2023-07-24T12:23:52.118215",
          "status": "completed"
        },
        "tags": [],
        "id": "c7277b5a",
        "outputId": "0c945922-d3fe-48dd-a3fb-c8fa18cda53f",
        "colab": {
          "base_uri": "https://localhost:8080/"
        }
      },
      "outputs": [
        {
          "output_type": "execute_result",
          "data": {
            "text/plain": [
              "LSTM(\n",
              "  (lstm): LSTM(1, 4, batch_first=True)\n",
              "  (fc): Linear(in_features=4, out_features=1, bias=True)\n",
              ")"
            ]
          },
          "metadata": {},
          "execution_count": 27
        }
      ],
      "source": [
        "class LSTM(nn.Module):\n",
        "    def __init__(self, input_size, hidden_size, num_stacked_layers):\n",
        "        super().__init__()\n",
        "        self.hidden_size = hidden_size\n",
        "        self.num_stacked_layers = num_stacked_layers\n",
        "\n",
        "        # LSTM layer\n",
        "        self.lstm = nn.LSTM(input_size, hidden_size, num_stacked_layers,\n",
        "                            batch_first=True)\n",
        "\n",
        "        # Fully connected layer\n",
        "        self.fc = nn.Linear(hidden_size, 1)\n",
        "\n",
        "    def forward(self, x):\n",
        "        batch_size = x.size(0)\n",
        "        h0 = torch.zeros(self.num_stacked_layers, batch_size, self.hidden_size).to(device)\n",
        "        c0 = torch.zeros(self.num_stacked_layers, batch_size, self.hidden_size).to(device)\n",
        "\n",
        "        # Pass input through LSTM layers\n",
        "        out, _ = self.lstm(x, (h0, c0))\n",
        "\n",
        "        # Take the last time step's output\n",
        "        out = self.fc(out[:, -1, :])\n",
        "        return out\n",
        "\n",
        "# Create an instance of the LSTM model\n",
        "model = LSTM(1, 4, 1)\n",
        "\n",
        "# Move the model to the specified device (e.g., GPU)\n",
        "model.to(device)\n",
        "\n",
        "# Print the model architecture\n",
        "model\n"
      ]
    },
    {
      "cell_type": "markdown",
      "id": "e3796a2c",
      "metadata": {
        "papermill": {
          "duration": 0.021184,
          "end_time": "2023-07-24T12:23:52.205435",
          "exception": false,
          "start_time": "2023-07-24T12:23:52.184251",
          "status": "completed"
        },
        "tags": [],
        "id": "e3796a2c"
      },
      "source": [
        "## 5.2 - Training the model."
      ]
    },
    {
      "cell_type": "code",
      "execution_count": 28,
      "id": "b97e0eef",
      "metadata": {
        "execution": {
          "iopub.execute_input": "2023-07-24T12:23:52.250323Z",
          "iopub.status.busy": "2023-07-24T12:23:52.249651Z",
          "iopub.status.idle": "2023-07-24T12:23:52.258826Z",
          "shell.execute_reply": "2023-07-24T12:23:52.2577Z"
        },
        "papermill": {
          "duration": 0.034923,
          "end_time": "2023-07-24T12:23:52.26175",
          "exception": false,
          "start_time": "2023-07-24T12:23:52.226827",
          "status": "completed"
        },
        "tags": [],
        "id": "b97e0eef"
      },
      "outputs": [],
      "source": [
        "def train_one_epoch():\n",
        "    model.train(True)\n",
        "    print(f'Epoch: {epoch + 1}')\n",
        "    running_loss = 0.0\n",
        "\n",
        "    for batch_index, batch in enumerate(train_loader):\n",
        "        x_batch, y_batch = batch[0].to(device), batch[1].to(device)\n",
        "\n",
        "        output = model(x_batch)\n",
        "        loss = loss_function(output, y_batch)\n",
        "        running_loss += loss.item()\n",
        "\n",
        "        optimizer.zero_grad()\n",
        "        loss.backward()\n",
        "        optimizer.step()\n",
        "\n",
        "        if batch_index % 100 == 99:  # print every 100 batches\n",
        "            avg_loss_across_batches = running_loss / 100\n",
        "            print('Batch {0}, Loss: {1:.3f}'.format(batch_index+1,\n",
        "                                                    avg_loss_across_batches))\n",
        "            running_loss = 0.0\n",
        "    print()"
      ]
    },
    {
      "cell_type": "markdown",
      "id": "7e203742",
      "metadata": {
        "papermill": {
          "duration": 0.021026,
          "end_time": "2023-07-24T12:23:52.30464",
          "exception": false,
          "start_time": "2023-07-24T12:23:52.283614",
          "status": "completed"
        },
        "tags": [],
        "id": "7e203742"
      },
      "source": [
        "## 5.3 - Model Evaluation."
      ]
    },
    {
      "cell_type": "code",
      "execution_count": 29,
      "id": "8a937d09",
      "metadata": {
        "execution": {
          "iopub.execute_input": "2023-07-24T12:23:52.34903Z",
          "iopub.status.busy": "2023-07-24T12:23:52.348612Z",
          "iopub.status.idle": "2023-07-24T12:23:52.356411Z",
          "shell.execute_reply": "2023-07-24T12:23:52.355251Z"
        },
        "papermill": {
          "duration": 0.032842,
          "end_time": "2023-07-24T12:23:52.358826",
          "exception": false,
          "start_time": "2023-07-24T12:23:52.325984",
          "status": "completed"
        },
        "tags": [],
        "id": "8a937d09"
      },
      "outputs": [],
      "source": [
        "def validate_one_epoch():\n",
        "    model.train(False)\n",
        "    running_loss = 0.0\n",
        "\n",
        "    for batch_index, batch in enumerate(test_loader):\n",
        "        x_batch, y_batch = batch[0].to(device), batch[1].to(device)\n",
        "\n",
        "        with torch.no_grad():\n",
        "            output = model(x_batch)\n",
        "            loss = loss_function(output, y_batch)\n",
        "            running_loss += loss.item()\n",
        "\n",
        "    avg_loss_across_batches = running_loss / len(test_loader)\n",
        "\n",
        "    print('Val Loss: {0:.3f}'.format(avg_loss_across_batches))\n",
        "    print('***************************************************')\n",
        "    print()"
      ]
    },
    {
      "cell_type": "markdown",
      "id": "458672d2",
      "metadata": {
        "papermill": {
          "duration": 0.020853,
          "end_time": "2023-07-24T12:23:52.401036",
          "exception": false,
          "start_time": "2023-07-24T12:23:52.380183",
          "status": "completed"
        },
        "tags": [],
        "id": "458672d2"
      },
      "source": [
        "## 5.4 - Feeding the model."
      ]
    },
    {
      "cell_type": "code",
      "execution_count": 30,
      "id": "020d7104",
      "metadata": {
        "execution": {
          "iopub.execute_input": "2023-07-24T12:23:52.445229Z",
          "iopub.status.busy": "2023-07-24T12:23:52.444794Z",
          "iopub.status.idle": "2023-07-24T12:23:59.519749Z",
          "shell.execute_reply": "2023-07-24T12:23:59.518384Z"
        },
        "papermill": {
          "duration": 7.100249,
          "end_time": "2023-07-24T12:23:59.522481",
          "exception": false,
          "start_time": "2023-07-24T12:23:52.422232",
          "status": "completed"
        },
        "tags": [],
        "id": "020d7104",
        "outputId": "f6e6c716-a86c-4268-9f36-faae8b3d3d35",
        "colab": {
          "base_uri": "https://localhost:8080/"
        }
      },
      "outputs": [
        {
          "output_type": "stream",
          "name": "stdout",
          "text": [
            "Epoch: 1\n",
            "Batch 100, Loss: 0.632\n",
            "Batch 200, Loss: 0.229\n",
            "Batch 300, Loss: 0.087\n",
            "\n",
            "Val Loss: 0.634\n",
            "***************************************************\n",
            "\n",
            "Epoch: 2\n",
            "Batch 100, Loss: 0.034\n",
            "Batch 200, Loss: 0.018\n",
            "Batch 300, Loss: 0.007\n",
            "\n",
            "Val Loss: 0.206\n",
            "***************************************************\n",
            "\n",
            "Epoch: 3\n",
            "Batch 100, Loss: 0.003\n",
            "Batch 200, Loss: 0.002\n",
            "Batch 300, Loss: 0.002\n",
            "\n",
            "Val Loss: 0.138\n",
            "***************************************************\n",
            "\n",
            "Epoch: 4\n",
            "Batch 100, Loss: 0.003\n",
            "Batch 200, Loss: 0.001\n",
            "Batch 300, Loss: 0.002\n",
            "\n",
            "Val Loss: 0.101\n",
            "***************************************************\n",
            "\n",
            "Epoch: 5\n",
            "Batch 100, Loss: 0.001\n",
            "Batch 200, Loss: 0.001\n",
            "Batch 300, Loss: 0.001\n",
            "\n",
            "Val Loss: 0.071\n",
            "***************************************************\n",
            "\n",
            "Epoch: 6\n",
            "Batch 100, Loss: 0.001\n",
            "Batch 200, Loss: 0.001\n",
            "Batch 300, Loss: 0.001\n",
            "\n",
            "Val Loss: 0.049\n",
            "***************************************************\n",
            "\n",
            "Epoch: 7\n",
            "Batch 100, Loss: 0.001\n",
            "Batch 200, Loss: 0.001\n",
            "Batch 300, Loss: 0.001\n",
            "\n",
            "Val Loss: 0.036\n",
            "***************************************************\n",
            "\n",
            "Epoch: 8\n",
            "Batch 100, Loss: 0.000\n",
            "Batch 200, Loss: 0.001\n",
            "Batch 300, Loss: 0.000\n",
            "\n",
            "Val Loss: 0.025\n",
            "***************************************************\n",
            "\n",
            "Epoch: 9\n",
            "Batch 100, Loss: 0.000\n",
            "Batch 200, Loss: 0.000\n",
            "Batch 300, Loss: 0.000\n",
            "\n",
            "Val Loss: 0.017\n",
            "***************************************************\n",
            "\n",
            "Epoch: 10\n",
            "Batch 100, Loss: 0.000\n",
            "Batch 200, Loss: 0.000\n",
            "Batch 300, Loss: 0.000\n",
            "\n",
            "Val Loss: 0.011\n",
            "***************************************************\n",
            "\n"
          ]
        }
      ],
      "source": [
        "learning_rate = 0.001\n",
        "num_epochs = 10\n",
        "loss_function = nn.MSELoss()\n",
        "optimizer = torch.optim.Adam(model.parameters(), lr=learning_rate)\n",
        "\n",
        "for epoch in range(num_epochs):\n",
        "    train_one_epoch()\n",
        "    validate_one_epoch()"
      ]
    },
    {
      "cell_type": "markdown",
      "id": "041be971",
      "metadata": {
        "papermill": {
          "duration": 0.022816,
          "end_time": "2023-07-24T12:23:59.570463",
          "exception": false,
          "start_time": "2023-07-24T12:23:59.547647",
          "status": "completed"
        },
        "tags": [],
        "id": "041be971"
      },
      "source": [
        "##6 - Model Visualizations."
      ]
    },
    {
      "cell_type": "markdown",
      "id": "1d8ec8c8",
      "metadata": {
        "papermill": {
          "duration": 0.022864,
          "end_time": "2023-07-24T12:23:59.616641",
          "exception": false,
          "start_time": "2023-07-24T12:23:59.593777",
          "status": "completed"
        },
        "tags": [],
        "id": "1d8ec8c8"
      },
      "source": [
        "##  Visualizing the training data."
      ]
    },
    {
      "cell_type": "code",
      "execution_count": 31,
      "id": "6fe2fdc4",
      "metadata": {
        "execution": {
          "iopub.execute_input": "2023-07-24T12:23:59.666352Z",
          "iopub.status.busy": "2023-07-24T12:23:59.665922Z",
          "iopub.status.idle": "2023-07-24T12:24:00.065873Z",
          "shell.execute_reply": "2023-07-24T12:24:00.064924Z"
        },
        "papermill": {
          "duration": 0.429011,
          "end_time": "2023-07-24T12:24:00.068664",
          "exception": false,
          "start_time": "2023-07-24T12:23:59.639653",
          "status": "completed"
        },
        "tags": [],
        "id": "6fe2fdc4",
        "outputId": "7de54dbe-370b-4c4b-9854-a70d69e4b9d6",
        "colab": {
          "base_uri": "https://localhost:8080/",
          "height": 449
        }
      },
      "outputs": [
        {
          "output_type": "display_data",
          "data": {
            "text/plain": [
              "<Figure size 640x480 with 1 Axes>"
            ],
            "image/png": "[encoded data removed]"
          },
          "metadata": {}
        }
      ],
      "source": [
        "with torch.no_grad():\n",
        "    predicted = model(X_train.to(device)).to('cpu').numpy()\n",
        "\n",
        "plt.plot(y_train, label='Actual Close')\n",
        "plt.plot(predicted, label='Predicted Close')\n",
        "plt.xlabel('Day')\n",
        "plt.ylabel('Close')\n",
        "plt.legend()\n",
        "plt.show()\n"
      ]
    },
    {
      "cell_type": "markdown",
      "id": "ec62bca3",
      "metadata": {
        "papermill": {
          "duration": 0.025945,
          "end_time": "2023-07-24T12:24:00.119988",
          "exception": false,
          "start_time": "2023-07-24T12:24:00.094043",
          "status": "completed"
        },
        "tags": [],
        "id": "ec62bca3"
      },
      "source": [
        "## 6.1 - Removing the applied scaler."
      ]
    },
    {
      "cell_type": "code",
      "execution_count": 32,
      "id": "8ca86790",
      "metadata": {
        "execution": {
          "iopub.execute_input": "2023-07-24T12:24:00.171922Z",
          "iopub.status.busy": "2023-07-24T12:24:00.171121Z",
          "iopub.status.idle": "2023-07-24T12:24:00.180911Z",
          "shell.execute_reply": "2023-07-24T12:24:00.179891Z"
        },
        "papermill": {
          "duration": 0.038835,
          "end_time": "2023-07-24T12:24:00.183436",
          "exception": false,
          "start_time": "2023-07-24T12:24:00.144601",
          "status": "completed"
        },
        "tags": [],
        "id": "8ca86790",
        "outputId": "f7021efe-0648-4968-e031-375f67f9f2fe",
        "colab": {
          "base_uri": "https://localhost:8080/"
        }
      },
      "outputs": [
        {
          "output_type": "execute_result",
          "data": {
            "text/plain": [
              "array([  0.38495033,   0.38557839,   0.3851004 , ..., 156.05796211,\n",
              "       156.43822666, 156.98835857])"
            ]
          },
          "metadata": {},
          "execution_count": 32
        }
      ],
      "source": [
        "train_predictions = predicted.flatten()\n",
        "\n",
        "dummies = np.zeros((X_train.shape[0], lookback+1))\n",
        "dummies[:, 0] = train_predictions\n",
        "dummies = scaler.inverse_transform(dummies)\n",
        "\n",
        "train_predictions = dc(dummies[:, 0])\n",
        "train_predictions"
      ]
    },
    {
      "cell_type": "code",
      "execution_count": 33,
      "id": "a4f0b20e",
      "metadata": {
        "execution": {
          "iopub.execute_input": "2023-07-24T12:24:00.236284Z",
          "iopub.status.busy": "2023-07-24T12:24:00.235476Z",
          "iopub.status.idle": "2023-07-24T12:24:00.245645Z",
          "shell.execute_reply": "2023-07-24T12:24:00.244541Z"
        },
        "papermill": {
          "duration": 0.038592,
          "end_time": "2023-07-24T12:24:00.248112",
          "exception": false,
          "start_time": "2023-07-24T12:24:00.20952",
          "status": "completed"
        },
        "tags": [],
        "id": "a4f0b20e",
        "outputId": "9cccaa8e-8925-45f4-82af-3fac5b714894",
        "colab": {
          "base_uri": "https://localhost:8080/"
        }
      },
      "outputs": [
        {
          "output_type": "execute_result",
          "data": {
            "text/plain": [
              "array([7.91646265e-02, 7.65634249e-02, 7.52572660e-02, ...,\n",
              "       1.72548002e+02, 1.74955992e+02, 1.76572494e+02])"
            ]
          },
          "metadata": {},
          "execution_count": 33
        }
      ],
      "source": [
        "dummies = np.zeros((X_train.shape[0], lookback+1))\n",
        "dummies[:, 0] = y_train.flatten()\n",
        "dummies = scaler.inverse_transform(dummies)\n",
        "\n",
        "new_y_train = dc(dummies[:, 0])\n",
        "new_y_train"
      ]
    },
    {
      "cell_type": "markdown",
      "id": "bb64acea",
      "metadata": {
        "papermill": {
          "duration": 0.024218,
          "end_time": "2023-07-24T12:24:00.296531",
          "exception": false,
          "start_time": "2023-07-24T12:24:00.272313",
          "status": "completed"
        },
        "tags": [],
        "id": "bb64acea"
      },
      "source": [
        "## 6.2 - Plotting after Removing the applied scaler for Training data."
      ]
    },
    {
      "cell_type": "code",
      "execution_count": 34,
      "id": "2e9e581e",
      "metadata": {
        "execution": {
          "iopub.execute_input": "2023-07-24T12:24:00.347785Z",
          "iopub.status.busy": "2023-07-24T12:24:00.346915Z",
          "iopub.status.idle": "2023-07-24T12:24:00.668477Z",
          "shell.execute_reply": "2023-07-24T12:24:00.667327Z"
        },
        "papermill": {
          "duration": 0.350914,
          "end_time": "2023-07-24T12:24:00.671489",
          "exception": false,
          "start_time": "2023-07-24T12:24:00.320575",
          "status": "completed"
        },
        "tags": [],
        "id": "2e9e581e",
        "outputId": "db545d8c-bc85-4e4c-c739-2ea74330dddf",
        "colab": {
          "base_uri": "https://localhost:8080/",
          "height": 449
        }
      },
      "outputs": [
        {
          "output_type": "display_data",
          "data": {
            "text/plain": [
              "<Figure size 640x480 with 1 Axes>"
            ],
            "image/png": "[encoded data removed]"
          },
          "metadata": {}
        }
      ],
      "source": [
        "plt.plot(new_y_train, label='Actual Close')\n",
        "plt.plot(train_predictions, label='Predicted Close')\n",
        "plt.xlabel('Day')\n",
        "plt.ylabel('Close')\n",
        "plt.legend()\n",
        "plt.show()"
      ]
    },
    {
      "cell_type": "markdown",
      "id": "1135c59f",
      "metadata": {
        "papermill": {
          "duration": 0.024456,
          "end_time": "2023-07-24T12:24:00.721848",
          "exception": false,
          "start_time": "2023-07-24T12:24:00.697392",
          "status": "completed"
        },
        "tags": [],
        "id": "1135c59f"
      },
      "source": [
        "##6.3 - Removing scaled values from Test Predictions .\n"
      ]
    },
    {
      "cell_type": "code",
      "execution_count": 35,
      "id": "84ef7a8e",
      "metadata": {
        "execution": {
          "iopub.execute_input": "2023-07-24T12:24:00.772937Z",
          "iopub.status.busy": "2023-07-24T12:24:00.772538Z",
          "iopub.status.idle": "2023-07-24T12:24:00.797267Z",
          "shell.execute_reply": "2023-07-24T12:24:00.796065Z"
        },
        "papermill": {
          "duration": 0.053759,
          "end_time": "2023-07-24T12:24:00.800244",
          "exception": false,
          "start_time": "2023-07-24T12:24:00.746485",
          "status": "completed"
        },
        "tags": [],
        "id": "84ef7a8e",
        "outputId": "a95972fa-3b96-49cd-9306-8ab9d32da83f",
        "colab": {
          "base_uri": "https://localhost:8080/"
        }
      },
      "outputs": [
        {
          "output_type": "execute_result",
          "data": {
            "text/plain": [
              "array([157.54653864, 157.43596534, 156.67627552, 155.38250565,\n",
              "       154.82681562, 154.06836526, 152.86990608, 151.7114654 ,\n",
              "       151.34404011, 150.68400188, 149.7557064 , 148.39192641,\n",
              "       147.50055354, 148.25790339, 147.96868645, 147.61153258,\n",
              "       148.07435749, 149.13916604, 149.85500782, 150.34909162,\n",
              "       150.95996825, 151.07986808, 151.50294685, 151.22128341,\n",
              "       151.3912119 , 151.66328759, 152.3730599 , 153.65787008,\n",
              "       154.87029126, 155.3057035 , 155.53308632, 155.32279473,\n",
              "       154.7911547 , 154.28230297, 153.56741162, 152.89360592,\n",
              "       152.61059185, 152.45255218, 152.83024332, 152.58858724,\n",
              "       152.49223162, 151.46256153, 150.24505467, 149.6471896 ,\n",
              "       150.54620489, 151.68251869, 152.59810831, 152.20796142,\n",
              "       151.23536769, 151.22431814, 151.17722417, 150.94565608,\n",
              "       150.65637801, 150.43112396, 150.27780869, 150.36632736,\n",
              "       150.20187361, 150.08937164, 150.11922988, 150.59597233,\n",
              "       151.06085374, 151.2600402 , 151.6765048 , 151.99037201,\n",
              "       152.10517505, 152.01742896, 151.82317256, 151.79053526,\n",
              "       151.36334347, 150.85722635, 150.61351376, 150.73305788,\n",
              "       150.93291687, 151.53120435, 151.98910476, 152.1963894 ,\n",
              "       152.35321741, 152.48983607, 152.43295424, 152.28754818,\n",
              "       152.70770338, 153.34834376, 153.68898445, 153.72491216,\n",
              "       153.35308484, 153.21782792, 152.75166813, 152.29719152,\n",
              "       152.06821353, 151.50767681, 151.05729654, 151.12471658,\n",
              "       150.92427954, 150.66074114, 150.52453377, 151.31050796,\n",
              "       152.35675237, 153.03782254, 153.45677163, 153.99446445,\n",
              "       154.0267905 , 153.9466646 , 153.60241668, 153.95722503,\n",
              "       154.5827362 , 154.73408945, 154.7730241 , 155.05952867,\n",
              "       155.18254661, 155.19487453, 154.95476917, 154.58827209,\n",
              "       154.43686882, 154.2845429 , 154.313623  , 154.50705124,\n",
              "       154.29844932, 153.67199327, 153.24451802, 152.74963386,\n",
              "       151.68087349, 150.93146064, 150.74312364, 150.37625972,\n",
              "       149.44383455, 148.40656651, 147.86113677, 147.23619809,\n",
              "       147.55667946, 147.73991967, 148.29647676, 148.69756204,\n",
              "       148.94409815, 149.18578201, 149.77518206, 149.3453057 ,\n",
              "       149.25965503, 149.45731856, 149.84147935, 149.79626958,\n",
              "       149.38582998, 149.0356849 , 149.13643144, 149.02242878,\n",
              "       149.13230175, 149.66642627, 150.5911979 , 151.3504264 ,\n",
              "       152.19711196, 152.97325938, 153.95092212, 154.76195232,\n",
              "       155.37331807, 155.51482233, 155.73172252, 156.02313491,\n",
              "       156.13904401, 155.94662735, 155.86000956, 155.59768838,\n",
              "       155.52740592, 155.77007913, 156.04368329, 156.41034712,\n",
              "       156.82506647, 157.10621857, 157.08910511, 156.63237746,\n",
              "       155.95111275, 155.55698625, 155.20426776, 154.35028438,\n",
              "       153.70993857, 152.96658964, 152.43598897, 152.47479579,\n",
              "       152.7724444 , 152.81648696, 152.89641277, 153.01480635,\n",
              "       152.97980129, 153.12780855, 153.31096538, 153.42262808,\n",
              "       153.36371753, 153.23415768, 153.09974559, 153.14261539,\n",
              "       152.88138361, 152.70795905, 152.55508844, 152.8358737 ,\n",
              "       153.22094046, 153.84517327, 154.35439183, 154.93016892,\n",
              "       155.39734584, 155.88671634, 156.51008208, 157.06085873,\n",
              "       157.27424619, 157.55715465, 157.83581671, 157.86978796,\n",
              "       157.61933893, 157.44706491, 157.4202692 , 157.39589127,\n",
              "       157.27777004, 157.42617192, 158.14502066, 159.00994798,\n",
              "       159.65573518, 160.17772075, 160.5558621 , 160.81242506,\n",
              "       160.89170613, 160.78248345, 160.4747135 , 160.05740962,\n",
              "       159.7637851 , 159.60755737, 159.63308027, 159.76403521,\n",
              "       159.98695485, 160.1530538 , 160.15582175, 160.12198945,\n",
              "       159.30954193, 158.12973026, 157.42473793, 156.82807341,\n",
              "       156.4521442 , 156.01751565, 155.60281853, 155.48742078,\n",
              "       155.24116814, 155.03577325, 154.8714529 , 154.72213393,\n",
              "       154.36355718, 153.78901399, 153.26288206, 152.96488885,\n",
              "       153.1031416 , 153.48278364, 153.73409974, 154.03983541,\n",
              "       154.50362188, 155.22568876, 156.03396214, 156.64691751,\n",
              "       157.01169157, 157.32541427, 157.68833191, 158.0373209 ,\n",
              "       158.13726152, 158.04708097, 157.92499124, 157.81525166,\n",
              "       157.79527576, 157.83071435, 157.76545087, 157.32818221,\n",
              "       156.78895534, 156.55602552, 156.58496111, 156.64498884,\n",
              "       156.58552804, 156.15584622, 155.74478967, 155.39259364,\n",
              "       155.0643698 , 154.2900899 , 153.70516415, 153.55577292,\n",
              "       153.78382826, 153.92423757, 153.78550682, 153.6327418 ,\n",
              "       153.84943635, 154.1119465 , 154.76506487, 155.48723736,\n",
              "       156.04273841, 156.38340134, 156.68338435, 156.55365776,\n",
              "       156.23047514, 156.12414268, 156.15561834, 156.37879365,\n",
              "       156.35837867, 155.95002892, 155.66914917, 155.80431161,\n",
              "       156.30809988, 156.90903859, 157.22702437, 157.72928972,\n",
              "       158.06006474, 158.11564598, 158.27713724, 158.47281652,\n",
              "       158.58796416, 158.70487372, 159.05385715, 159.62218079,\n",
              "       159.77693562, 159.67989079, 159.6493489 , 159.46211797,\n",
              "       159.31883511, 159.06883074, 158.57468024, 158.16227863,\n",
              "       157.68132312, 157.35782924, 157.56309073, 157.78937859,\n",
              "       157.84449294, 157.74932676, 157.45539653, 157.18369325,\n",
              "       157.25374227, 157.03028905, 156.75363903, 156.40298816,\n",
              "       156.33970893, 156.51472867, 156.65355391, 156.55269621,\n",
              "       156.59613294, 156.53922887, 156.46860736, 156.18383137,\n",
              "       156.19722644, 156.09639653, 155.65304729, 155.10506638,\n",
              "       154.63913448, 154.17345269, 154.22659391, 154.25461796,\n",
              "       153.8843358 , 153.65906507, 153.21485432, 152.49972397,\n",
              "       151.32928885, 148.80991394, 147.02995837, 145.00902482,\n",
              "       143.0814066 , 141.8312013 , 141.82007949, 142.99637843,\n",
              "       144.405685  , 145.22469667, 143.78508721, 146.02772873,\n",
              "       147.98243725, 149.62604094, 150.66862811, 151.09912698,\n",
              "       150.67425293, 150.86217307, 150.81063816, 150.98897054,\n",
              "       150.57423451, 149.86163311, 148.99322084, 147.59763171,\n",
              "       147.51896204, 147.92283194, 148.09244918, 147.87984541,\n",
              "       147.86750082, 147.30857597, 146.61381058, 144.33820939,\n",
              "       142.11845066, 141.20959193, 142.16824032, 142.52879021,\n",
              "       142.05280366, 142.79982652, 144.73218027, 146.86943978,\n",
              "       148.88706069, 150.20560311, 151.5963789 , 152.6541453 ,\n",
              "       153.30256706, 153.80440999, 154.52468161, 155.10936836,\n",
              "       155.26520702, 154.90992067, 154.66858697, 154.98396599,\n",
              "       154.9390897 , 154.09085342, 153.18381776, 152.16226253,\n",
              "       150.93610723, 149.8728494 , 149.60818825, 149.01110132,\n",
              "       148.7246301 , 149.31758179, 149.36099073, 148.5050231 ,\n",
              "       147.12695874, 146.24418428, 144.50414159, 142.77987286,\n",
              "       142.61751453, 137.99471796, 134.43830288, 132.02615527,\n",
              "       130.67679584, 126.94833462, 123.64045935, 118.84272642,\n",
              "       116.3888123 , 113.39324797, 111.92159593, 113.01503992,\n",
              "       113.06208666, 114.69850647, 112.91923178, 111.8980934 ,\n",
              "       111.55592979, 111.31977903, 109.58771781, 109.55522502,\n",
              "       110.92501334, 113.49083749, 116.81971968, 119.42160216,\n",
              "       122.39540365, 123.60082716, 125.204832  , 125.715001  ,\n",
              "       125.42934405, 123.47226499, 119.84509501, 115.01287669,\n",
              "       111.40173356, 111.00817676, 109.05552197, 108.65925558,\n",
              "       109.36079632, 110.05380534, 111.99221466, 114.72536055,\n",
              "       115.16998816, 113.5286633 , 113.05440533, 111.72596389,\n",
              "       112.1712557 , 113.72820825, 114.75434616, 116.16105153,\n",
              "       117.01048558, 116.23478837, 114.98927412, 114.58804434,\n",
              "       114.30017803, 115.10517211, 115.54010913, 117.33775621,\n",
              "       120.12807017, 122.64026121, 123.61947744, 123.94699818,\n",
              "       122.09372263, 122.98595701, 123.90227474, 128.03218252,\n",
              "       130.72660496, 132.25955198, 134.74358279, 137.49887224,\n",
              "       138.92588699, 139.62422069, 139.40022833, 140.32617273,\n",
              "       140.67958598, 141.31854781, 141.62242708, 142.19963816,\n",
              "       142.15939735, 142.20534079, 141.26072666, 139.46843206,\n",
              "       138.13300406, 137.24686694, 137.34464544, 135.85528522,\n",
              "       134.38901344, 133.2067951 , 132.01787923, 131.44675985,\n",
              "       130.92324024, 129.94956546, 130.43087112, 130.88101518,\n",
              "       132.13286012, 133.88267955, 132.55158688, 132.06703249,\n",
              "       131.25224222, 129.78529791, 129.07905778, 127.67762984,\n",
              "       125.33461418, 123.64486139, 121.20409501, 120.07577379,\n",
              "       119.11754503, 119.58493316, 118.78591684, 117.70186885,\n",
              "       118.04462441, 120.17102057, 121.44293589, 122.07536137,\n",
              "       120.45789475, 119.24294741, 118.07820936, 117.48834799,\n",
              "       116.7259597 , 114.06090638, 114.82851097, 116.38475487,\n",
              "       116.90953339, 117.33409063, 118.99566095, 120.29700932,\n",
              "       121.65431687, 120.71727846, 118.38981442, 114.12944916,\n",
              "       111.00121243, 106.53903033, 101.61269632,  97.14741557,\n",
              "        95.19218459,  93.78026222,  92.76317503,  90.34750844,\n",
              "        93.59711859,  97.21088725,  98.46110853,  99.39595426,\n",
              "        99.2995375 ,  98.4331067 ,  97.83368119,  96.51029973,\n",
              "        95.88976933,  95.92508703,  95.55301377,  95.56638939,\n",
              "        94.95543495,  96.37491149,  96.80348655,  96.47237943,\n",
              "        94.92174994,  92.85271778,  91.74878839,  91.9666821 ,\n",
              "        91.35040991,  91.5805968 ,  92.51580242,  92.72067345,\n",
              "        91.57223738,  90.68457178,  88.83630132,  87.95152038,\n",
              "        88.08128866,  86.69623218,  86.53627218,  85.47168596,\n",
              "        84.32337912,  84.80176121,  84.94428677,  85.77039061,\n",
              "        85.97082625,  85.15064599,  86.09316471,  87.22395095,\n",
              "        88.92180332,  92.1309427 ,  94.01089585,  96.39049994,\n",
              "        97.07379475,  97.28965211,  96.73824461,  97.94428228,\n",
              "        98.6355933 ,  98.53295838,  98.73366499,  99.76158705,\n",
              "       101.63934196, 102.15579581, 103.44027389, 105.04306011,\n",
              "       109.06926026, 107.95468011, 106.79947703, 106.0453759 ,\n",
              "       104.88173003, 103.36059958, 102.05515766, 101.68991255,\n",
              "       101.7565864 , 102.37266127, 101.46526016, 100.58566912,\n",
              "        99.02879854,  98.65541217,  98.36724295,  97.15560546,\n",
              "        96.44626529,  96.26983657,  95.27934152,  94.74226008,\n",
              "        95.55476249,  95.49790776,  95.43380176,  95.53990633,\n",
              "        94.87522706,  93.9057841 ,  94.09304352,  95.15084466,\n",
              "        96.32025569,  98.58280363,  99.45304452,  99.56574103,\n",
              "       100.95719074, 101.03452785, 101.07956254, 100.85756277,\n",
              "       100.58061539, 100.11277289, 101.11446478, 102.30660853,\n",
              "       103.58029551, 104.00378836, 104.93360816])"
            ]
          },
          "metadata": {},
          "execution_count": 35
        }
      ],
      "source": [
        "test_predictions = model(X_test.to(device)).detach().cpu().numpy().flatten()\n",
        "\n",
        "dummies = np.zeros((X_test.shape[0], lookback+1))\n",
        "dummies[:, 0] = test_predictions\n",
        "dummies = scaler.inverse_transform(dummies)\n",
        "\n",
        "test_predictions = dc(dummies[:, 0])\n",
        "test_predictions"
      ]
    },
    {
      "cell_type": "markdown",
      "id": "c2df8188",
      "metadata": {
        "papermill": {
          "duration": 0.02481,
          "end_time": "2023-07-24T12:24:00.850662",
          "exception": false,
          "start_time": "2023-07-24T12:24:00.825852",
          "status": "completed"
        },
        "tags": [],
        "id": "c2df8188"
      },
      "source": []
    },
    {
      "cell_type": "code",
      "execution_count": 38,
      "id": "95c048b8",
      "metadata": {
        "execution": {
          "iopub.execute_input": "2023-07-24T12:24:00.903715Z",
          "iopub.status.busy": "2023-07-24T12:24:00.903298Z",
          "iopub.status.idle": "2023-07-24T12:24:00.920442Z",
          "shell.execute_reply": "2023-07-24T12:24:00.919588Z"
        },
        "papermill": {
          "duration": 0.046033,
          "end_time": "2023-07-24T12:24:00.922714",
          "exception": false,
          "start_time": "2023-07-24T12:24:00.876681",
          "status": "completed"
        },
        "tags": [],
        "id": "95c048b8",
        "outputId": "d51c0454-8b21-4721-bf67-5b94218df419",
        "colab": {
          "base_uri": "https://localhost:8080/"
        }
      },
      "outputs": [
        {
          "output_type": "execute_result",
          "data": {
            "text/plain": [
              "array([168.39999674, 164.73100188, 157.49200233, 163.43049557,\n",
              "       158.75549155, 155.81100359, 155.14849755, 157.80650317,\n",
              "       153.9050009 , 150.4364931 , 147.74550002, 148.02350066,\n",
              "       156.44949298, 149.99299379, 150.98950412, 154.7564998 ,\n",
              "       158.7025004 , 157.24400444, 157.43649336, 161.06300192,\n",
              "       156.25000082, 159.96000907, 154.99800025, 159.78450022,\n",
              "       159.52749817, 164.33250669, 172.14649963, 172.18150469,\n",
              "       168.18550321, 166.93249662, 163.63549582, 160.36050519,\n",
              "       160.85049265, 159.24699637, 158.82000468, 160.2200014 ,\n",
              "       160.35200682, 164.31649929, 158.13900677, 160.55050963,\n",
              "       151.80749309, 150.2240005 , 152.42050404, 162.05800044,\n",
              "       166.1000065 , 165.56849431, 157.18699477, 151.75100589,\n",
              "       156.86950922, 155.51400528, 156.44050549, 156.55299635,\n",
              "       156.78300259, 155.27299395, 155.85099984, 154.96999843,\n",
              "       154.91949732, 155.90300164, 159.25349382, 159.76699769,\n",
              "       158.40199492, 161.00399689, 160.17649797, 159.33650438,\n",
              "       158.12899659, 157.89999636, 158.86450301, 155.2100093 ,\n",
              "       155.07449114, 155.82099709, 157.84849479, 158.2559997 ,\n",
              "       162.04800138, 161.80399978, 160.08250455, 160.30900362,\n",
              "       160.32600592, 159.263504  , 158.63450788, 164.19800011,\n",
              "       166.1000065 , 164.29249376, 162.84649802, 159.33149652,\n",
              "       160.92550508, 156.91900431, 158.10800356, 159.13499463,\n",
              "       155.71049605, 156.04150451, 158.29449526, 156.37350232,\n",
              "       155.21249378, 156.03799178, 163.16900811, 165.34950426,\n",
              "       164.61149668, 164.69999867, 166.30650189, 161.62899671,\n",
              "       161.88099646, 160.30999853, 167.14399432, 169.00000169,\n",
              "       165.62649332, 166.55000326, 167.60749732, 166.14700043,\n",
              "       165.25000274, 164.32899395, 163.10650702, 163.8855002 ,\n",
              "       163.44749231, 165.43200904, 166.41150039, 162.49499676,\n",
              "       159.03700492, 159.72500607, 157.97649836, 152.85800059,\n",
              "       154.64649899, 157.30700576, 154.72650261, 150.2500014 ,\n",
              "       148.87849562, 150.02299654, 147.59750388, 153.14250423,\n",
              "       152.88200612, 155.67950395, 154.47450287, 154.08400026,\n",
              "       154.59300205, 156.78649865, 151.39950462, 153.7480006 ,\n",
              "       155.54350224, 156.87500065, 154.35350253, 152.31300438,\n",
              "       152.60149876, 153.78650172, 152.76449628, 154.70399777,\n",
              "       158.05000454, 161.33650049, 161.19099438, 163.96950011,\n",
              "       164.9649933 , 168.60999931, 168.96949871, 170.00000252,\n",
              "       166.6499939 , 168.95449733, 169.97200069, 168.60049492,\n",
              "       166.7344996 , 168.10099751, 165.45199605, 167.04400369,\n",
              "       170.44999928, 170.8715051 , 172.9250037 , 173.56550512,\n",
              "       173.37100417, 169.32449047, 165.59350586, 163.5269957 ,\n",
              "       165.31849549, 164.58050458, 159.5245079 , 161.19549646,\n",
              "       157.59700084, 158.07350429, 161.14500647, 163.51950335,\n",
              "       161.61399534, 161.58999537, 162.38400104, 160.15400424,\n",
              "       162.24949446, 162.95249698, 163.25799366, 161.50549522,\n",
              "       161.15350484, 160.9324972 , 161.69949039, 159.35049418,\n",
              "       160.31100455, 159.90049825, 163.20550275, 164.05749632,\n",
              "       167.48250069, 167.34150778, 169.19349662, 169.1564962 ,\n",
              "       170.76249919, 174.46200815, 174.34499854, 172.69799883,\n",
              "       175.27200454, 175.19099489, 172.45399723, 170.07299735,\n",
              "       172.19450514, 172.40699774, 172.00799676, 171.64849736,\n",
              "       175.5489936 , 183.78700463, 184.82899709, 186.570496  ,\n",
              "       185.966995  , 185.92750453, 183.8679976 , 184.08399738,\n",
              "       181.55999811, 178.68150175, 177.47950761, 178.6595027 ,\n",
              "       179.25999676, 181.90150587, 182.83200237, 184.9909997 ,\n",
              "       181.31950368, 181.51600557, 179.99600342, 166.37950228,\n",
              "       166.57400324, 168.31199498, 167.73599001, 168.79949795,\n",
              "       167.2469919 , 167.09350433, 166.03399823, 164.60549946,\n",
              "       165.17500143, 164.69850354, 164.9494917 , 162.09800781,\n",
              "       160.06100573, 159.38749461, 159.99749861, 163.29350451,\n",
              "       165.28899853, 164.95900165, 165.80000125, 167.48150579,\n",
              "       171.07850628, 173.53950423, 173.94999941, 173.15600485,\n",
              "       173.90249413, 175.46449346, 176.27499564, 174.2079908 ,\n",
              "       173.45750524, 172.85850631, 172.50000181, 173.78950304,\n",
              "       174.41200171, 173.12600766, 167.78649667, 167.18150053,\n",
              "       169.00250284, 170.8000054 , 171.27600306, 170.28999203,\n",
              "       165.79800589, 165.05600201, 164.25199728, 164.16299505,\n",
              "       159.48899705, 161.05000148, 163.10049313, 165.12150449,\n",
              "       164.43100219, 162.3150025 , 162.36649851, 164.2140075 ,\n",
              "       164.99299513, 170.4510053 , 172.3370043 , 172.20750559,\n",
              "       170.75300592, 171.75050559, 166.77749724, 166.01849663,\n",
              "       168.80349424, 169.62449572, 172.32850593, 168.62150462,\n",
              "       165.90549999, 165.63749841, 169.19999963, 173.85000877,\n",
              "       175.94949528, 174.4490077 , 178.81149513, 174.10249207,\n",
              "       173.62499927, 176.25750423, 177.28399507, 177.03500227,\n",
              "       177.44999953, 184.80299619, 183.82850714, 178.62849393,\n",
              "       179.0019998 , 179.02049167, 175.22799532, 178.07850653,\n",
              "       175.35349774, 172.18600677, 171.86799875, 169.48950003,\n",
              "       171.36850135, 176.16450571, 176.15800271, 174.17100705,\n",
              "       172.21200767, 169.56750273, 169.09150507, 173.31500052,\n",
              "       168.87100321, 170.01749949, 167.07899763, 170.41700626,\n",
              "       171.03700377, 171.0684961 , 169.66949429, 170.66099675,\n",
              "       169.20100565, 168.64449858, 166.71699707, 170.40449492,\n",
              "       167.52200227, 164.35699578, 163.25399737, 162.55400179,\n",
              "       161.48599177, 165.36199892, 165.20699954, 161.21400501,\n",
              "       162.13799851, 158.91749416, 156.29899568, 151.66749509,\n",
              "       142.64300408, 144.54400445, 139.98599336, 138.87249844,\n",
              "       139.63749627, 143.97799855, 149.57350001, 151.19349835,\n",
              "       150.61250219, 138.84550541, 157.63949825, 157.93550165,\n",
              "       161.41349717, 161.18949925, 159.003495  , 153.29350176,\n",
              "       155.1670061 , 156.51049894, 158.10049453, 154.6524962 ,\n",
              "       152.60149876, 150.19749381, 144.82699629, 151.35800212,\n",
              "       153.78849709, 153.56300403, 151.14199678, 152.05250627,\n",
              "       147.89849848, 145.64100565, 137.45300383, 136.01449488,\n",
              "       139.27900567, 146.81750468, 145.52450739, 141.8529947 ,\n",
              "       147.36650272, 153.10400311, 157.23899657, 161.25050521,\n",
              "       161.49149987, 164.8890082 , 163.4080074 , 163.64950785,\n",
              "       164.77349929, 168.99049174, 169.31500275, 166.30099379,\n",
              "       162.99749555, 163.55999984, 168.34649425, 164.05499516,\n",
              "       158.75599734, 157.78449856, 154.4604964 , 151.1219931 ,\n",
              "       150.78750525, 155.54100108, 151.70649644, 152.78500575,\n",
              "       158.11549591, 153.99799942, 148.29600432, 144.35000372,\n",
              "       146.07400567, 139.39100462, 138.16700588, 144.59649537,\n",
              "       124.2815027 , 124.50000086, 124.25350088, 125.92849685,\n",
              "       116.40699847, 114.77249899, 108.78900163, 108.85900063,\n",
              "       105.37200234, 106.93049589, 113.05500005, 110.81050072,\n",
              "       115.36850069, 107.11250358, 107.31900035, 107.59100239,\n",
              "       107.55699918, 104.09999809, 106.77500184, 111.07749906,\n",
              "       115.14649953, 120.20950223, 121.68399725, 125.51100121,\n",
              "       122.34999935, 124.79000149, 122.99999961, 121.18000054,\n",
              "       116.15000198, 109.65000214, 103.66999806, 102.30999829,\n",
              "       107.6699986 , 103.66000386, 106.22000101, 108.67999989,\n",
              "       108.94999683, 112.44000207, 116.45999935, 113.22000127,\n",
              "       107.40000166, 108.91999825, 106.20999917, 109.55999806,\n",
              "       113.50000006, 114.33000152, 116.3300018 , 115.54000075,\n",
              "       111.74999999, 109.22000073, 110.40000137, 110.62999651,\n",
              "       113.55000232, 113.76000211, 118.20999802, 122.76999614,\n",
              "       124.62999702, 122.41999835, 121.13999873, 114.80999825,\n",
              "       120.97000076, 122.28000035, 134.94999758, 135.38999806,\n",
              "       134.16000488, 139.5200031 , 142.57000925, 140.80000272,\n",
              "       139.41000507, 137.83000298, 142.69000357, 140.64000103,\n",
              "       143.55000084, 143.17999102, 144.7799968 , 142.10000324,\n",
              "       142.30000119, 138.22999608, 133.22000121, 133.61999431,\n",
              "       133.80000247, 137.27999891, 130.7499991 , 129.78999174,\n",
              "       128.72999653, 126.76999668, 127.82000117, 127.51000241,\n",
              "       126.11000014, 129.47999576, 129.82000839, 133.27000486,\n",
              "       136.44999605, 126.82000034, 128.55000227, 126.27999811,\n",
              "       123.52999999, 124.66000532, 122.19000322, 118.54000046,\n",
              "       117.30999894, 113.77999884, 115.15000254, 114.41000376,\n",
              "       118.01000286, 114.80000336, 112.99999964, 115.8799967 ,\n",
              "       121.08999508, 120.94999707, 120.30000237, 114.55999805,\n",
              "       113.66999803, 112.2099986 , 112.90000206, 112.5299992 ,\n",
              "       106.90000263, 113.79000069, 116.36000038, 115.0700003 ,\n",
              "       115.25000012, 119.31999967, 119.82000008, 120.59999928,\n",
              "       115.66000341, 110.95999895, 103.41000365, 102.4400021 ,\n",
              "        96.79000116,  92.12000301,  89.30000302,  90.98000304,\n",
              "        90.52999899,  89.98000291,  86.13999884,  96.62999704,\n",
              "       100.79000101,  98.48999791,  98.94000197,  97.1200029 ,\n",
              "        94.84999805,  94.13999897,  92.45999904,  93.199997  ,\n",
              "        94.12999696,  93.410004  ,  93.94999701,  92.41999801,\n",
              "        96.54000095,  95.50000004,  94.12999696,  91.01000197,\n",
              "        88.24999993,  88.45999902,  90.34999813,  89.08999594,\n",
              "        90.55000302,  92.48999797,  91.58000208,  88.44999683,\n",
              "        87.86000102,  84.91999777,  85.19000167,  86.76999681,\n",
              "        83.79000078,  85.25000022,  83.04000085,  81.81999979,\n",
              "        84.17999969,  83.99999987,  85.82000033,  85.13999871,\n",
              "        83.12000309,  86.08000168,  87.3600013 ,  89.87000314,\n",
              "        95.08999606,  95.26999692,  98.12000304,  96.05000307,\n",
              "        95.45999893,  93.68      ,  97.25000011,  97.51999705,\n",
              "        96.32000002,  97.18000006,  99.22000076, 102.2399979 ,\n",
              "       100.55000334, 103.12999722, 105.15000257, 112.9100039 ,\n",
              "       103.38999927, 102.18000005, 102.11000105, 100.05000292,\n",
              "        98.23999805,  97.61000113,  99.54000066,  99.69999679,\n",
              "       101.16000387,  98.15000197,  97.19999715,  94.58000197,\n",
              "        95.79000102,  95.81999995,  93.5       ,  93.760002  ,\n",
              "        94.23000296,  92.16999798,  92.12999703,  94.90000205,\n",
              "        93.74999998,  93.55000299,  93.919998  ,  92.25000004,\n",
              "        90.73000301,  92.43000003,  94.87999697,  96.19999701,\n",
              "       100.04000108,  98.94999687,  97.70999906, 100.61000119,\n",
              "        98.69999701,  98.70999885,  98.12999689,  98.04000115,\n",
              "        97.23999792, 100.25000017, 102.00000023, 103.290001  ,\n",
              "       102.41000421, 103.94999685, 101.09999768])"
            ]
          },
          "metadata": {},
          "execution_count": 38
        }
      ],
      "source": [
        "dummies = np.zeros((X_test.shape[0], lookback+1))\n",
        "dummies[:, 0] = y_test.flatten()\n",
        "dummies = scaler.inverse_transform(dummies)\n",
        "\n",
        "new_y_test = dc(dummies[:, 0])\n",
        "new_y_test"
      ]
    },
    {
      "cell_type": "markdown",
      "id": "08477c5d",
      "metadata": {
        "papermill": {
          "duration": 0.025236,
          "end_time": "2023-07-24T12:24:00.974046",
          "exception": false,
          "start_time": "2023-07-24T12:24:00.94881",
          "status": "completed"
        },
        "tags": [],
        "id": "08477c5d"
      },
      "source": [
        "## 6.4 - Removing the applied scaler and plotting testing data."
      ]
    },
    {
      "cell_type": "code",
      "execution_count": 39,
      "id": "a4eda3db",
      "metadata": {
        "execution": {
          "iopub.execute_input": "2023-07-24T12:24:01.027034Z",
          "iopub.status.busy": "2023-07-24T12:24:01.026616Z",
          "iopub.status.idle": "2023-07-24T12:24:01.327225Z",
          "shell.execute_reply": "2023-07-24T12:24:01.326038Z"
        },
        "papermill": {
          "duration": 0.33038,
          "end_time": "2023-07-24T12:24:01.330001",
          "exception": false,
          "start_time": "2023-07-24T12:24:00.999621",
          "status": "completed"
        },
        "tags": [],
        "id": "a4eda3db",
        "outputId": "2d97422b-7d4f-46bd-f671-5d37bbe21ca5",
        "colab": {
          "base_uri": "https://localhost:8080/",
          "height": 449
        }
      },
      "outputs": [
        {
          "output_type": "display_data",
          "data": {
            "text/plain": [
              "<Figure size 640x480 with 1 Axes>"
            ],
            "image/png": "[encoded data removed]"
          },
          "metadata": {}
        }
      ],
      "source": [
        "plt.plot(new_y_test, label='Actual Close')\n",
        "plt.plot(test_predictions, label='Predicted Close')\n",
        "plt.xlabel('Day')\n",
        "plt.ylabel('Close')\n",
        "plt.legend()\n",
        "plt.show()\n"
      ]
    },
    {
      "cell_type": "markdown",
      "id": "b0f3bccd",
      "metadata": {
        "papermill": {
          "duration": 0.026122,
          "end_time": "2023-07-24T12:24:01.382476",
          "exception": false,
          "start_time": "2023-07-24T12:24:01.356354",
          "status": "completed"
        },
        "tags": [],
        "id": "b0f3bccd"
      },
      "source": [
        "## 7 - CONCLUSION.\n",
        "    \n"
      ]
    },
    {
      "cell_type": "markdown",
      "id": "44c61ecb",
      "metadata": {
        "papermill": {
          "duration": 0.027824,
          "end_time": "2023-07-24T12:24:01.43799",
          "exception": false,
          "start_time": "2023-07-24T12:24:01.410166",
          "status": "completed"
        },
        "tags": [],
        "id": "44c61ecb"
      },
      "source": [
        "Based on the Kaggle experiment conducted, an LSTM classification model was developed using a dataset comprising of Amazon stock prices . The model achieved an impressive accuracy even on Training as well on Testing Data, indicating its ability to accurately predict further future values with a minimal error rate ."
      ]
    },
    {
      "cell_type": "markdown",
      "id": "f28827de",
      "metadata": {
        "papermill": {
          "duration": 0.026196,
          "end_time": "2023-07-24T12:24:01.49066",
          "exception": false,
          "start_time": "2023-07-24T12:24:01.464464",
          "status": "completed"
        },
        "tags": [],
        "id": "f28827de"
      },
      "source": [
        "# Thank You! 😸\n",
        "\n",
        "Thank you for exploring my Colab notebook! I hope you found it insightful and informative. If you have any questions, feedback, or would like to connect, feel free to reach out through any of the platforms below:\n",
        "\n",
        "---\n",
        "\n",
        "## Professional Contacts 🐈\n",
        "\n",
        "[![Follow on GitHub](https://img.shields.io/badge/Follow%20on%20GitHub-%23FF4500?style=flat&logo=github&logoColor=black)](https://github.com/Darshan0902) Connect with me on GitHub\n",
        "\n",
        "[![Follow on Medium](https://img.shields.io/badge/Follow%20on%20Medium-%23FF4500?style=flat&logo=medium&logoColor=white)](https://prabhudarshan09.medium.com/) Follow my Medium articles\n",
        "\n",
        "[![LinkedIn](https://img.shields.io/badge/Connect%20on%20LinkedIn-%23FF4500?style=flat&logo=linkedin&logoColor=white)](https://linkedin.com/in/darshanprabhu009/) Connect with me on LinkedIn\n",
        "\n",
        "---\n",
        "\n",
        "To download and edit the notebook use below button :\n",
        "\n",
        "[![Open In Colab](https://colab.research.google.com/assets/colab-badge.svg)](https://colab.research.google.com/github/Darshan0902/2024-MACHINE-LEARNING-.-/blob/main/analysis_on_airbnb_listings.ipynb)\n",
        "\n",
        "## Feel free to stay in touch, and I look forward to connecting with you soon! 😊"
      ]
    }
  ],
  "metadata": {
    "kernelspec": {
      "display_name": "Python 3",
      "language": "python",
      "name": "python3"
    },
    "language_info": {
      "codemirror_mode": {
        "name": "ipython",
        "version": 3
      },
      "file_extension": ".py",
      "mimetype": "text/x-python",
      "name": "python",
      "nbconvert_exporter": "python",
      "pygments_lexer": "ipython3",
      "version": "3.10.10"
    },
    "papermill": {
      "default_parameters": {},
      "duration": 32.916758,
      "end_time": "2023-07-24T12:24:03.15025",
      "environment_variables": {},
      "exception": null,
      "input_path": "__notebook__.ipynb",
      "output_path": "__notebook__.ipynb",
      "parameters": {},
      "start_time": "2023-07-24T12:23:30.233492",
      "version": "2.4.0"
    },
    "colab": {
      "provenance": [],
      "include_colab_link": true
    }
  },
  "nbformat": 4,
  "nbformat_minor": 5
}