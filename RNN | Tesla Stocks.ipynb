{
 "cells": [
  {
   "cell_type": "markdown",
   "id": "35ca98ad",
   "metadata": {
    "papermill": {
     "duration": 0.011048,
     "end_time": "2024-05-15T07:52:21.003134",
     "exception": false,
     "start_time": "2024-05-15T07:52:20.992086",
     "status": "completed"
    },
    "tags": []
   },
   "source": [
    "# 1 - Importing Libraries : "
   ]
  },
  {
   "cell_type": "code",
   "execution_count": 1,
   "id": "b331088b",
   "metadata": {
    "_cell_guid": "b1076dfc-b9ad-4769-8c92-a6c4dae69d19",
    "_uuid": "8f2839f25d086af736a60e9eeb907d3b93b6e0e5",
    "execution": {
     "iopub.execute_input": "2024-05-15T07:52:21.026113Z",
     "iopub.status.busy": "2024-05-15T07:52:21.025655Z",
     "iopub.status.idle": "2024-05-15T07:52:23.159920Z",
     "shell.execute_reply": "2024-05-15T07:52:23.158755Z"
    },
    "papermill": {
     "duration": 2.149132,
     "end_time": "2024-05-15T07:52:23.162890",
     "exception": false,
     "start_time": "2024-05-15T07:52:21.013758",
     "status": "completed"
    },
    "tags": []
   },
   "outputs": [],
   "source": [
    "import numpy as np #For algebrical operations.\n",
    "import pandas as pd # For EDA purposes.\n",
    "import seaborn as sns # For Datavisuals\n",
    "import matplotlib.pyplot as plt #For Data visuals"
   ]
  },
  {
   "cell_type": "markdown",
   "id": "8e83fc5a",
   "metadata": {
    "papermill": {
     "duration": 0.010822,
     "end_time": "2024-05-15T07:52:23.184058",
     "exception": false,
     "start_time": "2024-05-15T07:52:23.173236",
     "status": "completed"
    },
    "tags": []
   },
   "source": [
    "# 2 - Data Processing : "
   ]
  },
  {
   "cell_type": "code",
   "execution_count": 2,
   "id": "824cafd4",
   "metadata": {
    "execution": {
     "iopub.execute_input": "2024-05-15T07:52:23.207301Z",
     "iopub.status.busy": "2024-05-15T07:52:23.206788Z",
     "iopub.status.idle": "2024-05-15T07:52:23.241283Z",
     "shell.execute_reply": "2024-05-15T07:52:23.240233Z"
    },
    "papermill": {
     "duration": 0.049747,
     "end_time": "2024-05-15T07:52:23.244163",
     "exception": false,
     "start_time": "2024-05-15T07:52:23.194416",
     "status": "completed"
    },
    "tags": []
   },
   "outputs": [],
   "source": [
    "data = pd.read_csv(\"/kaggle/input/price-volume-data-for-all-us-stocks-etfs/Stocks/tsla.us.txt\")"
   ]
  },
  {
   "cell_type": "markdown",
   "id": "cb0cb890",
   "metadata": {
    "papermill": {
     "duration": 0.010323,
     "end_time": "2024-05-15T07:52:23.264886",
     "exception": false,
     "start_time": "2024-05-15T07:52:23.254563",
     "status": "completed"
    },
    "tags": []
   },
   "source": [
    "# 3 - EDA (EXPLORATORY DATA ANALYSIS): "
   ]
  },
  {
   "cell_type": "code",
   "execution_count": 3,
   "id": "04dcd494",
   "metadata": {
    "execution": {
     "iopub.execute_input": "2024-05-15T07:52:23.288493Z",
     "iopub.status.busy": "2024-05-15T07:52:23.288100Z",
     "iopub.status.idle": "2024-05-15T07:52:23.316126Z",
     "shell.execute_reply": "2024-05-15T07:52:23.315021Z"
    },
    "papermill": {
     "duration": 0.042544,
     "end_time": "2024-05-15T07:52:23.318754",
     "exception": false,
     "start_time": "2024-05-15T07:52:23.276210",
     "status": "completed"
    },
    "tags": []
   },
   "outputs": [
    {
     "data": {
      "text/html": [
       "<div>\n",
       "<style scoped>\n",
       "    .dataframe tbody tr th:only-of-type {\n",
       "        vertical-align: middle;\n",
       "    }\n",
       "\n",
       "    .dataframe tbody tr th {\n",
       "        vertical-align: top;\n",
       "    }\n",
       "\n",
       "    .dataframe thead th {\n",
       "        text-align: right;\n",
       "    }\n",
       "</style>\n",
       "<table border=\"1\" class=\"dataframe\">\n",
       "  <thead>\n",
       "    <tr style=\"text-align: right;\">\n",
       "      <th></th>\n",
       "      <th>Date</th>\n",
       "      <th>Open</th>\n",
       "      <th>High</th>\n",
       "      <th>Low</th>\n",
       "      <th>Close</th>\n",
       "      <th>Volume</th>\n",
       "      <th>OpenInt</th>\n",
       "    </tr>\n",
       "  </thead>\n",
       "  <tbody>\n",
       "    <tr>\n",
       "      <th>0</th>\n",
       "      <td>2010-06-28</td>\n",
       "      <td>17.00</td>\n",
       "      <td>17.00</td>\n",
       "      <td>17.00</td>\n",
       "      <td>17.00</td>\n",
       "      <td>0</td>\n",
       "      <td>0</td>\n",
       "    </tr>\n",
       "    <tr>\n",
       "      <th>1</th>\n",
       "      <td>2010-06-29</td>\n",
       "      <td>19.00</td>\n",
       "      <td>25.00</td>\n",
       "      <td>17.54</td>\n",
       "      <td>23.89</td>\n",
       "      <td>18783276</td>\n",
       "      <td>0</td>\n",
       "    </tr>\n",
       "    <tr>\n",
       "      <th>2</th>\n",
       "      <td>2010-06-30</td>\n",
       "      <td>25.79</td>\n",
       "      <td>30.42</td>\n",
       "      <td>23.30</td>\n",
       "      <td>23.83</td>\n",
       "      <td>17194394</td>\n",
       "      <td>0</td>\n",
       "    </tr>\n",
       "    <tr>\n",
       "      <th>3</th>\n",
       "      <td>2010-07-01</td>\n",
       "      <td>25.00</td>\n",
       "      <td>25.92</td>\n",
       "      <td>20.27</td>\n",
       "      <td>21.96</td>\n",
       "      <td>8229863</td>\n",
       "      <td>0</td>\n",
       "    </tr>\n",
       "    <tr>\n",
       "      <th>4</th>\n",
       "      <td>2010-07-02</td>\n",
       "      <td>23.00</td>\n",
       "      <td>23.10</td>\n",
       "      <td>18.71</td>\n",
       "      <td>19.20</td>\n",
       "      <td>5141807</td>\n",
       "      <td>0</td>\n",
       "    </tr>\n",
       "  </tbody>\n",
       "</table>\n",
       "</div>"
      ],
      "text/plain": [
       "         Date   Open   High    Low  Close    Volume  OpenInt\n",
       "0  2010-06-28  17.00  17.00  17.00  17.00         0        0\n",
       "1  2010-06-29  19.00  25.00  17.54  23.89  18783276        0\n",
       "2  2010-06-30  25.79  30.42  23.30  23.83  17194394        0\n",
       "3  2010-07-01  25.00  25.92  20.27  21.96   8229863        0\n",
       "4  2010-07-02  23.00  23.10  18.71  19.20   5141807        0"
      ]
     },
     "execution_count": 3,
     "metadata": {},
     "output_type": "execute_result"
    }
   ],
   "source": [
    "data.head() #Printing the head or first few rows of our data."
   ]
  },
  {
   "cell_type": "code",
   "execution_count": 4,
   "id": "67fa4f53",
   "metadata": {
    "execution": {
     "iopub.execute_input": "2024-05-15T07:52:23.343364Z",
     "iopub.status.busy": "2024-05-15T07:52:23.342940Z",
     "iopub.status.idle": "2024-05-15T07:52:23.349972Z",
     "shell.execute_reply": "2024-05-15T07:52:23.348959Z"
    },
    "papermill": {
     "duration": 0.022519,
     "end_time": "2024-05-15T07:52:23.352301",
     "exception": false,
     "start_time": "2024-05-15T07:52:23.329782",
     "status": "completed"
    },
    "tags": []
   },
   "outputs": [
    {
     "data": {
      "text/plain": [
       "(1858, 7)"
      ]
     },
     "execution_count": 4,
     "metadata": {},
     "output_type": "execute_result"
    }
   ],
   "source": [
    "data.shape # Shape in (ROWS*COLUMNS) format."
   ]
  },
  {
   "cell_type": "code",
   "execution_count": 5,
   "id": "cdc7b627",
   "metadata": {
    "execution": {
     "iopub.execute_input": "2024-05-15T07:52:23.376472Z",
     "iopub.status.busy": "2024-05-15T07:52:23.375292Z",
     "iopub.status.idle": "2024-05-15T07:52:23.408762Z",
     "shell.execute_reply": "2024-05-15T07:52:23.407662Z"
    },
    "papermill": {
     "duration": 0.04828,
     "end_time": "2024-05-15T07:52:23.411388",
     "exception": false,
     "start_time": "2024-05-15T07:52:23.363108",
     "status": "completed"
    },
    "tags": []
   },
   "outputs": [
    {
     "data": {
      "text/html": [
       "<div>\n",
       "<style scoped>\n",
       "    .dataframe tbody tr th:only-of-type {\n",
       "        vertical-align: middle;\n",
       "    }\n",
       "\n",
       "    .dataframe tbody tr th {\n",
       "        vertical-align: top;\n",
       "    }\n",
       "\n",
       "    .dataframe thead th {\n",
       "        text-align: right;\n",
       "    }\n",
       "</style>\n",
       "<table border=\"1\" class=\"dataframe\">\n",
       "  <thead>\n",
       "    <tr style=\"text-align: right;\">\n",
       "      <th></th>\n",
       "      <th>Open</th>\n",
       "      <th>High</th>\n",
       "      <th>Low</th>\n",
       "      <th>Close</th>\n",
       "      <th>Volume</th>\n",
       "      <th>OpenInt</th>\n",
       "    </tr>\n",
       "  </thead>\n",
       "  <tbody>\n",
       "    <tr>\n",
       "      <th>count</th>\n",
       "      <td>1858.000000</td>\n",
       "      <td>1858.000000</td>\n",
       "      <td>1858.000000</td>\n",
       "      <td>1858.000000</td>\n",
       "      <td>1.858000e+03</td>\n",
       "      <td>1858.0</td>\n",
       "    </tr>\n",
       "    <tr>\n",
       "      <th>mean</th>\n",
       "      <td>150.389741</td>\n",
       "      <td>152.898737</td>\n",
       "      <td>147.688064</td>\n",
       "      <td>150.355047</td>\n",
       "      <td>4.416508e+06</td>\n",
       "      <td>0.0</td>\n",
       "    </tr>\n",
       "    <tr>\n",
       "      <th>std</th>\n",
       "      <td>107.071675</td>\n",
       "      <td>108.490099</td>\n",
       "      <td>105.481665</td>\n",
       "      <td>107.023737</td>\n",
       "      <td>4.244294e+06</td>\n",
       "      <td>0.0</td>\n",
       "    </tr>\n",
       "    <tr>\n",
       "      <th>min</th>\n",
       "      <td>16.140000</td>\n",
       "      <td>16.630000</td>\n",
       "      <td>8.030000</td>\n",
       "      <td>15.800000</td>\n",
       "      <td>0.000000e+00</td>\n",
       "      <td>0.0</td>\n",
       "    </tr>\n",
       "    <tr>\n",
       "      <th>25%</th>\n",
       "      <td>31.002500</td>\n",
       "      <td>31.732500</td>\n",
       "      <td>30.285000</td>\n",
       "      <td>31.112500</td>\n",
       "      <td>1.283324e+06</td>\n",
       "      <td>0.0</td>\n",
       "    </tr>\n",
       "    <tr>\n",
       "      <th>50%</th>\n",
       "      <td>184.440000</td>\n",
       "      <td>188.660000</td>\n",
       "      <td>181.450000</td>\n",
       "      <td>184.850000</td>\n",
       "      <td>3.421026e+06</td>\n",
       "      <td>0.0</td>\n",
       "    </tr>\n",
       "    <tr>\n",
       "      <th>75%</th>\n",
       "      <td>231.477500</td>\n",
       "      <td>235.375000</td>\n",
       "      <td>227.772500</td>\n",
       "      <td>230.920000</td>\n",
       "      <td>5.917672e+06</td>\n",
       "      <td>0.0</td>\n",
       "    </tr>\n",
       "    <tr>\n",
       "      <th>max</th>\n",
       "      <td>386.690000</td>\n",
       "      <td>389.610000</td>\n",
       "      <td>379.345000</td>\n",
       "      <td>385.000000</td>\n",
       "      <td>3.714989e+07</td>\n",
       "      <td>0.0</td>\n",
       "    </tr>\n",
       "  </tbody>\n",
       "</table>\n",
       "</div>"
      ],
      "text/plain": [
       "              Open         High          Low        Close        Volume  \\\n",
       "count  1858.000000  1858.000000  1858.000000  1858.000000  1.858000e+03   \n",
       "mean    150.389741   152.898737   147.688064   150.355047  4.416508e+06   \n",
       "std     107.071675   108.490099   105.481665   107.023737  4.244294e+06   \n",
       "min      16.140000    16.630000     8.030000    15.800000  0.000000e+00   \n",
       "25%      31.002500    31.732500    30.285000    31.112500  1.283324e+06   \n",
       "50%     184.440000   188.660000   181.450000   184.850000  3.421026e+06   \n",
       "75%     231.477500   235.375000   227.772500   230.920000  5.917672e+06   \n",
       "max     386.690000   389.610000   379.345000   385.000000  3.714989e+07   \n",
       "\n",
       "       OpenInt  \n",
       "count   1858.0  \n",
       "mean       0.0  \n",
       "std        0.0  \n",
       "min        0.0  \n",
       "25%        0.0  \n",
       "50%        0.0  \n",
       "75%        0.0  \n",
       "max        0.0  "
      ]
     },
     "execution_count": 5,
     "metadata": {},
     "output_type": "execute_result"
    }
   ],
   "source": [
    "data.describe() #Statistical description of our data."
   ]
  },
  {
   "cell_type": "code",
   "execution_count": 6,
   "id": "d384d4a5",
   "metadata": {
    "execution": {
     "iopub.execute_input": "2024-05-15T07:52:23.435314Z",
     "iopub.status.busy": "2024-05-15T07:52:23.434938Z",
     "iopub.status.idle": "2024-05-15T07:52:23.444420Z",
     "shell.execute_reply": "2024-05-15T07:52:23.443329Z"
    },
    "papermill": {
     "duration": 0.024293,
     "end_time": "2024-05-15T07:52:23.446839",
     "exception": false,
     "start_time": "2024-05-15T07:52:23.422546",
     "status": "completed"
    },
    "tags": []
   },
   "outputs": [
    {
     "data": {
      "text/plain": [
       "Date       0\n",
       "Open       0\n",
       "High       0\n",
       "Low        0\n",
       "Close      0\n",
       "Volume     0\n",
       "OpenInt    0\n",
       "dtype: int64"
      ]
     },
     "execution_count": 6,
     "metadata": {},
     "output_type": "execute_result"
    }
   ],
   "source": [
    " data.isna().sum() #Sum of all null-values in our dataset."
   ]
  },
  {
   "cell_type": "markdown",
   "id": "411a1852",
   "metadata": {
    "papermill": {
     "duration": 0.010942,
     "end_time": "2024-05-15T07:52:23.469144",
     "exception": false,
     "start_time": "2024-05-15T07:52:23.458202",
     "status": "completed"
    },
    "tags": []
   },
   "source": [
    "# 4 - Splitting the data into Train-Test : "
   ]
  },
  {
   "cell_type": "code",
   "execution_count": 7,
   "id": "c9c5e711",
   "metadata": {
    "execution": {
     "iopub.execute_input": "2024-05-15T07:52:23.493946Z",
     "iopub.status.busy": "2024-05-15T07:52:23.492984Z",
     "iopub.status.idle": "2024-05-15T07:52:23.499110Z",
     "shell.execute_reply": "2024-05-15T07:52:23.498035Z"
    },
    "papermill": {
     "duration": 0.021171,
     "end_time": "2024-05-15T07:52:23.501498",
     "exception": false,
     "start_time": "2024-05-15T07:52:23.480327",
     "status": "completed"
    },
    "tags": []
   },
   "outputs": [],
   "source": [
    "# Defining training size to be 80% of the overall data.\n",
    "training_size = int(len(data)*0.80)\n",
    "\n",
    "#Defining the Length of data.\n",
    "data_len = len(data)\n",
    "\n",
    "# Defining Training and Testing Data.\n",
    "train=data[0:training_size]\n",
    "test=data[training_size:data_len]"
   ]
  },
  {
   "cell_type": "code",
   "execution_count": 8,
   "id": "41e317ff",
   "metadata": {
    "execution": {
     "iopub.execute_input": "2024-05-15T07:52:23.525610Z",
     "iopub.status.busy": "2024-05-15T07:52:23.525246Z",
     "iopub.status.idle": "2024-05-15T07:52:23.531854Z",
     "shell.execute_reply": "2024-05-15T07:52:23.530858Z"
    },
    "papermill": {
     "duration": 0.021598,
     "end_time": "2024-05-15T07:52:23.534310",
     "exception": false,
     "start_time": "2024-05-15T07:52:23.512712",
     "status": "completed"
    },
    "tags": []
   },
   "outputs": [
    {
     "name": "stdout",
     "output_type": "stream",
     "text": [
      "Training Size -->  1486\n",
      "total length of data -->  1858\n",
      "Train length -->  1486\n",
      "Test length -->  372\n"
     ]
    }
   ],
   "source": [
    "print(\"Training Size --> \", training_size)\n",
    "print(\"total length of data --> \", data_len)\n",
    "print(\"Train length --> \", len(train))\n",
    "print(\"Test length --> \", len(test))"
   ]
  },
  {
   "cell_type": "markdown",
   "id": "63ea7720",
   "metadata": {
    "papermill": {
     "duration": 0.011075,
     "end_time": "2024-05-15T07:52:23.557167",
     "exception": false,
     "start_time": "2024-05-15T07:52:23.546092",
     "status": "completed"
    },
    "tags": []
   },
   "source": [
    "# 5 - Scaling the data (min-max Scaler) : "
   ]
  },
  {
   "cell_type": "markdown",
   "id": "9fa15523",
   "metadata": {
    "papermill": {
     "duration": 0.011141,
     "end_time": "2024-05-15T07:52:23.579599",
     "exception": false,
     "start_time": "2024-05-15T07:52:23.568458",
     "status": "completed"
    },
    "tags": []
   },
   "source": [
    "### NOTE : \n",
    "**SCALING** is to be used in cases where the shape of distribution is not at all affected , In cases of **NORMALIZING** we do change the shape of our distribution."
   ]
  },
  {
   "cell_type": "code",
   "execution_count": 9,
   "id": "8868f11b",
   "metadata": {
    "execution": {
     "iopub.execute_input": "2024-05-15T07:52:23.605429Z",
     "iopub.status.busy": "2024-05-15T07:52:23.605028Z",
     "iopub.status.idle": "2024-05-15T07:52:23.822244Z",
     "shell.execute_reply": "2024-05-15T07:52:23.821266Z"
    },
    "papermill": {
     "duration": 0.23258,
     "end_time": "2024-05-15T07:52:23.825016",
     "exception": false,
     "start_time": "2024-05-15T07:52:23.592436",
     "status": "completed"
    },
    "tags": []
   },
   "outputs": [],
   "source": [
    "# the part of data that we will use as training.\n",
    "train = train.loc[:, [\"Open\"]].values\n",
    "\n",
    "# Defining range for Scaling.\n",
    "from sklearn.preprocessing import MinMaxScaler\n",
    "scaler = MinMaxScaler(feature_range=(0, 1))\n",
    "train_scaled = scaler.fit_transform(train)"
   ]
  },
  {
   "cell_type": "code",
   "execution_count": 10,
   "id": "f0f6c084",
   "metadata": {
    "execution": {
     "iopub.execute_input": "2024-05-15T07:52:23.849467Z",
     "iopub.status.busy": "2024-05-15T07:52:23.849100Z",
     "iopub.status.idle": "2024-05-15T07:52:23.859725Z",
     "shell.execute_reply": "2024-05-15T07:52:23.858621Z"
    },
    "papermill": {
     "duration": 0.02581,
     "end_time": "2024-05-15T07:52:23.862232",
     "exception": false,
     "start_time": "2024-05-15T07:52:23.836422",
     "status": "completed"
    },
    "tags": []
   },
   "outputs": [],
   "source": [
    "end_len = len(train_scaled)\n",
    "X_train = []\n",
    "y_train = []\n",
    "timesteps = 40\n",
    "\n",
    "# Splitting the data into \"X\" and \"Y\" terms.\n",
    "for i in range(timesteps, end_len):\n",
    "    X_train.append(train_scaled[i - timesteps:i, 0])\n",
    "    y_train.append(train_scaled[i, 0])\n",
    "X_train, y_train = np.array(X_train), np.array(y_train)"
   ]
  },
  {
   "cell_type": "code",
   "execution_count": 11,
   "id": "633bb9f9",
   "metadata": {
    "execution": {
     "iopub.execute_input": "2024-05-15T07:52:23.887675Z",
     "iopub.status.busy": "2024-05-15T07:52:23.887260Z",
     "iopub.status.idle": "2024-05-15T07:52:23.893590Z",
     "shell.execute_reply": "2024-05-15T07:52:23.892542Z"
    },
    "papermill": {
     "duration": 0.021534,
     "end_time": "2024-05-15T07:52:23.895894",
     "exception": false,
     "start_time": "2024-05-15T07:52:23.874360",
     "status": "completed"
    },
    "tags": []
   },
   "outputs": [
    {
     "name": "stdout",
     "output_type": "stream",
     "text": [
      "X_train -->  (1446, 40, 1)\n",
      "y_train shape -->  (1446,)\n"
     ]
    }
   ],
   "source": [
    "# Reshaping the data as per as our need.\n",
    "X_train = np.reshape(X_train, (X_train.shape[0], X_train.shape[1], 1))\n",
    "print(\"X_train --> \", X_train.shape)\n",
    "print(\"y_train shape --> \", y_train.shape)"
   ]
  },
  {
   "cell_type": "markdown",
   "id": "e932f9e8",
   "metadata": {
    "papermill": {
     "duration": 0.011018,
     "end_time": "2024-05-15T07:52:23.918313",
     "exception": false,
     "start_time": "2024-05-15T07:52:23.907295",
     "status": "completed"
    },
    "tags": []
   },
   "source": [
    "# Buliding RNN model.\n"
   ]
  },
  {
   "cell_type": "code",
   "execution_count": 12,
   "id": "e1f32849",
   "metadata": {
    "execution": {
     "iopub.execute_input": "2024-05-15T07:52:23.943010Z",
     "iopub.status.busy": "2024-05-15T07:52:23.942424Z",
     "iopub.status.idle": "2024-05-15T07:52:37.602399Z",
     "shell.execute_reply": "2024-05-15T07:52:37.601074Z"
    },
    "papermill": {
     "duration": 13.675493,
     "end_time": "2024-05-15T07:52:37.605342",
     "exception": false,
     "start_time": "2024-05-15T07:52:23.929849",
     "status": "completed"
    },
    "tags": []
   },
   "outputs": [
    {
     "name": "stderr",
     "output_type": "stream",
     "text": [
      "2024-05-15 07:52:26.100489: E external/local_xla/xla/stream_executor/cuda/cuda_dnn.cc:9261] Unable to register cuDNN factory: Attempting to register factory for plugin cuDNN when one has already been registered\n",
      "2024-05-15 07:52:26.100611: E external/local_xla/xla/stream_executor/cuda/cuda_fft.cc:607] Unable to register cuFFT factory: Attempting to register factory for plugin cuFFT when one has already been registered\n",
      "2024-05-15 07:52:26.261262: E external/local_xla/xla/stream_executor/cuda/cuda_blas.cc:1515] Unable to register cuBLAS factory: Attempting to register factory for plugin cuBLAS when one has already been registered\n"
     ]
    }
   ],
   "source": [
    "from keras.models import Sequential\n",
    "from keras.layers import Dense\n",
    "from keras.layers import SimpleRNN\n",
    "from keras.layers import Dropout"
   ]
  },
  {
   "cell_type": "code",
   "execution_count": 13,
   "id": "ddbf8227",
   "metadata": {
    "execution": {
     "iopub.execute_input": "2024-05-15T07:52:37.631078Z",
     "iopub.status.busy": "2024-05-15T07:52:37.630353Z",
     "iopub.status.idle": "2024-05-15T07:52:37.852100Z",
     "shell.execute_reply": "2024-05-15T07:52:37.850826Z"
    },
    "papermill": {
     "duration": 0.237404,
     "end_time": "2024-05-15T07:52:37.854727",
     "exception": false,
     "start_time": "2024-05-15T07:52:37.617323",
     "status": "completed"
    },
    "tags": []
   },
   "outputs": [
    {
     "name": "stderr",
     "output_type": "stream",
     "text": [
      "/opt/conda/lib/python3.10/site-packages/keras/src/layers/rnn/rnn.py:204: UserWarning: Do not pass an `input_shape`/`input_dim` argument to a layer. When using Sequential models, prefer using an `Input(shape)` object as the first layer in the model instead.\n",
      "  super().__init__(**kwargs)\n"
     ]
    }
   ],
   "source": [
    "# Initialize a sequential model\n",
    "regressor = Sequential()  \n",
    "\n",
    "# Add the first SimpleRNN layer and add dropout regularization\n",
    "regressor.add(SimpleRNN(units=50, activation=\"tanh\", return_sequences=True, input_shape=(X_train.shape[1], 1)))\n",
    "regressor.add(Dropout(0.2))  \n",
    "\n",
    "# Add the second SimpleRNN layer and add dropout regularization\n",
    "regressor.add(SimpleRNN(units=50, activation=\"tanh\", return_sequences=True))\n",
    "regressor.add(Dropout(0.2))  # Add dropout regularization\n",
    "\n",
    "# Add the third SimpleRNN layer and add dropout regularization\n",
    "regressor.add(SimpleRNN(units=50, activation=\"tanh\", return_sequences=True))\n",
    "regressor.add(Dropout(0.2)) \n",
    "\n",
    "# Add the fourth SimpleRNN layer and add dropout regularization\n",
    "regressor.add(SimpleRNN(units=50))\n",
    "regressor.add(Dropout(0.2)) \n",
    "\n",
    "# Add the output layer\n",
    "regressor.add(Dense(units=1))\n"
   ]
  },
  {
   "cell_type": "markdown",
   "id": "c435a88d",
   "metadata": {
    "papermill": {
     "duration": 0.011482,
     "end_time": "2024-05-15T07:52:37.878554",
     "exception": false,
     "start_time": "2024-05-15T07:52:37.867072",
     "status": "completed"
    },
    "tags": []
   },
   "source": [
    "# Compling the MODEL : "
   ]
  },
  {
   "cell_type": "markdown",
   "id": "10155ccf",
   "metadata": {
    "papermill": {
     "duration": 0.011353,
     "end_time": "2024-05-15T07:52:37.901916",
     "exception": false,
     "start_time": "2024-05-15T07:52:37.890563",
     "status": "completed"
    },
    "tags": []
   },
   "source": [
    "Now we may define our optimizers in this case we are using **ADAM** with the loss function being \"**MSE (Mean Squared Error)**\":  "
   ]
  },
  {
   "cell_type": "code",
   "execution_count": 14,
   "id": "e4bea99c",
   "metadata": {
    "execution": {
     "iopub.execute_input": "2024-05-15T07:52:37.927255Z",
     "iopub.status.busy": "2024-05-15T07:52:37.926849Z",
     "iopub.status.idle": "2024-05-15T07:52:37.942319Z",
     "shell.execute_reply": "2024-05-15T07:52:37.941190Z"
    },
    "papermill": {
     "duration": 0.031507,
     "end_time": "2024-05-15T07:52:37.945080",
     "exception": false,
     "start_time": "2024-05-15T07:52:37.913573",
     "status": "completed"
    },
    "tags": []
   },
   "outputs": [],
   "source": [
    "regressor.compile(optimizer= \"adam\", loss = \"mean_squared_error\")"
   ]
  },
  {
   "cell_type": "markdown",
   "id": "93fc455d",
   "metadata": {
    "papermill": {
     "duration": 0.011761,
     "end_time": "2024-05-15T07:52:37.968558",
     "exception": false,
     "start_time": "2024-05-15T07:52:37.956797",
     "status": "completed"
    },
    "tags": []
   },
   "source": [
    "**Epochs** are the number of iterations we are gonna use to make our model read the data repeatedly and **batch size** is gonna be the size of data we are gonna be giving in our model."
   ]
  },
  {
   "cell_type": "code",
   "execution_count": 15,
   "id": "bf912b51",
   "metadata": {
    "execution": {
     "iopub.execute_input": "2024-05-15T07:52:37.994269Z",
     "iopub.status.busy": "2024-05-15T07:52:37.993841Z",
     "iopub.status.idle": "2024-05-15T07:52:37.999636Z",
     "shell.execute_reply": "2024-05-15T07:52:37.998225Z"
    },
    "papermill": {
     "duration": 0.021916,
     "end_time": "2024-05-15T07:52:38.002315",
     "exception": false,
     "start_time": "2024-05-15T07:52:37.980399",
     "status": "completed"
    },
    "tags": []
   },
   "outputs": [],
   "source": [
    "epochs = 100 \n",
    "batch_size = 20"
   ]
  },
  {
   "cell_type": "markdown",
   "id": "ca26aa99",
   "metadata": {
    "papermill": {
     "duration": 0.012951,
     "end_time": "2024-05-15T07:52:38.027336",
     "exception": false,
     "start_time": "2024-05-15T07:52:38.014385",
     "status": "completed"
    },
    "tags": []
   },
   "source": [
    "### We are fitting the model now in to our Regressor model also known as the process of training the model. "
   ]
  },
  {
   "cell_type": "code",
   "execution_count": 16,
   "id": "0af5cb21",
   "metadata": {
    "execution": {
     "iopub.execute_input": "2024-05-15T07:52:38.053756Z",
     "iopub.status.busy": "2024-05-15T07:52:38.053319Z",
     "iopub.status.idle": "2024-05-15T07:56:32.496006Z",
     "shell.execute_reply": "2024-05-15T07:56:32.494525Z"
    },
    "papermill": {
     "duration": 234.459099,
     "end_time": "2024-05-15T07:56:32.498731",
     "exception": false,
     "start_time": "2024-05-15T07:52:38.039632",
     "status": "completed"
    },
    "tags": []
   },
   "outputs": [
    {
     "name": "stdout",
     "output_type": "stream",
     "text": [
      "Epoch 1/100\n",
      "\u001b[1m73/73\u001b[0m \u001b[32m━━━━━━━━━━━━━━━━━━━━\u001b[0m\u001b[37m\u001b[0m \u001b[1m7s\u001b[0m 30ms/step - loss: 0.4130\n",
      "Epoch 2/100\n",
      "\u001b[1m73/73\u001b[0m \u001b[32m━━━━━━━━━━━━━━━━━━━━\u001b[0m\u001b[37m\u001b[0m \u001b[1m2s\u001b[0m 30ms/step - loss: 0.1726\n",
      "Epoch 3/100\n",
      "\u001b[1m73/73\u001b[0m \u001b[32m━━━━━━━━━━━━━━━━━━━━\u001b[0m\u001b[37m\u001b[0m \u001b[1m2s\u001b[0m 31ms/step - loss: 0.0940\n",
      "Epoch 4/100\n",
      "\u001b[1m73/73\u001b[0m \u001b[32m━━━━━━━━━━━━━━━━━━━━\u001b[0m\u001b[37m\u001b[0m \u001b[1m2s\u001b[0m 30ms/step - loss: 0.0601\n",
      "Epoch 5/100\n",
      "\u001b[1m73/73\u001b[0m \u001b[32m━━━━━━━━━━━━━━━━━━━━\u001b[0m\u001b[37m\u001b[0m \u001b[1m2s\u001b[0m 30ms/step - loss: 0.0477\n",
      "Epoch 6/100\n",
      "\u001b[1m73/73\u001b[0m \u001b[32m━━━━━━━━━━━━━━━━━━━━\u001b[0m\u001b[37m\u001b[0m \u001b[1m2s\u001b[0m 30ms/step - loss: 0.0417\n",
      "Epoch 7/100\n",
      "\u001b[1m73/73\u001b[0m \u001b[32m━━━━━━━━━━━━━━━━━━━━\u001b[0m\u001b[37m\u001b[0m \u001b[1m2s\u001b[0m 30ms/step - loss: 0.0284\n",
      "Epoch 8/100\n",
      "\u001b[1m73/73\u001b[0m \u001b[32m━━━━━━━━━━━━━━━━━━━━\u001b[0m\u001b[37m\u001b[0m \u001b[1m2s\u001b[0m 30ms/step - loss: 0.0303\n",
      "Epoch 9/100\n",
      "\u001b[1m73/73\u001b[0m \u001b[32m━━━━━━━━━━━━━━━━━━━━\u001b[0m\u001b[37m\u001b[0m \u001b[1m3s\u001b[0m 30ms/step - loss: 0.0257\n",
      "Epoch 10/100\n",
      "\u001b[1m73/73\u001b[0m \u001b[32m━━━━━━━━━━━━━━━━━━━━\u001b[0m\u001b[37m\u001b[0m \u001b[1m2s\u001b[0m 30ms/step - loss: 0.0214\n",
      "Epoch 11/100\n",
      "\u001b[1m73/73\u001b[0m \u001b[32m━━━━━━━━━━━━━━━━━━━━\u001b[0m\u001b[37m\u001b[0m \u001b[1m2s\u001b[0m 31ms/step - loss: 0.0200\n",
      "Epoch 12/100\n",
      "\u001b[1m73/73\u001b[0m \u001b[32m━━━━━━━━━━━━━━━━━━━━\u001b[0m\u001b[37m\u001b[0m \u001b[1m3s\u001b[0m 32ms/step - loss: 0.0194\n",
      "Epoch 13/100\n",
      "\u001b[1m73/73\u001b[0m \u001b[32m━━━━━━━━━━━━━━━━━━━━\u001b[0m\u001b[37m\u001b[0m \u001b[1m2s\u001b[0m 30ms/step - loss: 0.0163\n",
      "Epoch 14/100\n",
      "\u001b[1m73/73\u001b[0m \u001b[32m━━━━━━━━━━━━━━━━━━━━\u001b[0m\u001b[37m\u001b[0m \u001b[1m2s\u001b[0m 30ms/step - loss: 0.0139\n",
      "Epoch 15/100\n",
      "\u001b[1m73/73\u001b[0m \u001b[32m━━━━━━━━━━━━━━━━━━━━\u001b[0m\u001b[37m\u001b[0m \u001b[1m2s\u001b[0m 29ms/step - loss: 0.0123\n",
      "Epoch 16/100\n",
      "\u001b[1m73/73\u001b[0m \u001b[32m━━━━━━━━━━━━━━━━━━━━\u001b[0m\u001b[37m\u001b[0m \u001b[1m2s\u001b[0m 31ms/step - loss: 0.0113\n",
      "Epoch 17/100\n",
      "\u001b[1m73/73\u001b[0m \u001b[32m━━━━━━━━━━━━━━━━━━━━\u001b[0m\u001b[37m\u001b[0m \u001b[1m2s\u001b[0m 30ms/step - loss: 0.0113\n",
      "Epoch 18/100\n",
      "\u001b[1m73/73\u001b[0m \u001b[32m━━━━━━━━━━━━━━━━━━━━\u001b[0m\u001b[37m\u001b[0m \u001b[1m2s\u001b[0m 30ms/step - loss: 0.0105\n",
      "Epoch 19/100\n",
      "\u001b[1m73/73\u001b[0m \u001b[32m━━━━━━━━━━━━━━━━━━━━\u001b[0m\u001b[37m\u001b[0m \u001b[1m2s\u001b[0m 30ms/step - loss: 0.0087\n",
      "Epoch 20/100\n",
      "\u001b[1m73/73\u001b[0m \u001b[32m━━━━━━━━━━━━━━━━━━━━\u001b[0m\u001b[37m\u001b[0m \u001b[1m2s\u001b[0m 30ms/step - loss: 0.0094\n",
      "Epoch 21/100\n",
      "\u001b[1m73/73\u001b[0m \u001b[32m━━━━━━━━━━━━━━━━━━━━\u001b[0m\u001b[37m\u001b[0m \u001b[1m2s\u001b[0m 30ms/step - loss: 0.0080\n",
      "Epoch 22/100\n",
      "\u001b[1m73/73\u001b[0m \u001b[32m━━━━━━━━━━━━━━━━━━━━\u001b[0m\u001b[37m\u001b[0m \u001b[1m3s\u001b[0m 30ms/step - loss: 0.0073\n",
      "Epoch 23/100\n",
      "\u001b[1m73/73\u001b[0m \u001b[32m━━━━━━━━━━━━━━━━━━━━\u001b[0m\u001b[37m\u001b[0m \u001b[1m2s\u001b[0m 30ms/step - loss: 0.0074\n",
      "Epoch 24/100\n",
      "\u001b[1m73/73\u001b[0m \u001b[32m━━━━━━━━━━━━━━━━━━━━\u001b[0m\u001b[37m\u001b[0m \u001b[1m2s\u001b[0m 30ms/step - loss: 0.0070\n",
      "Epoch 25/100\n",
      "\u001b[1m73/73\u001b[0m \u001b[32m━━━━━━━━━━━━━━━━━━━━\u001b[0m\u001b[37m\u001b[0m \u001b[1m2s\u001b[0m 32ms/step - loss: 0.0075\n",
      "Epoch 26/100\n",
      "\u001b[1m73/73\u001b[0m \u001b[32m━━━━━━━━━━━━━━━━━━━━\u001b[0m\u001b[37m\u001b[0m \u001b[1m3s\u001b[0m 32ms/step - loss: 0.0060\n",
      "Epoch 27/100\n",
      "\u001b[1m73/73\u001b[0m \u001b[32m━━━━━━━━━━━━━━━━━━━━\u001b[0m\u001b[37m\u001b[0m \u001b[1m2s\u001b[0m 30ms/step - loss: 0.0061\n",
      "Epoch 28/100\n",
      "\u001b[1m73/73\u001b[0m \u001b[32m━━━━━━━━━━━━━━━━━━━━\u001b[0m\u001b[37m\u001b[0m \u001b[1m3s\u001b[0m 30ms/step - loss: 0.0055\n",
      "Epoch 29/100\n",
      "\u001b[1m73/73\u001b[0m \u001b[32m━━━━━━━━━━━━━━━━━━━━\u001b[0m\u001b[37m\u001b[0m \u001b[1m2s\u001b[0m 30ms/step - loss: 0.0047\n",
      "Epoch 30/100\n",
      "\u001b[1m73/73\u001b[0m \u001b[32m━━━━━━━━━━━━━━━━━━━━\u001b[0m\u001b[37m\u001b[0m \u001b[1m2s\u001b[0m 30ms/step - loss: 0.0054\n",
      "Epoch 31/100\n",
      "\u001b[1m73/73\u001b[0m \u001b[32m━━━━━━━━━━━━━━━━━━━━\u001b[0m\u001b[37m\u001b[0m \u001b[1m2s\u001b[0m 30ms/step - loss: 0.0049\n",
      "Epoch 32/100\n",
      "\u001b[1m73/73\u001b[0m \u001b[32m━━━━━━━━━━━━━━━━━━━━\u001b[0m\u001b[37m\u001b[0m \u001b[1m2s\u001b[0m 30ms/step - loss: 0.0057\n",
      "Epoch 33/100\n",
      "\u001b[1m73/73\u001b[0m \u001b[32m━━━━━━━━━━━━━━━━━━━━\u001b[0m\u001b[37m\u001b[0m \u001b[1m2s\u001b[0m 30ms/step - loss: 0.0046\n",
      "Epoch 34/100\n",
      "\u001b[1m73/73\u001b[0m \u001b[32m━━━━━━━━━━━━━━━━━━━━\u001b[0m\u001b[37m\u001b[0m \u001b[1m2s\u001b[0m 30ms/step - loss: 0.0037\n",
      "Epoch 35/100\n",
      "\u001b[1m73/73\u001b[0m \u001b[32m━━━━━━━━━━━━━━━━━━━━\u001b[0m\u001b[37m\u001b[0m \u001b[1m2s\u001b[0m 30ms/step - loss: 0.0048\n",
      "Epoch 36/100\n",
      "\u001b[1m73/73\u001b[0m \u001b[32m━━━━━━━━━━━━━━━━━━━━\u001b[0m\u001b[37m\u001b[0m \u001b[1m3s\u001b[0m 30ms/step - loss: 0.0048\n",
      "Epoch 37/100\n",
      "\u001b[1m73/73\u001b[0m \u001b[32m━━━━━━━━━━━━━━━━━━━━\u001b[0m\u001b[37m\u001b[0m \u001b[1m3s\u001b[0m 31ms/step - loss: 0.0039\n",
      "Epoch 38/100\n",
      "\u001b[1m73/73\u001b[0m \u001b[32m━━━━━━━━━━━━━━━━━━━━\u001b[0m\u001b[37m\u001b[0m \u001b[1m2s\u001b[0m 30ms/step - loss: 0.0039\n",
      "Epoch 39/100\n",
      "\u001b[1m73/73\u001b[0m \u001b[32m━━━━━━━━━━━━━━━━━━━━\u001b[0m\u001b[37m\u001b[0m \u001b[1m2s\u001b[0m 32ms/step - loss: 0.0038\n",
      "Epoch 40/100\n",
      "\u001b[1m73/73\u001b[0m \u001b[32m━━━━━━━━━━━━━━━━━━━━\u001b[0m\u001b[37m\u001b[0m \u001b[1m2s\u001b[0m 31ms/step - loss: 0.0038\n",
      "Epoch 41/100\n",
      "\u001b[1m73/73\u001b[0m \u001b[32m━━━━━━━━━━━━━━━━━━━━\u001b[0m\u001b[37m\u001b[0m \u001b[1m2s\u001b[0m 30ms/step - loss: 0.0042\n",
      "Epoch 42/100\n",
      "\u001b[1m73/73\u001b[0m \u001b[32m━━━━━━━━━━━━━━━━━━━━\u001b[0m\u001b[37m\u001b[0m \u001b[1m2s\u001b[0m 31ms/step - loss: 0.0031\n",
      "Epoch 43/100\n",
      "\u001b[1m73/73\u001b[0m \u001b[32m━━━━━━━━━━━━━━━━━━━━\u001b[0m\u001b[37m\u001b[0m \u001b[1m2s\u001b[0m 29ms/step - loss: 0.0031\n",
      "Epoch 44/100\n",
      "\u001b[1m73/73\u001b[0m \u001b[32m━━━━━━━━━━━━━━━━━━━━\u001b[0m\u001b[37m\u001b[0m \u001b[1m2s\u001b[0m 29ms/step - loss: 0.0034\n",
      "Epoch 45/100\n",
      "\u001b[1m73/73\u001b[0m \u001b[32m━━━━━━━━━━━━━━━━━━━━\u001b[0m\u001b[37m\u001b[0m \u001b[1m2s\u001b[0m 29ms/step - loss: 0.0029\n",
      "Epoch 46/100\n",
      "\u001b[1m73/73\u001b[0m \u001b[32m━━━━━━━━━━━━━━━━━━━━\u001b[0m\u001b[37m\u001b[0m \u001b[1m2s\u001b[0m 30ms/step - loss: 0.0037\n",
      "Epoch 47/100\n",
      "\u001b[1m73/73\u001b[0m \u001b[32m━━━━━━━━━━━━━━━━━━━━\u001b[0m\u001b[37m\u001b[0m \u001b[1m2s\u001b[0m 30ms/step - loss: 0.0028\n",
      "Epoch 48/100\n",
      "\u001b[1m73/73\u001b[0m \u001b[32m━━━━━━━━━━━━━━━━━━━━\u001b[0m\u001b[37m\u001b[0m \u001b[1m2s\u001b[0m 29ms/step - loss: 0.0028\n",
      "Epoch 49/100\n",
      "\u001b[1m73/73\u001b[0m \u001b[32m━━━━━━━━━━━━━━━━━━━━\u001b[0m\u001b[37m\u001b[0m \u001b[1m2s\u001b[0m 30ms/step - loss: 0.0031\n",
      "Epoch 50/100\n",
      "\u001b[1m73/73\u001b[0m \u001b[32m━━━━━━━━━━━━━━━━━━━━\u001b[0m\u001b[37m\u001b[0m \u001b[1m2s\u001b[0m 30ms/step - loss: 0.0028\n",
      "Epoch 51/100\n",
      "\u001b[1m73/73\u001b[0m \u001b[32m━━━━━━━━━━━━━━━━━━━━\u001b[0m\u001b[37m\u001b[0m \u001b[1m2s\u001b[0m 31ms/step - loss: 0.0027\n",
      "Epoch 52/100\n",
      "\u001b[1m73/73\u001b[0m \u001b[32m━━━━━━━━━━━━━━━━━━━━\u001b[0m\u001b[37m\u001b[0m \u001b[1m2s\u001b[0m 30ms/step - loss: 0.0031\n",
      "Epoch 53/100\n",
      "\u001b[1m73/73\u001b[0m \u001b[32m━━━━━━━━━━━━━━━━━━━━\u001b[0m\u001b[37m\u001b[0m \u001b[1m3s\u001b[0m 31ms/step - loss: 0.0025\n",
      "Epoch 54/100\n",
      "\u001b[1m73/73\u001b[0m \u001b[32m━━━━━━━━━━━━━━━━━━━━\u001b[0m\u001b[37m\u001b[0m \u001b[1m2s\u001b[0m 33ms/step - loss: 0.0028\n",
      "Epoch 55/100\n",
      "\u001b[1m73/73\u001b[0m \u001b[32m━━━━━━━━━━━━━━━━━━━━\u001b[0m\u001b[37m\u001b[0m \u001b[1m2s\u001b[0m 30ms/step - loss: 0.0027\n",
      "Epoch 56/100\n",
      "\u001b[1m73/73\u001b[0m \u001b[32m━━━━━━━━━━━━━━━━━━━━\u001b[0m\u001b[37m\u001b[0m \u001b[1m3s\u001b[0m 30ms/step - loss: 0.0028\n",
      "Epoch 57/100\n",
      "\u001b[1m73/73\u001b[0m \u001b[32m━━━━━━━━━━━━━━━━━━━━\u001b[0m\u001b[37m\u001b[0m \u001b[1m2s\u001b[0m 30ms/step - loss: 0.0025\n",
      "Epoch 58/100\n",
      "\u001b[1m73/73\u001b[0m \u001b[32m━━━━━━━━━━━━━━━━━━━━\u001b[0m\u001b[37m\u001b[0m \u001b[1m2s\u001b[0m 30ms/step - loss: 0.0025\n",
      "Epoch 59/100\n",
      "\u001b[1m73/73\u001b[0m \u001b[32m━━━━━━━━━━━━━━━━━━━━\u001b[0m\u001b[37m\u001b[0m \u001b[1m2s\u001b[0m 30ms/step - loss: 0.0022\n",
      "Epoch 60/100\n",
      "\u001b[1m73/73\u001b[0m \u001b[32m━━━━━━━━━━━━━━━━━━━━\u001b[0m\u001b[37m\u001b[0m \u001b[1m2s\u001b[0m 30ms/step - loss: 0.0030\n",
      "Epoch 61/100\n",
      "\u001b[1m73/73\u001b[0m \u001b[32m━━━━━━━━━━━━━━━━━━━━\u001b[0m\u001b[37m\u001b[0m \u001b[1m3s\u001b[0m 30ms/step - loss: 0.0022\n",
      "Epoch 62/100\n",
      "\u001b[1m73/73\u001b[0m \u001b[32m━━━━━━━━━━━━━━━━━━━━\u001b[0m\u001b[37m\u001b[0m \u001b[1m2s\u001b[0m 30ms/step - loss: 0.0027\n",
      "Epoch 63/100\n",
      "\u001b[1m73/73\u001b[0m \u001b[32m━━━━━━━━━━━━━━━━━━━━\u001b[0m\u001b[37m\u001b[0m \u001b[1m2s\u001b[0m 30ms/step - loss: 0.0022\n",
      "Epoch 64/100\n",
      "\u001b[1m73/73\u001b[0m \u001b[32m━━━━━━━━━━━━━━━━━━━━\u001b[0m\u001b[37m\u001b[0m \u001b[1m2s\u001b[0m 31ms/step - loss: 0.0026\n",
      "Epoch 65/100\n",
      "\u001b[1m73/73\u001b[0m \u001b[32m━━━━━━━━━━━━━━━━━━━━\u001b[0m\u001b[37m\u001b[0m \u001b[1m2s\u001b[0m 30ms/step - loss: 0.0023\n",
      "Epoch 66/100\n",
      "\u001b[1m73/73\u001b[0m \u001b[32m━━━━━━━━━━━━━━━━━━━━\u001b[0m\u001b[37m\u001b[0m \u001b[1m2s\u001b[0m 30ms/step - loss: 0.0022\n",
      "Epoch 67/100\n",
      "\u001b[1m73/73\u001b[0m \u001b[32m━━━━━━━━━━━━━━━━━━━━\u001b[0m\u001b[37m\u001b[0m \u001b[1m2s\u001b[0m 30ms/step - loss: 0.0021\n",
      "Epoch 68/100\n",
      "\u001b[1m73/73\u001b[0m \u001b[32m━━━━━━━━━━━━━━━━━━━━\u001b[0m\u001b[37m\u001b[0m \u001b[1m3s\u001b[0m 33ms/step - loss: 0.0025\n",
      "Epoch 69/100\n",
      "\u001b[1m73/73\u001b[0m \u001b[32m━━━━━━━━━━━━━━━━━━━━\u001b[0m\u001b[37m\u001b[0m \u001b[1m2s\u001b[0m 30ms/step - loss: 0.0024\n",
      "Epoch 70/100\n",
      "\u001b[1m73/73\u001b[0m \u001b[32m━━━━━━━━━━━━━━━━━━━━\u001b[0m\u001b[37m\u001b[0m \u001b[1m2s\u001b[0m 30ms/step - loss: 0.0022\n",
      "Epoch 71/100\n",
      "\u001b[1m73/73\u001b[0m \u001b[32m━━━━━━━━━━━━━━━━━━━━\u001b[0m\u001b[37m\u001b[0m \u001b[1m2s\u001b[0m 30ms/step - loss: 0.0023\n",
      "Epoch 72/100\n",
      "\u001b[1m73/73\u001b[0m \u001b[32m━━━━━━━━━━━━━━━━━━━━\u001b[0m\u001b[37m\u001b[0m \u001b[1m2s\u001b[0m 30ms/step - loss: 0.0023\n",
      "Epoch 73/100\n",
      "\u001b[1m73/73\u001b[0m \u001b[32m━━━━━━━━━━━━━━━━━━━━\u001b[0m\u001b[37m\u001b[0m \u001b[1m2s\u001b[0m 30ms/step - loss: 0.0023\n",
      "Epoch 74/100\n",
      "\u001b[1m73/73\u001b[0m \u001b[32m━━━━━━━━━━━━━━━━━━━━\u001b[0m\u001b[37m\u001b[0m \u001b[1m2s\u001b[0m 31ms/step - loss: 0.0020\n",
      "Epoch 75/100\n",
      "\u001b[1m73/73\u001b[0m \u001b[32m━━━━━━━━━━━━━━━━━━━━\u001b[0m\u001b[37m\u001b[0m \u001b[1m2s\u001b[0m 31ms/step - loss: 0.0021\n",
      "Epoch 76/100\n",
      "\u001b[1m73/73\u001b[0m \u001b[32m━━━━━━━━━━━━━━━━━━━━\u001b[0m\u001b[37m\u001b[0m \u001b[1m2s\u001b[0m 30ms/step - loss: 0.0022\n",
      "Epoch 77/100\n",
      "\u001b[1m73/73\u001b[0m \u001b[32m━━━━━━━━━━━━━━━━━━━━\u001b[0m\u001b[37m\u001b[0m \u001b[1m2s\u001b[0m 31ms/step - loss: 0.0019\n",
      "Epoch 78/100\n",
      "\u001b[1m73/73\u001b[0m \u001b[32m━━━━━━━━━━━━━━━━━━━━\u001b[0m\u001b[37m\u001b[0m \u001b[1m2s\u001b[0m 31ms/step - loss: 0.0017\n",
      "Epoch 79/100\n",
      "\u001b[1m73/73\u001b[0m \u001b[32m━━━━━━━━━━━━━━━━━━━━\u001b[0m\u001b[37m\u001b[0m \u001b[1m2s\u001b[0m 30ms/step - loss: 0.0021\n",
      "Epoch 80/100\n",
      "\u001b[1m73/73\u001b[0m \u001b[32m━━━━━━━━━━━━━━━━━━━━\u001b[0m\u001b[37m\u001b[0m \u001b[1m2s\u001b[0m 30ms/step - loss: 0.0021\n",
      "Epoch 81/100\n",
      "\u001b[1m73/73\u001b[0m \u001b[32m━━━━━━━━━━━━━━━━━━━━\u001b[0m\u001b[37m\u001b[0m \u001b[1m2s\u001b[0m 30ms/step - loss: 0.0021\n",
      "Epoch 82/100\n",
      "\u001b[1m73/73\u001b[0m \u001b[32m━━━━━━━━━━━━━━━━━━━━\u001b[0m\u001b[37m\u001b[0m \u001b[1m3s\u001b[0m 32ms/step - loss: 0.0018\n",
      "Epoch 83/100\n",
      "\u001b[1m73/73\u001b[0m \u001b[32m━━━━━━━━━━━━━━━━━━━━\u001b[0m\u001b[37m\u001b[0m \u001b[1m2s\u001b[0m 30ms/step - loss: 0.0020\n",
      "Epoch 84/100\n",
      "\u001b[1m73/73\u001b[0m \u001b[32m━━━━━━━━━━━━━━━━━━━━\u001b[0m\u001b[37m\u001b[0m \u001b[1m2s\u001b[0m 30ms/step - loss: 0.0020\n",
      "Epoch 85/100\n",
      "\u001b[1m73/73\u001b[0m \u001b[32m━━━━━━━━━━━━━━━━━━━━\u001b[0m\u001b[37m\u001b[0m \u001b[1m2s\u001b[0m 30ms/step - loss: 0.0018\n",
      "Epoch 86/100\n",
      "\u001b[1m73/73\u001b[0m \u001b[32m━━━━━━━━━━━━━━━━━━━━\u001b[0m\u001b[37m\u001b[0m \u001b[1m2s\u001b[0m 31ms/step - loss: 0.0019\n",
      "Epoch 87/100\n",
      "\u001b[1m73/73\u001b[0m \u001b[32m━━━━━━━━━━━━━━━━━━━━\u001b[0m\u001b[37m\u001b[0m \u001b[1m2s\u001b[0m 30ms/step - loss: 0.0020\n",
      "Epoch 88/100\n",
      "\u001b[1m73/73\u001b[0m \u001b[32m━━━━━━━━━━━━━━━━━━━━\u001b[0m\u001b[37m\u001b[0m \u001b[1m2s\u001b[0m 30ms/step - loss: 0.0020\n",
      "Epoch 89/100\n",
      "\u001b[1m73/73\u001b[0m \u001b[32m━━━━━━━━━━━━━━━━━━━━\u001b[0m\u001b[37m\u001b[0m \u001b[1m3s\u001b[0m 30ms/step - loss: 0.0018\n",
      "Epoch 90/100\n",
      "\u001b[1m73/73\u001b[0m \u001b[32m━━━━━━━━━━━━━━━━━━━━\u001b[0m\u001b[37m\u001b[0m \u001b[1m3s\u001b[0m 31ms/step - loss: 0.0018\n",
      "Epoch 91/100\n",
      "\u001b[1m73/73\u001b[0m \u001b[32m━━━━━━━━━━━━━━━━━━━━\u001b[0m\u001b[37m\u001b[0m \u001b[1m3s\u001b[0m 31ms/step - loss: 0.0020\n",
      "Epoch 92/100\n",
      "\u001b[1m73/73\u001b[0m \u001b[32m━━━━━━━━━━━━━━━━━━━━\u001b[0m\u001b[37m\u001b[0m \u001b[1m2s\u001b[0m 30ms/step - loss: 0.0024\n",
      "Epoch 93/100\n",
      "\u001b[1m73/73\u001b[0m \u001b[32m━━━━━━━━━━━━━━━━━━━━\u001b[0m\u001b[37m\u001b[0m \u001b[1m2s\u001b[0m 30ms/step - loss: 0.0021\n",
      "Epoch 94/100\n",
      "\u001b[1m73/73\u001b[0m \u001b[32m━━━━━━━━━━━━━━━━━━━━\u001b[0m\u001b[37m\u001b[0m \u001b[1m2s\u001b[0m 31ms/step - loss: 0.0020\n",
      "Epoch 95/100\n",
      "\u001b[1m73/73\u001b[0m \u001b[32m━━━━━━━━━━━━━━━━━━━━\u001b[0m\u001b[37m\u001b[0m \u001b[1m2s\u001b[0m 33ms/step - loss: 0.0020\n",
      "Epoch 96/100\n",
      "\u001b[1m73/73\u001b[0m \u001b[32m━━━━━━━━━━━━━━━━━━━━\u001b[0m\u001b[37m\u001b[0m \u001b[1m2s\u001b[0m 32ms/step - loss: 0.0018\n",
      "Epoch 97/100\n",
      "\u001b[1m73/73\u001b[0m \u001b[32m━━━━━━━━━━━━━━━━━━━━\u001b[0m\u001b[37m\u001b[0m \u001b[1m2s\u001b[0m 31ms/step - loss: 0.0019\n",
      "Epoch 98/100\n",
      "\u001b[1m73/73\u001b[0m \u001b[32m━━━━━━━━━━━━━━━━━━━━\u001b[0m\u001b[37m\u001b[0m \u001b[1m2s\u001b[0m 31ms/step - loss: 0.0018\n",
      "Epoch 99/100\n",
      "\u001b[1m73/73\u001b[0m \u001b[32m━━━━━━━━━━━━━━━━━━━━\u001b[0m\u001b[37m\u001b[0m \u001b[1m2s\u001b[0m 31ms/step - loss: 0.0020\n",
      "Epoch 100/100\n",
      "\u001b[1m73/73\u001b[0m \u001b[32m━━━━━━━━━━━━━━━━━━━━\u001b[0m\u001b[37m\u001b[0m \u001b[1m2s\u001b[0m 30ms/step - loss: 0.0019\n"
     ]
    },
    {
     "data": {
      "text/plain": [
       "<keras.src.callbacks.history.History at 0x79d294145990>"
      ]
     },
     "execution_count": 16,
     "metadata": {},
     "output_type": "execute_result"
    }
   ],
   "source": [
    "regressor.fit(X_train, y_train, epochs = epochs, batch_size = batch_size)"
   ]
  },
  {
   "cell_type": "code",
   "execution_count": 17,
   "id": "985faf0f",
   "metadata": {
    "execution": {
     "iopub.execute_input": "2024-05-15T07:56:33.266503Z",
     "iopub.status.busy": "2024-05-15T07:56:33.266090Z",
     "iopub.status.idle": "2024-05-15T07:56:33.283187Z",
     "shell.execute_reply": "2024-05-15T07:56:33.281966Z"
    },
    "papermill": {
     "duration": 0.403665,
     "end_time": "2024-05-15T07:56:33.285898",
     "exception": false,
     "start_time": "2024-05-15T07:56:32.882233",
     "status": "completed"
    },
    "tags": []
   },
   "outputs": [
    {
     "data": {
      "text/html": [
       "<div>\n",
       "<style scoped>\n",
       "    .dataframe tbody tr th:only-of-type {\n",
       "        vertical-align: middle;\n",
       "    }\n",
       "\n",
       "    .dataframe tbody tr th {\n",
       "        vertical-align: top;\n",
       "    }\n",
       "\n",
       "    .dataframe thead th {\n",
       "        text-align: right;\n",
       "    }\n",
       "</style>\n",
       "<table border=\"1\" class=\"dataframe\">\n",
       "  <thead>\n",
       "    <tr style=\"text-align: right;\">\n",
       "      <th></th>\n",
       "      <th>Date</th>\n",
       "      <th>Open</th>\n",
       "      <th>High</th>\n",
       "      <th>Low</th>\n",
       "      <th>Close</th>\n",
       "      <th>Volume</th>\n",
       "      <th>OpenInt</th>\n",
       "    </tr>\n",
       "  </thead>\n",
       "  <tbody>\n",
       "    <tr>\n",
       "      <th>1486</th>\n",
       "      <td>2016-05-24</td>\n",
       "      <td>216.60</td>\n",
       "      <td>218.74</td>\n",
       "      <td>215.18</td>\n",
       "      <td>217.91</td>\n",
       "      <td>2928659</td>\n",
       "      <td>0</td>\n",
       "    </tr>\n",
       "    <tr>\n",
       "      <th>1487</th>\n",
       "      <td>2016-05-25</td>\n",
       "      <td>217.91</td>\n",
       "      <td>221.36</td>\n",
       "      <td>216.51</td>\n",
       "      <td>219.58</td>\n",
       "      <td>2514028</td>\n",
       "      <td>0</td>\n",
       "    </tr>\n",
       "    <tr>\n",
       "      <th>1488</th>\n",
       "      <td>2016-05-26</td>\n",
       "      <td>220.50</td>\n",
       "      <td>225.26</td>\n",
       "      <td>219.05</td>\n",
       "      <td>225.12</td>\n",
       "      <td>3560997</td>\n",
       "      <td>0</td>\n",
       "    </tr>\n",
       "    <tr>\n",
       "      <th>1489</th>\n",
       "      <td>2016-05-27</td>\n",
       "      <td>224.99</td>\n",
       "      <td>225.93</td>\n",
       "      <td>220.75</td>\n",
       "      <td>223.04</td>\n",
       "      <td>3081734</td>\n",
       "      <td>0</td>\n",
       "    </tr>\n",
       "    <tr>\n",
       "      <th>1490</th>\n",
       "      <td>2016-05-31</td>\n",
       "      <td>223.04</td>\n",
       "      <td>224.75</td>\n",
       "      <td>221.50</td>\n",
       "      <td>223.23</td>\n",
       "      <td>2046828</td>\n",
       "      <td>0</td>\n",
       "    </tr>\n",
       "  </tbody>\n",
       "</table>\n",
       "</div>"
      ],
      "text/plain": [
       "            Date    Open    High     Low   Close   Volume  OpenInt\n",
       "1486  2016-05-24  216.60  218.74  215.18  217.91  2928659        0\n",
       "1487  2016-05-25  217.91  221.36  216.51  219.58  2514028        0\n",
       "1488  2016-05-26  220.50  225.26  219.05  225.12  3560997        0\n",
       "1489  2016-05-27  224.99  225.93  220.75  223.04  3081734        0\n",
       "1490  2016-05-31  223.04  224.75  221.50  223.23  2046828        0"
      ]
     },
     "execution_count": 17,
     "metadata": {},
     "output_type": "execute_result"
    }
   ],
   "source": [
    "test.head()"
   ]
  },
  {
   "cell_type": "markdown",
   "id": "749a868c",
   "metadata": {
    "papermill": {
     "duration": 0.380737,
     "end_time": "2024-05-15T07:56:34.047239",
     "exception": false,
     "start_time": "2024-05-15T07:56:33.666502",
     "status": "completed"
    },
    "tags": []
   },
   "source": [
    "# Defining actual price of our data."
   ]
  },
  {
   "cell_type": "code",
   "execution_count": 18,
   "id": "2839bc0d",
   "metadata": {
    "execution": {
     "iopub.execute_input": "2024-05-15T07:56:34.874305Z",
     "iopub.status.busy": "2024-05-15T07:56:34.873871Z",
     "iopub.status.idle": "2024-05-15T07:56:34.881194Z",
     "shell.execute_reply": "2024-05-15T07:56:34.879944Z"
    },
    "papermill": {
     "duration": 0.390731,
     "end_time": "2024-05-15T07:56:34.884074",
     "exception": false,
     "start_time": "2024-05-15T07:56:34.493343",
     "status": "completed"
    },
    "tags": []
   },
   "outputs": [
    {
     "name": "stdout",
     "output_type": "stream",
     "text": [
      "Real Price Shape -->  (372, 1)\n"
     ]
    }
   ],
   "source": [
    "real_price = test.loc[:, [\"Open\"]].values\n",
    "print(\"Real Price Shape --> \", real_price.shape)"
   ]
  },
  {
   "cell_type": "code",
   "execution_count": 19,
   "id": "8a062ce2",
   "metadata": {
    "execution": {
     "iopub.execute_input": "2024-05-15T07:56:35.662175Z",
     "iopub.status.busy": "2024-05-15T07:56:35.661733Z",
     "iopub.status.idle": "2024-05-15T07:56:35.669748Z",
     "shell.execute_reply": "2024-05-15T07:56:35.668581Z"
    },
    "papermill": {
     "duration": 0.388212,
     "end_time": "2024-05-15T07:56:35.672264",
     "exception": false,
     "start_time": "2024-05-15T07:56:35.284052",
     "status": "completed"
    },
    "tags": []
   },
   "outputs": [],
   "source": [
    "# Concatenate the \"Open\" values from data and test datasets\n",
    "dataset_total = pd.concat((data[\"Open\"], test[\"Open\"]), axis=0)\n",
    "\n",
    "# Extract inputs for the test dataset with consideration of timesteps\n",
    "inputs = dataset_total[len(dataset_total) - len(test) - timesteps:].values.reshape(-1, 1)\n",
    "\n",
    "# Transform inputs using the previously fitted scaler\n",
    "inputs = scaler.transform(inputs)\n"
   ]
  },
  {
   "cell_type": "code",
   "execution_count": 20,
   "id": "38e87ec1",
   "metadata": {
    "execution": {
     "iopub.execute_input": "2024-05-15T07:56:36.444357Z",
     "iopub.status.busy": "2024-05-15T07:56:36.443973Z",
     "iopub.status.idle": "2024-05-15T07:56:36.452482Z",
     "shell.execute_reply": "2024-05-15T07:56:36.451378Z"
    },
    "papermill": {
     "duration": 0.398752,
     "end_time": "2024-05-15T07:56:36.454917",
     "exception": false,
     "start_time": "2024-05-15T07:56:36.056165",
     "status": "completed"
    },
    "tags": []
   },
   "outputs": [
    {
     "name": "stdout",
     "output_type": "stream",
     "text": [
      "X_test shape -->  (372, 40)\n"
     ]
    }
   ],
   "source": [
    "# Initialize an empty list to store test input sequences\n",
    "X_test = []\n",
    "\n",
    "# Iterate over the range to create input sequences\n",
    "for i in range(timesteps, 412):\n",
    "    X_test.append(inputs[i - timesteps : i, 0])\n",
    "\n",
    "# Convert the list of sequences into a numpy array\n",
    "X_test = np.array(X_test)\n",
    "\n",
    "# Print the shape of the X_test array\n",
    "print(\"X_test shape --> \", X_test.shape)\n"
   ]
  },
  {
   "cell_type": "code",
   "execution_count": 21,
   "id": "fad33276",
   "metadata": {
    "execution": {
     "iopub.execute_input": "2024-05-15T07:56:37.287824Z",
     "iopub.status.busy": "2024-05-15T07:56:37.287402Z",
     "iopub.status.idle": "2024-05-15T07:56:38.439263Z",
     "shell.execute_reply": "2024-05-15T07:56:38.437936Z"
    },
    "papermill": {
     "duration": 1.606503,
     "end_time": "2024-05-15T07:56:38.442028",
     "exception": false,
     "start_time": "2024-05-15T07:56:36.835525",
     "status": "completed"
    },
    "tags": []
   },
   "outputs": [
    {
     "name": "stdout",
     "output_type": "stream",
     "text": [
      "\u001b[1m12/12\u001b[0m \u001b[32m━━━━━━━━━━━━━━━━━━━━\u001b[0m\u001b[37m\u001b[0m \u001b[1m1s\u001b[0m 53ms/step\n"
     ]
    }
   ],
   "source": [
    "# Reshape X_test to match the input shape required by the model\n",
    "X_test = np.reshape(X_test, (X_test.shape[0], X_test.shape[1], 1))\n",
    "\n",
    "# Make predictions using the trained regressor model\n",
    "predict = regressor.predict(X_test)\n",
    "\n",
    "# Inverse transform the predictions to original scale\n",
    "predict = scaler.inverse_transform(predict)"
   ]
  },
  {
   "cell_type": "markdown",
   "id": "d21c0924",
   "metadata": {
    "papermill": {
     "duration": 0.382395,
     "end_time": "2024-05-15T07:56:39.213436",
     "exception": false,
     "start_time": "2024-05-15T07:56:38.831041",
     "status": "completed"
    },
    "tags": []
   },
   "source": [
    "# Plotting the \"Results\"."
   ]
  },
  {
   "cell_type": "code",
   "execution_count": 22,
   "id": "eb5c86b4",
   "metadata": {
    "execution": {
     "iopub.execute_input": "2024-05-15T07:56:39.977661Z",
     "iopub.status.busy": "2024-05-15T07:56:39.976799Z",
     "iopub.status.idle": "2024-05-15T07:56:40.368872Z",
     "shell.execute_reply": "2024-05-15T07:56:40.367644Z"
    },
    "papermill": {
     "duration": 0.777759,
     "end_time": "2024-05-15T07:56:40.371459",
     "exception": false,
     "start_time": "2024-05-15T07:56:39.593700",
     "status": "completed"
    },
    "tags": []
   },
   "outputs": [
    {
     "data": {
      "image/png": "[encoded data removed]",
      "text/plain": [
       "<Figure size 640x480 with 1 Axes>"
      ]
     },
     "metadata": {},
     "output_type": "display_data"
    }
   ],
   "source": [
    "plt.plot(real_price, color = \"orange\", label = \"Real Stock Price\")\n",
    "plt.plot(predict, color = \"black\", label = \"Predict Stock Price\")\n",
    "plt.title(\"Stock Price Prediction\")\n",
    "plt.xlabel(\"Time\")\n",
    "plt.ylabel(\"Tesla Stock Price\")\n",
    "plt.legend()\n",
    "plt.show()"
   ]
  },
  {
   "cell_type": "code",
   "execution_count": null,
   "id": "8a189083",
   "metadata": {
    "papermill": {
     "duration": 0.382764,
     "end_time": "2024-05-15T07:56:41.135530",
     "exception": false,
     "start_time": "2024-05-15T07:56:40.752766",
     "status": "completed"
    },
    "tags": []
   },
   "outputs": [],
   "source": []
  }
 ],
 "metadata": {
  "kaggle": {
   "accelerator": "none",
   "dataSources": [
    {
     "datasetId": 4538,
     "sourceId": 7213,
     "sourceType": "datasetVersion"
    }
   ],
   "dockerImageVersionId": 30698,
   "isGpuEnabled": false,
   "isInternetEnabled": false,
   "language": "python",
   "sourceType": "notebook"
  },
  "kernelspec": {
   "display_name": "Python 3",
   "language": "python",
   "name": "python3"
  },
  "language_info": {
   "codemirror_mode": {
    "name": "ipython",
    "version": 3
   },
   "file_extension": ".py",
   "mimetype": "text/x-python",
   "name": "python",
   "nbconvert_exporter": "python",
   "pygments_lexer": "ipython3",
   "version": "3.10.13"
  },
  "papermill": {
   "default_parameters": {},
   "duration": 266.306244,
   "end_time": "2024-05-15T07:56:44.315014",
   "environment_variables": {},
   "exception": null,
   "input_path": "__notebook__.ipynb",
   "output_path": "__notebook__.ipynb",
   "parameters": {},
   "start_time": "2024-05-15T07:52:18.008770",
   "version": "2.5.0"
  }
 },
 "nbformat": 4,
 "nbformat_minor": 5
}
