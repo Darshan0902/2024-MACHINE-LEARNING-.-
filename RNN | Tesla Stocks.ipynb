{
 "cells": [
  {
   "cell_type": "markdown",
   "id": "f5db1831",
   "metadata": {
    "papermill": {
     "duration": 0.007855,
     "end_time": "2024-05-04T12:13:13.042394",
     "exception": false,
     "start_time": "2024-05-04T12:13:13.034539",
     "status": "completed"
    },
    "tags": []
   },
   "source": [
    "# 1 - Importing Libraries : "
   ]
  },
  {
   "cell_type": "code",
   "execution_count": 1,
   "id": "4757508e",
   "metadata": {
    "_cell_guid": "b1076dfc-b9ad-4769-8c92-a6c4dae69d19",
    "_uuid": "8f2839f25d086af736a60e9eeb907d3b93b6e0e5",
    "execution": {
     "iopub.execute_input": "2024-05-04T12:13:13.059301Z",
     "iopub.status.busy": "2024-05-04T12:13:13.058896Z",
     "iopub.status.idle": "2024-05-04T12:13:14.962521Z",
     "shell.execute_reply": "2024-05-04T12:13:14.961469Z"
    },
    "papermill": {
     "duration": 1.915284,
     "end_time": "2024-05-04T12:13:14.965145",
     "exception": false,
     "start_time": "2024-05-04T12:13:13.049861",
     "status": "completed"
    },
    "tags": []
   },
   "outputs": [],
   "source": [
    "import numpy as np #For algebrical operations.\n",
    "import pandas as pd # For EDA purposes.\n",
    "import seaborn as sns # For Datavisuals\n",
    "import matplotlib.pyplot as plt #For Data visuals"
   ]
  },
  {
   "cell_type": "markdown",
   "id": "841dbdeb",
   "metadata": {
    "papermill": {
     "duration": 0.007081,
     "end_time": "2024-05-04T12:13:14.979448",
     "exception": false,
     "start_time": "2024-05-04T12:13:14.972367",
     "status": "completed"
    },
    "tags": []
   },
   "source": [
    "# 2 - Data Processing : "
   ]
  },
  {
   "cell_type": "code",
   "execution_count": 2,
   "id": "fc7c0320",
   "metadata": {
    "execution": {
     "iopub.execute_input": "2024-05-04T12:13:14.996458Z",
     "iopub.status.busy": "2024-05-04T12:13:14.995143Z",
     "iopub.status.idle": "2024-05-04T12:13:15.026693Z",
     "shell.execute_reply": "2024-05-04T12:13:15.025663Z"
    },
    "papermill": {
     "duration": 0.042492,
     "end_time": "2024-05-04T12:13:15.029132",
     "exception": false,
     "start_time": "2024-05-04T12:13:14.986640",
     "status": "completed"
    },
    "tags": []
   },
   "outputs": [],
   "source": [
    "data = pd.read_csv(\"/kaggle/input/price-volume-data-for-all-us-stocks-etfs/Stocks/tsla.us.txt\")"
   ]
  },
  {
   "cell_type": "markdown",
   "id": "87f7b452",
   "metadata": {
    "papermill": {
     "duration": 0.007148,
     "end_time": "2024-05-04T12:13:15.043607",
     "exception": false,
     "start_time": "2024-05-04T12:13:15.036459",
     "status": "completed"
    },
    "tags": []
   },
   "source": [
    "# 3 - EDA (EXPLORATORY DATA ANALYSIS): "
   ]
  },
  {
   "cell_type": "code",
   "execution_count": 3,
   "id": "282b17d0",
   "metadata": {
    "execution": {
     "iopub.execute_input": "2024-05-04T12:13:15.060141Z",
     "iopub.status.busy": "2024-05-04T12:13:15.059707Z",
     "iopub.status.idle": "2024-05-04T12:13:15.082628Z",
     "shell.execute_reply": "2024-05-04T12:13:15.081870Z"
    },
    "papermill": {
     "duration": 0.033422,
     "end_time": "2024-05-04T12:13:15.084563",
     "exception": false,
     "start_time": "2024-05-04T12:13:15.051141",
     "status": "completed"
    },
    "tags": []
   },
   "outputs": [
    {
     "data": {
      "text/html": [
       "<div>\n",
       "<style scoped>\n",
       "    .dataframe tbody tr th:only-of-type {\n",
       "        vertical-align: middle;\n",
       "    }\n",
       "\n",
       "    .dataframe tbody tr th {\n",
       "        vertical-align: top;\n",
       "    }\n",
       "\n",
       "    .dataframe thead th {\n",
       "        text-align: right;\n",
       "    }\n",
       "</style>\n",
       "<table border=\"1\" class=\"dataframe\">\n",
       "  <thead>\n",
       "    <tr style=\"text-align: right;\">\n",
       "      <th></th>\n",
       "      <th>Date</th>\n",
       "      <th>Open</th>\n",
       "      <th>High</th>\n",
       "      <th>Low</th>\n",
       "      <th>Close</th>\n",
       "      <th>Volume</th>\n",
       "      <th>OpenInt</th>\n",
       "    </tr>\n",
       "  </thead>\n",
       "  <tbody>\n",
       "    <tr>\n",
       "      <th>0</th>\n",
       "      <td>2010-06-28</td>\n",
       "      <td>17.00</td>\n",
       "      <td>17.00</td>\n",
       "      <td>17.00</td>\n",
       "      <td>17.00</td>\n",
       "      <td>0</td>\n",
       "      <td>0</td>\n",
       "    </tr>\n",
       "    <tr>\n",
       "      <th>1</th>\n",
       "      <td>2010-06-29</td>\n",
       "      <td>19.00</td>\n",
       "      <td>25.00</td>\n",
       "      <td>17.54</td>\n",
       "      <td>23.89</td>\n",
       "      <td>18783276</td>\n",
       "      <td>0</td>\n",
       "    </tr>\n",
       "    <tr>\n",
       "      <th>2</th>\n",
       "      <td>2010-06-30</td>\n",
       "      <td>25.79</td>\n",
       "      <td>30.42</td>\n",
       "      <td>23.30</td>\n",
       "      <td>23.83</td>\n",
       "      <td>17194394</td>\n",
       "      <td>0</td>\n",
       "    </tr>\n",
       "    <tr>\n",
       "      <th>3</th>\n",
       "      <td>2010-07-01</td>\n",
       "      <td>25.00</td>\n",
       "      <td>25.92</td>\n",
       "      <td>20.27</td>\n",
       "      <td>21.96</td>\n",
       "      <td>8229863</td>\n",
       "      <td>0</td>\n",
       "    </tr>\n",
       "    <tr>\n",
       "      <th>4</th>\n",
       "      <td>2010-07-02</td>\n",
       "      <td>23.00</td>\n",
       "      <td>23.10</td>\n",
       "      <td>18.71</td>\n",
       "      <td>19.20</td>\n",
       "      <td>5141807</td>\n",
       "      <td>0</td>\n",
       "    </tr>\n",
       "  </tbody>\n",
       "</table>\n",
       "</div>"
      ],
      "text/plain": [
       "         Date   Open   High    Low  Close    Volume  OpenInt\n",
       "0  2010-06-28  17.00  17.00  17.00  17.00         0        0\n",
       "1  2010-06-29  19.00  25.00  17.54  23.89  18783276        0\n",
       "2  2010-06-30  25.79  30.42  23.30  23.83  17194394        0\n",
       "3  2010-07-01  25.00  25.92  20.27  21.96   8229863        0\n",
       "4  2010-07-02  23.00  23.10  18.71  19.20   5141807        0"
      ]
     },
     "execution_count": 3,
     "metadata": {},
     "output_type": "execute_result"
    }
   ],
   "source": [
    "data.head() #Printing the head or first few rows of our data."
   ]
  },
  {
   "cell_type": "code",
   "execution_count": 4,
   "id": "0799957c",
   "metadata": {
    "execution": {
     "iopub.execute_input": "2024-05-04T12:13:15.103024Z",
     "iopub.status.busy": "2024-05-04T12:13:15.101847Z",
     "iopub.status.idle": "2024-05-04T12:13:15.108318Z",
     "shell.execute_reply": "2024-05-04T12:13:15.107419Z"
    },
    "papermill": {
     "duration": 0.018163,
     "end_time": "2024-05-04T12:13:15.110363",
     "exception": false,
     "start_time": "2024-05-04T12:13:15.092200",
     "status": "completed"
    },
    "tags": []
   },
   "outputs": [
    {
     "data": {
      "text/plain": [
       "(1858, 7)"
      ]
     },
     "execution_count": 4,
     "metadata": {},
     "output_type": "execute_result"
    }
   ],
   "source": [
    "data.shape # Shape in (ROWS*COLUMNS) format."
   ]
  },
  {
   "cell_type": "code",
   "execution_count": 5,
   "id": "8a83d94f",
   "metadata": {
    "execution": {
     "iopub.execute_input": "2024-05-04T12:13:15.127476Z",
     "iopub.status.busy": "2024-05-04T12:13:15.127123Z",
     "iopub.status.idle": "2024-05-04T12:13:15.157463Z",
     "shell.execute_reply": "2024-05-04T12:13:15.156189Z"
    },
    "papermill": {
     "duration": 0.041868,
     "end_time": "2024-05-04T12:13:15.159880",
     "exception": false,
     "start_time": "2024-05-04T12:13:15.118012",
     "status": "completed"
    },
    "tags": []
   },
   "outputs": [
    {
     "data": {
      "text/html": [
       "<div>\n",
       "<style scoped>\n",
       "    .dataframe tbody tr th:only-of-type {\n",
       "        vertical-align: middle;\n",
       "    }\n",
       "\n",
       "    .dataframe tbody tr th {\n",
       "        vertical-align: top;\n",
       "    }\n",
       "\n",
       "    .dataframe thead th {\n",
       "        text-align: right;\n",
       "    }\n",
       "</style>\n",
       "<table border=\"1\" class=\"dataframe\">\n",
       "  <thead>\n",
       "    <tr style=\"text-align: right;\">\n",
       "      <th></th>\n",
       "      <th>Open</th>\n",
       "      <th>High</th>\n",
       "      <th>Low</th>\n",
       "      <th>Close</th>\n",
       "      <th>Volume</th>\n",
       "      <th>OpenInt</th>\n",
       "    </tr>\n",
       "  </thead>\n",
       "  <tbody>\n",
       "    <tr>\n",
       "      <th>count</th>\n",
       "      <td>1858.000000</td>\n",
       "      <td>1858.000000</td>\n",
       "      <td>1858.000000</td>\n",
       "      <td>1858.000000</td>\n",
       "      <td>1.858000e+03</td>\n",
       "      <td>1858.0</td>\n",
       "    </tr>\n",
       "    <tr>\n",
       "      <th>mean</th>\n",
       "      <td>150.389741</td>\n",
       "      <td>152.898737</td>\n",
       "      <td>147.688064</td>\n",
       "      <td>150.355047</td>\n",
       "      <td>4.416508e+06</td>\n",
       "      <td>0.0</td>\n",
       "    </tr>\n",
       "    <tr>\n",
       "      <th>std</th>\n",
       "      <td>107.071675</td>\n",
       "      <td>108.490099</td>\n",
       "      <td>105.481665</td>\n",
       "      <td>107.023737</td>\n",
       "      <td>4.244294e+06</td>\n",
       "      <td>0.0</td>\n",
       "    </tr>\n",
       "    <tr>\n",
       "      <th>min</th>\n",
       "      <td>16.140000</td>\n",
       "      <td>16.630000</td>\n",
       "      <td>8.030000</td>\n",
       "      <td>15.800000</td>\n",
       "      <td>0.000000e+00</td>\n",
       "      <td>0.0</td>\n",
       "    </tr>\n",
       "    <tr>\n",
       "      <th>25%</th>\n",
       "      <td>31.002500</td>\n",
       "      <td>31.732500</td>\n",
       "      <td>30.285000</td>\n",
       "      <td>31.112500</td>\n",
       "      <td>1.283324e+06</td>\n",
       "      <td>0.0</td>\n",
       "    </tr>\n",
       "    <tr>\n",
       "      <th>50%</th>\n",
       "      <td>184.440000</td>\n",
       "      <td>188.660000</td>\n",
       "      <td>181.450000</td>\n",
       "      <td>184.850000</td>\n",
       "      <td>3.421026e+06</td>\n",
       "      <td>0.0</td>\n",
       "    </tr>\n",
       "    <tr>\n",
       "      <th>75%</th>\n",
       "      <td>231.477500</td>\n",
       "      <td>235.375000</td>\n",
       "      <td>227.772500</td>\n",
       "      <td>230.920000</td>\n",
       "      <td>5.917672e+06</td>\n",
       "      <td>0.0</td>\n",
       "    </tr>\n",
       "    <tr>\n",
       "      <th>max</th>\n",
       "      <td>386.690000</td>\n",
       "      <td>389.610000</td>\n",
       "      <td>379.345000</td>\n",
       "      <td>385.000000</td>\n",
       "      <td>3.714989e+07</td>\n",
       "      <td>0.0</td>\n",
       "    </tr>\n",
       "  </tbody>\n",
       "</table>\n",
       "</div>"
      ],
      "text/plain": [
       "              Open         High          Low        Close        Volume  \\\n",
       "count  1858.000000  1858.000000  1858.000000  1858.000000  1.858000e+03   \n",
       "mean    150.389741   152.898737   147.688064   150.355047  4.416508e+06   \n",
       "std     107.071675   108.490099   105.481665   107.023737  4.244294e+06   \n",
       "min      16.140000    16.630000     8.030000    15.800000  0.000000e+00   \n",
       "25%      31.002500    31.732500    30.285000    31.112500  1.283324e+06   \n",
       "50%     184.440000   188.660000   181.450000   184.850000  3.421026e+06   \n",
       "75%     231.477500   235.375000   227.772500   230.920000  5.917672e+06   \n",
       "max     386.690000   389.610000   379.345000   385.000000  3.714989e+07   \n",
       "\n",
       "       OpenInt  \n",
       "count   1858.0  \n",
       "mean       0.0  \n",
       "std        0.0  \n",
       "min        0.0  \n",
       "25%        0.0  \n",
       "50%        0.0  \n",
       "75%        0.0  \n",
       "max        0.0  "
      ]
     },
     "execution_count": 5,
     "metadata": {},
     "output_type": "execute_result"
    }
   ],
   "source": [
    "data.describe() #Statistical description of our data."
   ]
  },
  {
   "cell_type": "code",
   "execution_count": 6,
   "id": "14f452af",
   "metadata": {
    "execution": {
     "iopub.execute_input": "2024-05-04T12:13:15.177485Z",
     "iopub.status.busy": "2024-05-04T12:13:15.177081Z",
     "iopub.status.idle": "2024-05-04T12:13:15.185774Z",
     "shell.execute_reply": "2024-05-04T12:13:15.184807Z"
    },
    "papermill": {
     "duration": 0.019715,
     "end_time": "2024-05-04T12:13:15.187668",
     "exception": false,
     "start_time": "2024-05-04T12:13:15.167953",
     "status": "completed"
    },
    "tags": []
   },
   "outputs": [
    {
     "data": {
      "text/plain": [
       "Date       0\n",
       "Open       0\n",
       "High       0\n",
       "Low        0\n",
       "Close      0\n",
       "Volume     0\n",
       "OpenInt    0\n",
       "dtype: int64"
      ]
     },
     "execution_count": 6,
     "metadata": {},
     "output_type": "execute_result"
    }
   ],
   "source": [
    " data.isna().sum() #Sum of all null-values in our dataset."
   ]
  },
  {
   "cell_type": "markdown",
   "id": "29d39615",
   "metadata": {
    "papermill": {
     "duration": 0.007764,
     "end_time": "2024-05-04T12:13:15.203543",
     "exception": false,
     "start_time": "2024-05-04T12:13:15.195779",
     "status": "completed"
    },
    "tags": []
   },
   "source": [
    "# 4 - Splitting the data into Train-Test : "
   ]
  },
  {
   "cell_type": "code",
   "execution_count": 7,
   "id": "7e914f5b",
   "metadata": {
    "execution": {
     "iopub.execute_input": "2024-05-04T12:13:15.221654Z",
     "iopub.status.busy": "2024-05-04T12:13:15.221063Z",
     "iopub.status.idle": "2024-05-04T12:13:15.225718Z",
     "shell.execute_reply": "2024-05-04T12:13:15.224968Z"
    },
    "papermill": {
     "duration": 0.016222,
     "end_time": "2024-05-04T12:13:15.227701",
     "exception": false,
     "start_time": "2024-05-04T12:13:15.211479",
     "status": "completed"
    },
    "tags": []
   },
   "outputs": [],
   "source": [
    "# Defining training size to be 80% of the overall data.\n",
    "training_size = int(len(data)*0.80)\n",
    "\n",
    "#Defining the Length of data.\n",
    "data_len = len(data)\n",
    "\n",
    "# Defining Training and Testing Data.\n",
    "train=data[0:training_size]\n",
    "test=data[training_size:data_len]"
   ]
  },
  {
   "cell_type": "code",
   "execution_count": 8,
   "id": "133b1bbf",
   "metadata": {
    "execution": {
     "iopub.execute_input": "2024-05-04T12:13:15.246018Z",
     "iopub.status.busy": "2024-05-04T12:13:15.245049Z",
     "iopub.status.idle": "2024-05-04T12:13:15.251152Z",
     "shell.execute_reply": "2024-05-04T12:13:15.250056Z"
    },
    "papermill": {
     "duration": 0.017596,
     "end_time": "2024-05-04T12:13:15.253294",
     "exception": false,
     "start_time": "2024-05-04T12:13:15.235698",
     "status": "completed"
    },
    "tags": []
   },
   "outputs": [
    {
     "name": "stdout",
     "output_type": "stream",
     "text": [
      "Training Size -->  1486\n",
      "total length of data -->  1858\n",
      "Train length -->  1486\n",
      "Test length -->  372\n"
     ]
    }
   ],
   "source": [
    "print(\"Training Size --> \", training_size)\n",
    "print(\"total length of data --> \", data_len)\n",
    "print(\"Train length --> \", len(train))\n",
    "print(\"Test length --> \", len(test))"
   ]
  },
  {
   "cell_type": "markdown",
   "id": "ff077dc2",
   "metadata": {
    "papermill": {
     "duration": 0.007841,
     "end_time": "2024-05-04T12:13:15.269301",
     "exception": false,
     "start_time": "2024-05-04T12:13:15.261460",
     "status": "completed"
    },
    "tags": []
   },
   "source": [
    "# 5 - Scaling the data (min-max Scaler) : "
   ]
  },
  {
   "cell_type": "markdown",
   "id": "ccc99c2a",
   "metadata": {
    "papermill": {
     "duration": 0.007931,
     "end_time": "2024-05-04T12:13:15.285328",
     "exception": false,
     "start_time": "2024-05-04T12:13:15.277397",
     "status": "completed"
    },
    "tags": []
   },
   "source": [
    "### NOTE : \n",
    "**SCALING** is to be used in cases where the shape of distribution is not at all affected , In cases of **NORMALIZING** we do change the shape of our distribution."
   ]
  },
  {
   "cell_type": "code",
   "execution_count": 9,
   "id": "263d842e",
   "metadata": {
    "execution": {
     "iopub.execute_input": "2024-05-04T12:13:15.303170Z",
     "iopub.status.busy": "2024-05-04T12:13:15.302773Z",
     "iopub.status.idle": "2024-05-04T12:13:15.519363Z",
     "shell.execute_reply": "2024-05-04T12:13:15.518437Z"
    },
    "papermill": {
     "duration": 0.22838,
     "end_time": "2024-05-04T12:13:15.521715",
     "exception": false,
     "start_time": "2024-05-04T12:13:15.293335",
     "status": "completed"
    },
    "tags": []
   },
   "outputs": [],
   "source": [
    "# the part of data that we will use as training.\n",
    "train = train.loc[:, [\"Open\"]].values\n",
    "\n",
    "# Defining range for Scaling.\n",
    "from sklearn.preprocessing import MinMaxScaler\n",
    "scaler = MinMaxScaler(feature_range=(0, 1))\n",
    "train_scaled = scaler.fit_transform(train)"
   ]
  },
  {
   "cell_type": "code",
   "execution_count": 10,
   "id": "c21cac64",
   "metadata": {
    "execution": {
     "iopub.execute_input": "2024-05-04T12:13:15.539962Z",
     "iopub.status.busy": "2024-05-04T12:13:15.539041Z",
     "iopub.status.idle": "2024-05-04T12:13:15.547353Z",
     "shell.execute_reply": "2024-05-04T12:13:15.546297Z"
    },
    "papermill": {
     "duration": 0.019702,
     "end_time": "2024-05-04T12:13:15.549613",
     "exception": false,
     "start_time": "2024-05-04T12:13:15.529911",
     "status": "completed"
    },
    "tags": []
   },
   "outputs": [],
   "source": [
    "end_len = len(train_scaled)\n",
    "X_train = []\n",
    "y_train = []\n",
    "timesteps = 40\n",
    "\n",
    "# Splitting the data into \"X\" and \"Y\" terms.\n",
    "for i in range(timesteps, end_len):\n",
    "    X_train.append(train_scaled[i - timesteps:i, 0])\n",
    "    y_train.append(train_scaled[i, 0])\n",
    "X_train, y_train = np.array(X_train), np.array(y_train)"
   ]
  },
  {
   "cell_type": "code",
   "execution_count": 11,
   "id": "c3c8a3c4",
   "metadata": {
    "execution": {
     "iopub.execute_input": "2024-05-04T12:13:15.567608Z",
     "iopub.status.busy": "2024-05-04T12:13:15.567202Z",
     "iopub.status.idle": "2024-05-04T12:13:15.572670Z",
     "shell.execute_reply": "2024-05-04T12:13:15.571674Z"
    },
    "papermill": {
     "duration": 0.0172,
     "end_time": "2024-05-04T12:13:15.574924",
     "exception": false,
     "start_time": "2024-05-04T12:13:15.557724",
     "status": "completed"
    },
    "tags": []
   },
   "outputs": [
    {
     "name": "stdout",
     "output_type": "stream",
     "text": [
      "X_train -->  (1446, 40, 1)\n",
      "y_train shape -->  (1446,)\n"
     ]
    }
   ],
   "source": [
    "# Reshaping the data as per as our need.\n",
    "X_train = np.reshape(X_train, (X_train.shape[0], X_train.shape[1], 1))\n",
    "print(\"X_train --> \", X_train.shape)\n",
    "print(\"y_train shape --> \", y_train.shape)"
   ]
  },
  {
   "cell_type": "markdown",
   "id": "14fc5ddb",
   "metadata": {
    "papermill": {
     "duration": 0.007728,
     "end_time": "2024-05-04T12:13:15.590706",
     "exception": false,
     "start_time": "2024-05-04T12:13:15.582978",
     "status": "completed"
    },
    "tags": []
   },
   "source": [
    "# Buliding RNN model.\n"
   ]
  },
  {
   "cell_type": "code",
   "execution_count": 12,
   "id": "c5d07f18",
   "metadata": {
    "execution": {
     "iopub.execute_input": "2024-05-04T12:13:15.608600Z",
     "iopub.status.busy": "2024-05-04T12:13:15.608205Z",
     "iopub.status.idle": "2024-05-04T12:13:27.950046Z",
     "shell.execute_reply": "2024-05-04T12:13:27.948555Z"
    },
    "papermill": {
     "duration": 12.353719,
     "end_time": "2024-05-04T12:13:27.952653",
     "exception": false,
     "start_time": "2024-05-04T12:13:15.598934",
     "status": "completed"
    },
    "tags": []
   },
   "outputs": [
    {
     "name": "stderr",
     "output_type": "stream",
     "text": [
      "2024-05-04 12:13:17.596294: E external/local_xla/xla/stream_executor/cuda/cuda_dnn.cc:9261] Unable to register cuDNN factory: Attempting to register factory for plugin cuDNN when one has already been registered\n",
      "2024-05-04 12:13:17.596425: E external/local_xla/xla/stream_executor/cuda/cuda_fft.cc:607] Unable to register cuFFT factory: Attempting to register factory for plugin cuFFT when one has already been registered\n",
      "2024-05-04 12:13:17.734388: E external/local_xla/xla/stream_executor/cuda/cuda_blas.cc:1515] Unable to register cuBLAS factory: Attempting to register factory for plugin cuBLAS when one has already been registered\n"
     ]
    }
   ],
   "source": [
    "from keras.models import Sequential\n",
    "from keras.layers import Dense\n",
    "from keras.layers import SimpleRNN\n",
    "from keras.layers import Dropout"
   ]
  },
  {
   "cell_type": "code",
   "execution_count": 13,
   "id": "728b2d0b",
   "metadata": {
    "execution": {
     "iopub.execute_input": "2024-05-04T12:13:27.971734Z",
     "iopub.status.busy": "2024-05-04T12:13:27.970898Z",
     "iopub.status.idle": "2024-05-04T12:13:28.157822Z",
     "shell.execute_reply": "2024-05-04T12:13:28.155432Z"
    },
    "papermill": {
     "duration": 0.199194,
     "end_time": "2024-05-04T12:13:28.160497",
     "exception": false,
     "start_time": "2024-05-04T12:13:27.961303",
     "status": "completed"
    },
    "tags": []
   },
   "outputs": [
    {
     "name": "stderr",
     "output_type": "stream",
     "text": [
      "/opt/conda/lib/python3.10/site-packages/keras/src/layers/rnn/rnn.py:204: UserWarning: Do not pass an `input_shape`/`input_dim` argument to a layer. When using Sequential models, prefer using an `Input(shape)` object as the first layer in the model instead.\n",
      "  super().__init__(**kwargs)\n"
     ]
    }
   ],
   "source": [
    "# Initialize a sequential model\n",
    "regressor = Sequential()  \n",
    "\n",
    "# Add the first SimpleRNN layer and add dropout regularization\n",
    "regressor.add(SimpleRNN(units=50, activation=\"tanh\", return_sequences=True, input_shape=(X_train.shape[1], 1)))\n",
    "regressor.add(Dropout(0.2))  \n",
    "\n",
    "# Add the second SimpleRNN layer and add dropout regularization\n",
    "regressor.add(SimpleRNN(units=50, activation=\"tanh\", return_sequences=True))\n",
    "regressor.add(Dropout(0.2))  # Add dropout regularization\n",
    "\n",
    "# Add the third SimpleRNN layer and add dropout regularization\n",
    "regressor.add(SimpleRNN(units=50, activation=\"tanh\", return_sequences=True))\n",
    "regressor.add(Dropout(0.2)) \n",
    "\n",
    "# Add the fourth SimpleRNN layer and add dropout regularization\n",
    "regressor.add(SimpleRNN(units=50))\n",
    "regressor.add(Dropout(0.2)) \n",
    "\n",
    "# Add the output layer\n",
    "regressor.add(Dense(units=1))\n"
   ]
  },
  {
   "cell_type": "markdown",
   "id": "1bc9e228",
   "metadata": {
    "papermill": {
     "duration": 0.008314,
     "end_time": "2024-05-04T12:13:28.177511",
     "exception": false,
     "start_time": "2024-05-04T12:13:28.169197",
     "status": "completed"
    },
    "tags": []
   },
   "source": [
    "# Compling the MODEL : "
   ]
  },
  {
   "cell_type": "markdown",
   "id": "e064d282",
   "metadata": {
    "papermill": {
     "duration": 0.008273,
     "end_time": "2024-05-04T12:13:28.194347",
     "exception": false,
     "start_time": "2024-05-04T12:13:28.186074",
     "status": "completed"
    },
    "tags": []
   },
   "source": [
    "Now we may define our optimizers in this case we are using **ADAM** with the loss function being \"**MSE (Mean Squared Error)**\":  "
   ]
  },
  {
   "cell_type": "code",
   "execution_count": 14,
   "id": "5ac2389b",
   "metadata": {
    "execution": {
     "iopub.execute_input": "2024-05-04T12:13:28.213146Z",
     "iopub.status.busy": "2024-05-04T12:13:28.212723Z",
     "iopub.status.idle": "2024-05-04T12:13:28.228957Z",
     "shell.execute_reply": "2024-05-04T12:13:28.228055Z"
    },
    "papermill": {
     "duration": 0.028507,
     "end_time": "2024-05-04T12:13:28.231558",
     "exception": false,
     "start_time": "2024-05-04T12:13:28.203051",
     "status": "completed"
    },
    "tags": []
   },
   "outputs": [],
   "source": [
    "regressor.compile(optimizer= \"adam\", loss = \"mean_squared_error\")"
   ]
  },
  {
   "cell_type": "markdown",
   "id": "834d0a71",
   "metadata": {
    "papermill": {
     "duration": 0.008296,
     "end_time": "2024-05-04T12:13:28.248382",
     "exception": false,
     "start_time": "2024-05-04T12:13:28.240086",
     "status": "completed"
    },
    "tags": []
   },
   "source": [
    "**Epochs** are the number of iterations we are gonna use to make our model read the data repeatedly and **batch size** is gonna be the size of data we are gonna be giving in our model."
   ]
  },
  {
   "cell_type": "code",
   "execution_count": 15,
   "id": "8866afd3",
   "metadata": {
    "execution": {
     "iopub.execute_input": "2024-05-04T12:13:28.267290Z",
     "iopub.status.busy": "2024-05-04T12:13:28.266505Z",
     "iopub.status.idle": "2024-05-04T12:13:28.271333Z",
     "shell.execute_reply": "2024-05-04T12:13:28.270206Z"
    },
    "papermill": {
     "duration": 0.016805,
     "end_time": "2024-05-04T12:13:28.273513",
     "exception": false,
     "start_time": "2024-05-04T12:13:28.256708",
     "status": "completed"
    },
    "tags": []
   },
   "outputs": [],
   "source": [
    "epochs = 100 \n",
    "batch_size = 20"
   ]
  },
  {
   "cell_type": "markdown",
   "id": "f1b1764f",
   "metadata": {
    "papermill": {
     "duration": 0.007978,
     "end_time": "2024-05-04T12:13:28.290024",
     "exception": false,
     "start_time": "2024-05-04T12:13:28.282046",
     "status": "completed"
    },
    "tags": []
   },
   "source": [
    "### We are fitting the model now in to our Regressor model also known as the process of training the model. "
   ]
  },
  {
   "cell_type": "code",
   "execution_count": 16,
   "id": "5574646a",
   "metadata": {
    "execution": {
     "iopub.execute_input": "2024-05-04T12:13:28.308379Z",
     "iopub.status.busy": "2024-05-04T12:13:28.307968Z",
     "iopub.status.idle": "2024-05-04T12:17:23.830309Z",
     "shell.execute_reply": "2024-05-04T12:17:23.829424Z"
    },
    "papermill": {
     "duration": 235.534906,
     "end_time": "2024-05-04T12:17:23.833317",
     "exception": false,
     "start_time": "2024-05-04T12:13:28.298411",
     "status": "completed"
    },
    "tags": []
   },
   "outputs": [
    {
     "name": "stdout",
     "output_type": "stream",
     "text": [
      "Epoch 1/100\n",
      "\u001b[1m73/73\u001b[0m \u001b[32m━━━━━━━━━━━━━━━━━━━━\u001b[0m\u001b[37m\u001b[0m \u001b[1m6s\u001b[0m 26ms/step - loss: 0.3453\n",
      "Epoch 2/100\n",
      "\u001b[1m73/73\u001b[0m \u001b[32m━━━━━━━━━━━━━━━━━━━━\u001b[0m\u001b[37m\u001b[0m \u001b[1m2s\u001b[0m 26ms/step - loss: 0.1674\n",
      "Epoch 3/100\n",
      "\u001b[1m73/73\u001b[0m \u001b[32m━━━━━━━━━━━━━━━━━━━━\u001b[0m\u001b[37m\u001b[0m \u001b[1m3s\u001b[0m 26ms/step - loss: 0.0773\n",
      "Epoch 4/100\n",
      "\u001b[1m73/73\u001b[0m \u001b[32m━━━━━━━━━━━━━━━━━━━━\u001b[0m\u001b[37m\u001b[0m \u001b[1m2s\u001b[0m 31ms/step - loss: 0.0528\n",
      "Epoch 5/100\n",
      "\u001b[1m73/73\u001b[0m \u001b[32m━━━━━━━━━━━━━━━━━━━━\u001b[0m\u001b[37m\u001b[0m \u001b[1m2s\u001b[0m 26ms/step - loss: 0.0434\n",
      "Epoch 6/100\n",
      "\u001b[1m73/73\u001b[0m \u001b[32m━━━━━━━━━━━━━━━━━━━━\u001b[0m\u001b[37m\u001b[0m \u001b[1m2s\u001b[0m 25ms/step - loss: 0.0323\n",
      "Epoch 7/100\n",
      "\u001b[1m73/73\u001b[0m \u001b[32m━━━━━━━━━━━━━━━━━━━━\u001b[0m\u001b[37m\u001b[0m \u001b[1m2s\u001b[0m 26ms/step - loss: 0.0283\n",
      "Epoch 8/100\n",
      "\u001b[1m73/73\u001b[0m \u001b[32m━━━━━━━━━━━━━━━━━━━━\u001b[0m\u001b[37m\u001b[0m \u001b[1m3s\u001b[0m 26ms/step - loss: 0.0253\n",
      "Epoch 9/100\n",
      "\u001b[1m73/73\u001b[0m \u001b[32m━━━━━━━━━━━━━━━━━━━━\u001b[0m\u001b[37m\u001b[0m \u001b[1m2s\u001b[0m 26ms/step - loss: 0.0199\n",
      "Epoch 10/100\n",
      "\u001b[1m73/73\u001b[0m \u001b[32m━━━━━━━━━━━━━━━━━━━━\u001b[0m\u001b[37m\u001b[0m \u001b[1m3s\u001b[0m 26ms/step - loss: 0.0170\n",
      "Epoch 11/100\n",
      "\u001b[1m73/73\u001b[0m \u001b[32m━━━━━━━━━━━━━━━━━━━━\u001b[0m\u001b[37m\u001b[0m \u001b[1m3s\u001b[0m 26ms/step - loss: 0.0175\n",
      "Epoch 12/100\n",
      "\u001b[1m73/73\u001b[0m \u001b[32m━━━━━━━━━━━━━━━━━━━━\u001b[0m\u001b[37m\u001b[0m \u001b[1m2s\u001b[0m 26ms/step - loss: 0.0156\n",
      "Epoch 13/100\n",
      "\u001b[1m73/73\u001b[0m \u001b[32m━━━━━━━━━━━━━━━━━━━━\u001b[0m\u001b[37m\u001b[0m \u001b[1m3s\u001b[0m 27ms/step - loss: 0.0114\n",
      "Epoch 14/100\n",
      "\u001b[1m73/73\u001b[0m \u001b[32m━━━━━━━━━━━━━━━━━━━━\u001b[0m\u001b[37m\u001b[0m \u001b[1m3s\u001b[0m 26ms/step - loss: 0.0117\n",
      "Epoch 15/100\n",
      "\u001b[1m73/73\u001b[0m \u001b[32m━━━━━━━━━━━━━━━━━━━━\u001b[0m\u001b[37m\u001b[0m \u001b[1m2s\u001b[0m 26ms/step - loss: 0.0102\n",
      "Epoch 16/100\n",
      "\u001b[1m73/73\u001b[0m \u001b[32m━━━━━━━━━━━━━━━━━━━━\u001b[0m\u001b[37m\u001b[0m \u001b[1m2s\u001b[0m 26ms/step - loss: 0.0107\n",
      "Epoch 17/100\n",
      "\u001b[1m73/73\u001b[0m \u001b[32m━━━━━━━━━━━━━━━━━━━━\u001b[0m\u001b[37m\u001b[0m \u001b[1m3s\u001b[0m 28ms/step - loss: 0.0096\n",
      "Epoch 18/100\n",
      "\u001b[1m73/73\u001b[0m \u001b[32m━━━━━━━━━━━━━━━━━━━━\u001b[0m\u001b[37m\u001b[0m \u001b[1m3s\u001b[0m 29ms/step - loss: 0.0083\n",
      "Epoch 19/100\n",
      "\u001b[1m73/73\u001b[0m \u001b[32m━━━━━━━━━━━━━━━━━━━━\u001b[0m\u001b[37m\u001b[0m \u001b[1m2s\u001b[0m 26ms/step - loss: 0.0078\n",
      "Epoch 20/100\n",
      "\u001b[1m73/73\u001b[0m \u001b[32m━━━━━━━━━━━━━━━━━━━━\u001b[0m\u001b[37m\u001b[0m \u001b[1m3s\u001b[0m 26ms/step - loss: 0.0084\n",
      "Epoch 21/100\n",
      "\u001b[1m73/73\u001b[0m \u001b[32m━━━━━━━━━━━━━━━━━━━━\u001b[0m\u001b[37m\u001b[0m \u001b[1m2s\u001b[0m 26ms/step - loss: 0.0069\n",
      "Epoch 22/100\n",
      "\u001b[1m73/73\u001b[0m \u001b[32m━━━━━━━━━━━━━━━━━━━━\u001b[0m\u001b[37m\u001b[0m \u001b[1m2s\u001b[0m 25ms/step - loss: 0.0069\n",
      "Epoch 23/100\n",
      "\u001b[1m73/73\u001b[0m \u001b[32m━━━━━━━━━━━━━━━━━━━━\u001b[0m\u001b[37m\u001b[0m \u001b[1m3s\u001b[0m 26ms/step - loss: 0.0061\n",
      "Epoch 24/100\n",
      "\u001b[1m73/73\u001b[0m \u001b[32m━━━━━━━━━━━━━━━━━━━━\u001b[0m\u001b[37m\u001b[0m \u001b[1m2s\u001b[0m 26ms/step - loss: 0.0054\n",
      "Epoch 25/100\n",
      "\u001b[1m73/73\u001b[0m \u001b[32m━━━━━━━━━━━━━━━━━━━━\u001b[0m\u001b[37m\u001b[0m \u001b[1m2s\u001b[0m 27ms/step - loss: 0.0059\n",
      "Epoch 26/100\n",
      "\u001b[1m73/73\u001b[0m \u001b[32m━━━━━━━━━━━━━━━━━━━━\u001b[0m\u001b[37m\u001b[0m \u001b[1m2s\u001b[0m 26ms/step - loss: 0.0054\n",
      "Epoch 27/100\n",
      "\u001b[1m73/73\u001b[0m \u001b[32m━━━━━━━━━━━━━━━━━━━━\u001b[0m\u001b[37m\u001b[0m \u001b[1m2s\u001b[0m 25ms/step - loss: 0.0058\n",
      "Epoch 28/100\n",
      "\u001b[1m73/73\u001b[0m \u001b[32m━━━━━━━━━━━━━━━━━━━━\u001b[0m\u001b[37m\u001b[0m \u001b[1m3s\u001b[0m 25ms/step - loss: 0.0053\n",
      "Epoch 29/100\n",
      "\u001b[1m73/73\u001b[0m \u001b[32m━━━━━━━━━━━━━━━━━━━━\u001b[0m\u001b[37m\u001b[0m \u001b[1m2s\u001b[0m 25ms/step - loss: 0.0046\n",
      "Epoch 30/100\n",
      "\u001b[1m73/73\u001b[0m \u001b[32m━━━━━━━━━━━━━━━━━━━━\u001b[0m\u001b[37m\u001b[0m \u001b[1m2s\u001b[0m 27ms/step - loss: 0.0045\n",
      "Epoch 31/100\n",
      "\u001b[1m73/73\u001b[0m \u001b[32m━━━━━━━━━━━━━━━━━━━━\u001b[0m\u001b[37m\u001b[0m \u001b[1m2s\u001b[0m 27ms/step - loss: 0.0048\n",
      "Epoch 32/100\n",
      "\u001b[1m73/73\u001b[0m \u001b[32m━━━━━━━━━━━━━━━━━━━━\u001b[0m\u001b[37m\u001b[0m \u001b[1m2s\u001b[0m 30ms/step - loss: 0.0044\n",
      "Epoch 33/100\n",
      "\u001b[1m73/73\u001b[0m \u001b[32m━━━━━━━━━━━━━━━━━━━━\u001b[0m\u001b[37m\u001b[0m \u001b[1m2s\u001b[0m 26ms/step - loss: 0.0051\n",
      "Epoch 34/100\n",
      "\u001b[1m73/73\u001b[0m \u001b[32m━━━━━━━━━━━━━━━━━━━━\u001b[0m\u001b[37m\u001b[0m \u001b[1m3s\u001b[0m 27ms/step - loss: 0.0041\n",
      "Epoch 35/100\n",
      "\u001b[1m73/73\u001b[0m \u001b[32m━━━━━━━━━━━━━━━━━━━━\u001b[0m\u001b[37m\u001b[0m \u001b[1m2s\u001b[0m 26ms/step - loss: 0.0039\n",
      "Epoch 36/100\n",
      "\u001b[1m73/73\u001b[0m \u001b[32m━━━━━━━━━━━━━━━━━━━━\u001b[0m\u001b[37m\u001b[0m \u001b[1m3s\u001b[0m 26ms/step - loss: 0.0040\n",
      "Epoch 37/100\n",
      "\u001b[1m73/73\u001b[0m \u001b[32m━━━━━━━━━━━━━━━━━━━━\u001b[0m\u001b[37m\u001b[0m \u001b[1m3s\u001b[0m 26ms/step - loss: 0.0040\n",
      "Epoch 38/100\n",
      "\u001b[1m73/73\u001b[0m \u001b[32m━━━━━━━━━━━━━━━━━━━━\u001b[0m\u001b[37m\u001b[0m \u001b[1m3s\u001b[0m 26ms/step - loss: 0.0037\n",
      "Epoch 39/100\n",
      "\u001b[1m73/73\u001b[0m \u001b[32m━━━━━━━━━━━━━━━━━━━━\u001b[0m\u001b[37m\u001b[0m \u001b[1m3s\u001b[0m 26ms/step - loss: 0.0036\n",
      "Epoch 40/100\n",
      "\u001b[1m73/73\u001b[0m \u001b[32m━━━━━━━━━━━━━━━━━━━━\u001b[0m\u001b[37m\u001b[0m \u001b[1m2s\u001b[0m 26ms/step - loss: 0.0037\n",
      "Epoch 41/100\n",
      "\u001b[1m73/73\u001b[0m \u001b[32m━━━━━━━━━━━━━━━━━━━━\u001b[0m\u001b[37m\u001b[0m \u001b[1m3s\u001b[0m 26ms/step - loss: 0.0035\n",
      "Epoch 42/100\n",
      "\u001b[1m73/73\u001b[0m \u001b[32m━━━━━━━━━━━━━━━━━━━━\u001b[0m\u001b[37m\u001b[0m \u001b[1m3s\u001b[0m 26ms/step - loss: 0.0034\n",
      "Epoch 43/100\n",
      "\u001b[1m73/73\u001b[0m \u001b[32m━━━━━━━━━━━━━━━━━━━━\u001b[0m\u001b[37m\u001b[0m \u001b[1m2s\u001b[0m 27ms/step - loss: 0.0037\n",
      "Epoch 44/100\n",
      "\u001b[1m73/73\u001b[0m \u001b[32m━━━━━━━━━━━━━━━━━━━━\u001b[0m\u001b[37m\u001b[0m \u001b[1m2s\u001b[0m 26ms/step - loss: 0.0033\n",
      "Epoch 45/100\n",
      "\u001b[1m73/73\u001b[0m \u001b[32m━━━━━━━━━━━━━━━━━━━━\u001b[0m\u001b[37m\u001b[0m \u001b[1m2s\u001b[0m 26ms/step - loss: 0.0032\n",
      "Epoch 46/100\n",
      "\u001b[1m73/73\u001b[0m \u001b[32m━━━━━━━━━━━━━━━━━━━━\u001b[0m\u001b[37m\u001b[0m \u001b[1m2s\u001b[0m 30ms/step - loss: 0.0028\n",
      "Epoch 47/100\n",
      "\u001b[1m73/73\u001b[0m \u001b[32m━━━━━━━━━━━━━━━━━━━━\u001b[0m\u001b[37m\u001b[0m \u001b[1m2s\u001b[0m 26ms/step - loss: 0.0030\n",
      "Epoch 48/100\n",
      "\u001b[1m73/73\u001b[0m \u001b[32m━━━━━━━━━━━━━━━━━━━━\u001b[0m\u001b[37m\u001b[0m \u001b[1m3s\u001b[0m 25ms/step - loss: 0.0034\n",
      "Epoch 49/100\n",
      "\u001b[1m73/73\u001b[0m \u001b[32m━━━━━━━━━━━━━━━━━━━━\u001b[0m\u001b[37m\u001b[0m \u001b[1m2s\u001b[0m 25ms/step - loss: 0.0032\n",
      "Epoch 50/100\n",
      "\u001b[1m73/73\u001b[0m \u001b[32m━━━━━━━━━━━━━━━━━━━━\u001b[0m\u001b[37m\u001b[0m \u001b[1m3s\u001b[0m 26ms/step - loss: 0.0026\n",
      "Epoch 51/100\n",
      "\u001b[1m73/73\u001b[0m \u001b[32m━━━━━━━━━━━━━━━━━━━━\u001b[0m\u001b[37m\u001b[0m \u001b[1m3s\u001b[0m 27ms/step - loss: 0.0025\n",
      "Epoch 52/100\n",
      "\u001b[1m73/73\u001b[0m \u001b[32m━━━━━━━━━━━━━━━━━━━━\u001b[0m\u001b[37m\u001b[0m \u001b[1m2s\u001b[0m 26ms/step - loss: 0.0027\n",
      "Epoch 53/100\n",
      "\u001b[1m73/73\u001b[0m \u001b[32m━━━━━━━━━━━━━━━━━━━━\u001b[0m\u001b[37m\u001b[0m \u001b[1m3s\u001b[0m 26ms/step - loss: 0.0025\n",
      "Epoch 54/100\n",
      "\u001b[1m73/73\u001b[0m \u001b[32m━━━━━━━━━━━━━━━━━━━━\u001b[0m\u001b[37m\u001b[0m \u001b[1m3s\u001b[0m 26ms/step - loss: 0.0022\n",
      "Epoch 55/100\n",
      "\u001b[1m73/73\u001b[0m \u001b[32m━━━━━━━━━━━━━━━━━━━━\u001b[0m\u001b[37m\u001b[0m \u001b[1m3s\u001b[0m 26ms/step - loss: 0.0029\n",
      "Epoch 56/100\n",
      "\u001b[1m73/73\u001b[0m \u001b[32m━━━━━━━━━━━━━━━━━━━━\u001b[0m\u001b[37m\u001b[0m \u001b[1m2s\u001b[0m 26ms/step - loss: 0.0027\n",
      "Epoch 57/100\n",
      "\u001b[1m73/73\u001b[0m \u001b[32m━━━━━━━━━━━━━━━━━━━━\u001b[0m\u001b[37m\u001b[0m \u001b[1m2s\u001b[0m 26ms/step - loss: 0.0026\n",
      "Epoch 58/100\n",
      "\u001b[1m73/73\u001b[0m \u001b[32m━━━━━━━━━━━━━━━━━━━━\u001b[0m\u001b[37m\u001b[0m \u001b[1m3s\u001b[0m 26ms/step - loss: 0.0028\n",
      "Epoch 59/100\n",
      "\u001b[1m73/73\u001b[0m \u001b[32m━━━━━━━━━━━━━━━━━━━━\u001b[0m\u001b[37m\u001b[0m \u001b[1m3s\u001b[0m 29ms/step - loss: 0.0026\n",
      "Epoch 60/100\n",
      "\u001b[1m73/73\u001b[0m \u001b[32m━━━━━━━━━━━━━━━━━━━━\u001b[0m\u001b[37m\u001b[0m \u001b[1m2s\u001b[0m 26ms/step - loss: 0.0024\n",
      "Epoch 61/100\n",
      "\u001b[1m73/73\u001b[0m \u001b[32m━━━━━━━━━━━━━━━━━━━━\u001b[0m\u001b[37m\u001b[0m \u001b[1m2s\u001b[0m 25ms/step - loss: 0.0023\n",
      "Epoch 62/100\n",
      "\u001b[1m73/73\u001b[0m \u001b[32m━━━━━━━━━━━━━━━━━━━━\u001b[0m\u001b[37m\u001b[0m \u001b[1m3s\u001b[0m 25ms/step - loss: 0.0022\n",
      "Epoch 63/100\n",
      "\u001b[1m73/73\u001b[0m \u001b[32m━━━━━━━━━━━━━━━━━━━━\u001b[0m\u001b[37m\u001b[0m \u001b[1m2s\u001b[0m 26ms/step - loss: 0.0024\n",
      "Epoch 64/100\n",
      "\u001b[1m73/73\u001b[0m \u001b[32m━━━━━━━━━━━━━━━━━━━━\u001b[0m\u001b[37m\u001b[0m \u001b[1m3s\u001b[0m 26ms/step - loss: 0.0025\n",
      "Epoch 65/100\n",
      "\u001b[1m73/73\u001b[0m \u001b[32m━━━━━━━━━━━━━━━━━━━━\u001b[0m\u001b[37m\u001b[0m \u001b[1m2s\u001b[0m 25ms/step - loss: 0.0018\n",
      "Epoch 66/100\n",
      "\u001b[1m73/73\u001b[0m \u001b[32m━━━━━━━━━━━━━━━━━━━━\u001b[0m\u001b[37m\u001b[0m \u001b[1m2s\u001b[0m 25ms/step - loss: 0.0021\n",
      "Epoch 67/100\n",
      "\u001b[1m73/73\u001b[0m \u001b[32m━━━━━━━━━━━━━━━━━━━━\u001b[0m\u001b[37m\u001b[0m \u001b[1m3s\u001b[0m 25ms/step - loss: 0.0023\n",
      "Epoch 68/100\n",
      "\u001b[1m73/73\u001b[0m \u001b[32m━━━━━━━━━━━━━━━━━━━━\u001b[0m\u001b[37m\u001b[0m \u001b[1m2s\u001b[0m 24ms/step - loss: 0.0023\n",
      "Epoch 69/100\n",
      "\u001b[1m73/73\u001b[0m \u001b[32m━━━━━━━━━━━━━━━━━━━━\u001b[0m\u001b[37m\u001b[0m \u001b[1m2s\u001b[0m 25ms/step - loss: 0.0021\n",
      "Epoch 70/100\n",
      "\u001b[1m73/73\u001b[0m \u001b[32m━━━━━━━━━━━━━━━━━━━━\u001b[0m\u001b[37m\u001b[0m \u001b[1m3s\u001b[0m 24ms/step - loss: 0.0020\n",
      "Epoch 71/100\n",
      "\u001b[1m73/73\u001b[0m \u001b[32m━━━━━━━━━━━━━━━━━━━━\u001b[0m\u001b[37m\u001b[0m \u001b[1m2s\u001b[0m 25ms/step - loss: 0.0027\n",
      "Epoch 72/100\n",
      "\u001b[1m73/73\u001b[0m \u001b[32m━━━━━━━━━━━━━━━━━━━━\u001b[0m\u001b[37m\u001b[0m \u001b[1m2s\u001b[0m 24ms/step - loss: 0.0022\n",
      "Epoch 73/100\n",
      "\u001b[1m73/73\u001b[0m \u001b[32m━━━━━━━━━━━━━━━━━━━━\u001b[0m\u001b[37m\u001b[0m \u001b[1m3s\u001b[0m 30ms/step - loss: 0.0020\n",
      "Epoch 74/100\n",
      "\u001b[1m73/73\u001b[0m \u001b[32m━━━━━━━━━━━━━━━━━━━━\u001b[0m\u001b[37m\u001b[0m \u001b[1m2s\u001b[0m 26ms/step - loss: 0.0020\n",
      "Epoch 75/100\n",
      "\u001b[1m73/73\u001b[0m \u001b[32m━━━━━━━━━━━━━━━━━━━━\u001b[0m\u001b[37m\u001b[0m \u001b[1m2s\u001b[0m 25ms/step - loss: 0.0021\n",
      "Epoch 76/100\n",
      "\u001b[1m73/73\u001b[0m \u001b[32m━━━━━━━━━━━━━━━━━━━━\u001b[0m\u001b[37m\u001b[0m \u001b[1m2s\u001b[0m 26ms/step - loss: 0.0018\n",
      "Epoch 77/100\n",
      "\u001b[1m73/73\u001b[0m \u001b[32m━━━━━━━━━━━━━━━━━━━━\u001b[0m\u001b[37m\u001b[0m \u001b[1m3s\u001b[0m 26ms/step - loss: 0.0020\n",
      "Epoch 78/100\n",
      "\u001b[1m73/73\u001b[0m \u001b[32m━━━━━━━━━━━━━━━━━━━━\u001b[0m\u001b[37m\u001b[0m \u001b[1m2s\u001b[0m 25ms/step - loss: 0.0017\n",
      "Epoch 79/100\n",
      "\u001b[1m73/73\u001b[0m \u001b[32m━━━━━━━━━━━━━━━━━━━━\u001b[0m\u001b[37m\u001b[0m \u001b[1m3s\u001b[0m 26ms/step - loss: 0.0020\n",
      "Epoch 80/100\n",
      "\u001b[1m73/73\u001b[0m \u001b[32m━━━━━━━━━━━━━━━━━━━━\u001b[0m\u001b[37m\u001b[0m \u001b[1m2s\u001b[0m 25ms/step - loss: 0.0021\n",
      "Epoch 81/100\n",
      "\u001b[1m73/73\u001b[0m \u001b[32m━━━━━━━━━━━━━━━━━━━━\u001b[0m\u001b[37m\u001b[0m \u001b[1m2s\u001b[0m 24ms/step - loss: 0.0020\n",
      "Epoch 82/100\n",
      "\u001b[1m73/73\u001b[0m \u001b[32m━━━━━━━━━━━━━━━━━━━━\u001b[0m\u001b[37m\u001b[0m \u001b[1m3s\u001b[0m 25ms/step - loss: 0.0018\n",
      "Epoch 83/100\n",
      "\u001b[1m73/73\u001b[0m \u001b[32m━━━━━━━━━━━━━━━━━━━━\u001b[0m\u001b[37m\u001b[0m \u001b[1m2s\u001b[0m 24ms/step - loss: 0.0023\n",
      "Epoch 84/100\n",
      "\u001b[1m73/73\u001b[0m \u001b[32m━━━━━━━━━━━━━━━━━━━━\u001b[0m\u001b[37m\u001b[0m \u001b[1m3s\u001b[0m 24ms/step - loss: 0.0022\n",
      "Epoch 85/100\n",
      "\u001b[1m73/73\u001b[0m \u001b[32m━━━━━━━━━━━━━━━━━━━━\u001b[0m\u001b[37m\u001b[0m \u001b[1m2s\u001b[0m 26ms/step - loss: 0.0019\n",
      "Epoch 86/100\n",
      "\u001b[1m73/73\u001b[0m \u001b[32m━━━━━━━━━━━━━━━━━━━━\u001b[0m\u001b[37m\u001b[0m \u001b[1m3s\u001b[0m 25ms/step - loss: 0.0019\n",
      "Epoch 87/100\n",
      "\u001b[1m73/73\u001b[0m \u001b[32m━━━━━━━━━━━━━━━━━━━━\u001b[0m\u001b[37m\u001b[0m \u001b[1m3s\u001b[0m 27ms/step - loss: 0.0017\n",
      "Epoch 88/100\n",
      "\u001b[1m73/73\u001b[0m \u001b[32m━━━━━━━━━━━━━━━━━━━━\u001b[0m\u001b[37m\u001b[0m \u001b[1m2s\u001b[0m 26ms/step - loss: 0.0018\n",
      "Epoch 89/100\n",
      "\u001b[1m73/73\u001b[0m \u001b[32m━━━━━━━━━━━━━━━━━━━━\u001b[0m\u001b[37m\u001b[0m \u001b[1m3s\u001b[0m 25ms/step - loss: 0.0021\n",
      "Epoch 90/100\n",
      "\u001b[1m73/73\u001b[0m \u001b[32m━━━━━━━━━━━━━━━━━━━━\u001b[0m\u001b[37m\u001b[0m \u001b[1m3s\u001b[0m 27ms/step - loss: 0.0020\n",
      "Epoch 91/100\n",
      "\u001b[1m73/73\u001b[0m \u001b[32m━━━━━━━━━━━━━━━━━━━━\u001b[0m\u001b[37m\u001b[0m \u001b[1m2s\u001b[0m 25ms/step - loss: 0.0017\n",
      "Epoch 92/100\n",
      "\u001b[1m73/73\u001b[0m \u001b[32m━━━━━━━━━━━━━━━━━━━━\u001b[0m\u001b[37m\u001b[0m \u001b[1m2s\u001b[0m 25ms/step - loss: 0.0018\n",
      "Epoch 93/100\n",
      "\u001b[1m73/73\u001b[0m \u001b[32m━━━━━━━━━━━━━━━━━━━━\u001b[0m\u001b[37m\u001b[0m \u001b[1m2s\u001b[0m 25ms/step - loss: 0.0020\n",
      "Epoch 94/100\n",
      "\u001b[1m73/73\u001b[0m \u001b[32m━━━━━━━━━━━━━━━━━━━━\u001b[0m\u001b[37m\u001b[0m \u001b[1m3s\u001b[0m 25ms/step - loss: 0.0018\n",
      "Epoch 95/100\n",
      "\u001b[1m73/73\u001b[0m \u001b[32m━━━━━━━━━━━━━━━━━━━━\u001b[0m\u001b[37m\u001b[0m \u001b[1m2s\u001b[0m 26ms/step - loss: 0.0016\n",
      "Epoch 96/100\n",
      "\u001b[1m73/73\u001b[0m \u001b[32m━━━━━━━━━━━━━━━━━━━━\u001b[0m\u001b[37m\u001b[0m \u001b[1m2s\u001b[0m 25ms/step - loss: 0.0019\n",
      "Epoch 97/100\n",
      "\u001b[1m73/73\u001b[0m \u001b[32m━━━━━━━━━━━━━━━━━━━━\u001b[0m\u001b[37m\u001b[0m \u001b[1m3s\u001b[0m 26ms/step - loss: 0.0018\n",
      "Epoch 98/100\n",
      "\u001b[1m73/73\u001b[0m \u001b[32m━━━━━━━━━━━━━━━━━━━━\u001b[0m\u001b[37m\u001b[0m \u001b[1m3s\u001b[0m 25ms/step - loss: 0.0018\n",
      "Epoch 99/100\n",
      "\u001b[1m73/73\u001b[0m \u001b[32m━━━━━━━━━━━━━━━━━━━━\u001b[0m\u001b[37m\u001b[0m \u001b[1m3s\u001b[0m 26ms/step - loss: 0.0017\n",
      "Epoch 100/100\n",
      "\u001b[1m73/73\u001b[0m \u001b[32m━━━━━━━━━━━━━━━━━━━━\u001b[0m\u001b[37m\u001b[0m \u001b[1m3s\u001b[0m 29ms/step - loss: 0.0018\n"
     ]
    },
    {
     "data": {
      "text/plain": [
       "<keras.src.callbacks.history.History at 0x7a4984605ab0>"
      ]
     },
     "execution_count": 16,
     "metadata": {},
     "output_type": "execute_result"
    }
   ],
   "source": [
    "regressor.fit(X_train, y_train, epochs = epochs, batch_size = batch_size)"
   ]
  },
  {
   "cell_type": "code",
   "execution_count": 17,
   "id": "648b8030",
   "metadata": {
    "execution": {
     "iopub.execute_input": "2024-05-04T12:17:24.310169Z",
     "iopub.status.busy": "2024-05-04T12:17:24.309470Z",
     "iopub.status.idle": "2024-05-04T12:17:24.322589Z",
     "shell.execute_reply": "2024-05-04T12:17:24.321472Z"
    },
    "papermill": {
     "duration": 0.254638,
     "end_time": "2024-05-04T12:17:24.324893",
     "exception": false,
     "start_time": "2024-05-04T12:17:24.070255",
     "status": "completed"
    },
    "tags": []
   },
   "outputs": [
    {
     "data": {
      "text/html": [
       "<div>\n",
       "<style scoped>\n",
       "    .dataframe tbody tr th:only-of-type {\n",
       "        vertical-align: middle;\n",
       "    }\n",
       "\n",
       "    .dataframe tbody tr th {\n",
       "        vertical-align: top;\n",
       "    }\n",
       "\n",
       "    .dataframe thead th {\n",
       "        text-align: right;\n",
       "    }\n",
       "</style>\n",
       "<table border=\"1\" class=\"dataframe\">\n",
       "  <thead>\n",
       "    <tr style=\"text-align: right;\">\n",
       "      <th></th>\n",
       "      <th>Date</th>\n",
       "      <th>Open</th>\n",
       "      <th>High</th>\n",
       "      <th>Low</th>\n",
       "      <th>Close</th>\n",
       "      <th>Volume</th>\n",
       "      <th>OpenInt</th>\n",
       "    </tr>\n",
       "  </thead>\n",
       "  <tbody>\n",
       "    <tr>\n",
       "      <th>1486</th>\n",
       "      <td>2016-05-24</td>\n",
       "      <td>216.60</td>\n",
       "      <td>218.74</td>\n",
       "      <td>215.18</td>\n",
       "      <td>217.91</td>\n",
       "      <td>2928659</td>\n",
       "      <td>0</td>\n",
       "    </tr>\n",
       "    <tr>\n",
       "      <th>1487</th>\n",
       "      <td>2016-05-25</td>\n",
       "      <td>217.91</td>\n",
       "      <td>221.36</td>\n",
       "      <td>216.51</td>\n",
       "      <td>219.58</td>\n",
       "      <td>2514028</td>\n",
       "      <td>0</td>\n",
       "    </tr>\n",
       "    <tr>\n",
       "      <th>1488</th>\n",
       "      <td>2016-05-26</td>\n",
       "      <td>220.50</td>\n",
       "      <td>225.26</td>\n",
       "      <td>219.05</td>\n",
       "      <td>225.12</td>\n",
       "      <td>3560997</td>\n",
       "      <td>0</td>\n",
       "    </tr>\n",
       "    <tr>\n",
       "      <th>1489</th>\n",
       "      <td>2016-05-27</td>\n",
       "      <td>224.99</td>\n",
       "      <td>225.93</td>\n",
       "      <td>220.75</td>\n",
       "      <td>223.04</td>\n",
       "      <td>3081734</td>\n",
       "      <td>0</td>\n",
       "    </tr>\n",
       "    <tr>\n",
       "      <th>1490</th>\n",
       "      <td>2016-05-31</td>\n",
       "      <td>223.04</td>\n",
       "      <td>224.75</td>\n",
       "      <td>221.50</td>\n",
       "      <td>223.23</td>\n",
       "      <td>2046828</td>\n",
       "      <td>0</td>\n",
       "    </tr>\n",
       "  </tbody>\n",
       "</table>\n",
       "</div>"
      ],
      "text/plain": [
       "            Date    Open    High     Low   Close   Volume  OpenInt\n",
       "1486  2016-05-24  216.60  218.74  215.18  217.91  2928659        0\n",
       "1487  2016-05-25  217.91  221.36  216.51  219.58  2514028        0\n",
       "1488  2016-05-26  220.50  225.26  219.05  225.12  3560997        0\n",
       "1489  2016-05-27  224.99  225.93  220.75  223.04  3081734        0\n",
       "1490  2016-05-31  223.04  224.75  221.50  223.23  2046828        0"
      ]
     },
     "execution_count": 17,
     "metadata": {},
     "output_type": "execute_result"
    }
   ],
   "source": [
    "test.head()"
   ]
  },
  {
   "cell_type": "markdown",
   "id": "75194d19",
   "metadata": {
    "papermill": {
     "duration": 0.23616,
     "end_time": "2024-05-04T12:17:24.792678",
     "exception": false,
     "start_time": "2024-05-04T12:17:24.556518",
     "status": "completed"
    },
    "tags": []
   },
   "source": [
    "# Defining actual price of our data."
   ]
  },
  {
   "cell_type": "code",
   "execution_count": 18,
   "id": "6236237e",
   "metadata": {
    "execution": {
     "iopub.execute_input": "2024-05-04T12:17:25.316000Z",
     "iopub.status.busy": "2024-05-04T12:17:25.315325Z",
     "iopub.status.idle": "2024-05-04T12:17:25.321277Z",
     "shell.execute_reply": "2024-05-04T12:17:25.320377Z"
    },
    "papermill": {
     "duration": 0.240071,
     "end_time": "2024-05-04T12:17:25.323076",
     "exception": false,
     "start_time": "2024-05-04T12:17:25.083005",
     "status": "completed"
    },
    "tags": []
   },
   "outputs": [
    {
     "name": "stdout",
     "output_type": "stream",
     "text": [
      "Real Price Shape -->  (372, 1)\n"
     ]
    }
   ],
   "source": [
    "real_price = test.loc[:, [\"Open\"]].values\n",
    "print(\"Real Price Shape --> \", real_price.shape)"
   ]
  },
  {
   "cell_type": "code",
   "execution_count": 19,
   "id": "c766fefd",
   "metadata": {
    "execution": {
     "iopub.execute_input": "2024-05-04T12:17:25.790903Z",
     "iopub.status.busy": "2024-05-04T12:17:25.790350Z",
     "iopub.status.idle": "2024-05-04T12:17:25.795948Z",
     "shell.execute_reply": "2024-05-04T12:17:25.795215Z"
    },
    "papermill": {
     "duration": 0.240959,
     "end_time": "2024-05-04T12:17:25.797954",
     "exception": false,
     "start_time": "2024-05-04T12:17:25.556995",
     "status": "completed"
    },
    "tags": []
   },
   "outputs": [],
   "source": [
    "# Concatenate the \"Open\" values from data and test datasets\n",
    "dataset_total = pd.concat((data[\"Open\"], test[\"Open\"]), axis=0)\n",
    "\n",
    "# Extract inputs for the test dataset with consideration of timesteps\n",
    "inputs = dataset_total[len(dataset_total) - len(test) - timesteps:].values.reshape(-1, 1)\n",
    "\n",
    "# Transform inputs using the previously fitted scaler\n",
    "inputs = scaler.transform(inputs)\n"
   ]
  },
  {
   "cell_type": "code",
   "execution_count": 20,
   "id": "568ed327",
   "metadata": {
    "execution": {
     "iopub.execute_input": "2024-05-04T12:17:26.263163Z",
     "iopub.status.busy": "2024-05-04T12:17:26.262594Z",
     "iopub.status.idle": "2024-05-04T12:17:26.268512Z",
     "shell.execute_reply": "2024-05-04T12:17:26.267490Z"
    },
    "papermill": {
     "duration": 0.240755,
     "end_time": "2024-05-04T12:17:26.270430",
     "exception": false,
     "start_time": "2024-05-04T12:17:26.029675",
     "status": "completed"
    },
    "tags": []
   },
   "outputs": [
    {
     "name": "stdout",
     "output_type": "stream",
     "text": [
      "X_test shape -->  (372, 40)\n"
     ]
    }
   ],
   "source": [
    "# Initialize an empty list to store test input sequences\n",
    "X_test = []\n",
    "\n",
    "# Iterate over the range to create input sequences\n",
    "for i in range(timesteps, 412):\n",
    "    X_test.append(inputs[i - timesteps : i, 0])\n",
    "\n",
    "# Convert the list of sequences into a numpy array\n",
    "X_test = np.array(X_test)\n",
    "\n",
    "# Print the shape of the X_test array\n",
    "print(\"X_test shape --> \", X_test.shape)\n"
   ]
  },
  {
   "cell_type": "code",
   "execution_count": 21,
   "id": "4404c45a",
   "metadata": {
    "execution": {
     "iopub.execute_input": "2024-05-04T12:17:26.737560Z",
     "iopub.status.busy": "2024-05-04T12:17:26.737161Z",
     "iopub.status.idle": "2024-05-04T12:17:27.750018Z",
     "shell.execute_reply": "2024-05-04T12:17:27.749094Z"
    },
    "papermill": {
     "duration": 1.249982,
     "end_time": "2024-05-04T12:17:27.752340",
     "exception": false,
     "start_time": "2024-05-04T12:17:26.502358",
     "status": "completed"
    },
    "tags": []
   },
   "outputs": [
    {
     "name": "stdout",
     "output_type": "stream",
     "text": [
      "\u001b[1m12/12\u001b[0m \u001b[32m━━━━━━━━━━━━━━━━━━━━\u001b[0m\u001b[37m\u001b[0m \u001b[1m1s\u001b[0m 47ms/step\n"
     ]
    }
   ],
   "source": [
    "# Reshape X_test to match the input shape required by the model\n",
    "X_test = np.reshape(X_test, (X_test.shape[0], X_test.shape[1], 1))\n",
    "\n",
    "# Make predictions using the trained regressor model\n",
    "predict = regressor.predict(X_test)\n",
    "\n",
    "# Inverse transform the predictions to original scale\n",
    "predict = scaler.inverse_transform(predict)"
   ]
  },
  {
   "cell_type": "markdown",
   "id": "37025438",
   "metadata": {
    "papermill": {
     "duration": 0.287285,
     "end_time": "2024-05-04T12:17:28.272700",
     "exception": false,
     "start_time": "2024-05-04T12:17:27.985415",
     "status": "completed"
    },
    "tags": []
   },
   "source": [
    "# Plotting the \"Results\"."
   ]
  },
  {
   "cell_type": "code",
   "execution_count": 22,
   "id": "e7248287",
   "metadata": {
    "execution": {
     "iopub.execute_input": "2024-05-04T12:17:28.741774Z",
     "iopub.status.busy": "2024-05-04T12:17:28.741144Z",
     "iopub.status.idle": "2024-05-04T12:17:29.037820Z",
     "shell.execute_reply": "2024-05-04T12:17:29.036946Z"
    },
    "papermill": {
     "duration": 0.534444,
     "end_time": "2024-05-04T12:17:29.040126",
     "exception": false,
     "start_time": "2024-05-04T12:17:28.505682",
     "status": "completed"
    },
    "tags": []
   },
   "outputs": [
    {
     "data": {
      "image/png": "[encoded data removed]",
      "text/plain": [
       "<Figure size 640x480 with 1 Axes>"
      ]
     },
     "metadata": {},
     "output_type": "display_data"
    }
   ],
   "source": [
    "plt.plot(real_price, color = \"orange\", label = \"Real Stock Price\")\n",
    "plt.plot(predict, color = \"black\", label = \"Predict Stock Price\")\n",
    "plt.title(\"Stock Price Prediction\")\n",
    "plt.xlabel(\"Time\")\n",
    "plt.ylabel(\"Tesla Stock Price\")\n",
    "plt.legend()\n",
    "plt.show()"
   ]
  },
  {
   "cell_type": "code",
   "execution_count": null,
   "id": "cfa5f25d",
   "metadata": {
    "papermill": {
     "duration": 0.235574,
     "end_time": "2024-05-04T12:17:29.514867",
     "exception": false,
     "start_time": "2024-05-04T12:17:29.279293",
     "status": "completed"
    },
    "tags": []
   },
   "outputs": [],
   "source": []
  }
 ],
 "metadata": {
  "kaggle": {
   "accelerator": "none",
   "dataSources": [
    {
     "datasetId": 4538,
     "sourceId": 7213,
     "sourceType": "datasetVersion"
    }
   ],
   "dockerImageVersionId": 30698,
   "isGpuEnabled": false,
   "isInternetEnabled": false,
   "language": "python",
   "sourceType": "notebook"
  },
  "kernelspec": {
   "display_name": "Python 3",
   "language": "python",
   "name": "python3"
  },
  "language_info": {
   "codemirror_mode": {
    "name": "ipython",
    "version": 3
   },
   "file_extension": ".py",
   "mimetype": "text/x-python",
   "name": "python",
   "nbconvert_exporter": "python",
   "pygments_lexer": "ipython3",
   "version": "3.10.13"
  },
  "papermill": {
   "default_parameters": {},
   "duration": 261.040183,
   "end_time": "2024-05-04T12:17:31.474636",
   "environment_variables": {},
   "exception": null,
   "input_path": "__notebook__.ipynb",
   "output_path": "__notebook__.ipynb",
   "parameters": {},
   "start_time": "2024-05-04T12:13:10.434453",
   "version": "2.5.0"
  }
 },
 "nbformat": 4,
 "nbformat_minor": 5
}
